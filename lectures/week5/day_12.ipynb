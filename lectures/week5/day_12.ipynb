{
 "cells": [
  {
   "cell_type": "markdown",
   "metadata": {},
   "source": [
    "# Internal Structure of Giant and Icy Planets\n",
    "\n",
    "Notes based on Chapter from The Handbook of Exoplanets [here](https://rdcu.be/d57nl). \n",
    "\n",
    "**Friday, Feb. 14, 2025**\n",
    "\n",
    "_astrophysics of stars and planets - spring 2025 - university of arizona, steward observatory_\n",
    "\n",
    "## Today's Agenda\n",
    "\n",
    "1. Announcements (2m)\n",
    "2. Reading Overview/Key Points (5m)\n",
    "3. In-Class Activity 11  (25m)\n",
    "4. Debrief/Reminders (2m)"
   ]
  },
  {
   "cell_type": "markdown",
   "metadata": {},
   "source": [
    "## Giant Planet Structure\n",
    "\n",
    "The interiors of Jupiter and Saturn are modeled assuming the existence of a **distinct heavy-element core** which is surrounded by an envelope divided into an **inner helium and heavy element-rich layer** and an **outer envelope which is helium poor and less enriched with heavy elements**. For a review on these details see [Fortney and Nettelmann 2010](https://arxiv.org/pdf/0912.0533).\n",
    "\n",
    "Helium rain, the condensation of helium into droplets and leading to the relase of latent heat has been proposed to explain Saturn's high thermal emssion. But, these and other details of the interior rely on the exact location which He rain other other conditions occur. \n",
    "\n",
    "\n",
    "**Phase Diagram of H/He mixture:**\n",
    "\n",
    "```{image} ./phase_diagram.jpg\n",
    ":align: center\n",
    ":width: 75%\n",
    ":name: phase_diagram\n",
    "```\n",
    "\n",
    "\n",
    "**Credit: Guillot and Gautier (2014)** The orange region shows the region of the H-He separation as derived by Lorenzen et al. (2011). The red curve shows the critical temperature for that separation according to Morales et al. (2013). Numerical and experimental results by Schouten et al. (1991) and Loubeyre et al. (1991) are also presented. The back curves show the isentropes of Jupiter (plain) and Saturn (dashed), respectively.\n",
    "\n",
    "\n",
    "Models for Jupiter suggest a core of less than about 10$M_{\\oplus}$ and a core mass of up to 20 10$M_{\\oplus}$ for Saturn. \n",
    "\n",
    "**Schematic Diagram of Jupiter and Saturn**\n",
    "\n",
    "```{image} ./giant_planets_interior.jpg\n",
    ":align: center\n",
    ":width: 75%\n",
    ":name: giant_planets_interior\n",
    "```\n",
    "\n",
    "**Credit: Interior views of Jupiter and Saturn, from calculations with the Saumon et al. (1995) “chemical picture” H/He EOS.**\n",
    "\n",
    "### Closer look at the cores\n",
    "\n",
    "Recently, new estimates for Jupiter’s gravitational field were determined by the Juno spacecraft (Bolton et al. 2017). Interior models of Jupiter that fit thedata suggest that another feasible solution for Jupiter is the existence of a **diluted core**. \n",
    "\n",
    "Jupiter’s core is no longer viewed as a pureheavy-element central region with a density discontinuity at the core-envelope boundary, but as a diluted core which is a more extended region, and can also consist of lighter elements.\n",
    "\n",
    "### Composition Gradients\n",
    "\n",
    "Composition gradients can also inhibit convection and affect the heat transport in giant planets.\n",
    "\n",
    "**Layered convection** - convective mixing that can occur in regions that are stable according to the Ledoux criterion but unstable according to the Swcharzschild criterion.\n",
    "\n",
    "**Thermohaline (Fingering) Convection** - a process that drives the vertical transport of chemical elements in regions of stellar radiative zones where the mean molecular weight increases with radius. Requires the entropy to be stably stratified ($\\nabla-\\nabla_{\\rm{ad}}$<0, non-convective) but the composition gradient is unstably stratified ($\\nabla_{\\mu}$<0).\n",
    "\n",
    "```{image} ./thermohaline.jpg\n",
    ":align: center\n",
    ":width: 75%\n",
    ":name: thermohaline\n",
    "```\n",
    "\n",
    "**Credit: [Peter Z. Harrington and Pascale Garaud 2019 ApJL 870 L5](https://iopscience.iop.org/article/10.3847/2041-8213/aaf812#apjlaaf812f1)** - \n",
    "Visualizations of the vertical fluid velocity component in simulations of thermohaline. Increasing the strength of the vertical magnetic field (via HB) imparts greater vertical coherence to the fingering structures.\n",
    "\n",
    "\n",
    "**Semi-Convection** - oscillatory double-diffusive convection (ODD),entropy is unstably stratified, but chemical composition is stably stratified, semi-convection. \n",
    "\n",
    "\n",
    "```{image} ./giant_planets.jpg\n",
    ":align: center\n",
    ":width: 75%\n",
    ":name: giant_planets\n",
    "```\n",
    "\n",
    "Sketches of the internal structures of Jupiter, Saturn, Uranus, and Neptune as inferred from structure models. For each planet, we show two possible structures: one consisting of distinct layers and one with a gradual distribution of heavy elements."
   ]
  },
  {
   "cell_type": "markdown",
   "metadata": {},
   "source": [
    "## In-Class Assignment\n",
    "\n",
    "In-Class Assignment 11 is [here](../../assignments/ica11.ipynb)."
   ]
  }
 ],
 "metadata": {
  "kernelspec": {
   "display_name": "Python 3 (ipykernel)",
   "language": "python",
   "name": "python3"
  },
  "language_info": {
   "codemirror_mode": {
    "name": "ipython",
    "version": 3
   },
   "file_extension": ".py",
   "mimetype": "text/x-python",
   "name": "python",
   "nbconvert_exporter": "python",
   "pygments_lexer": "ipython3",
   "version": "3.11.8"
  }
 },
 "nbformat": 4,
 "nbformat_minor": 2
}
