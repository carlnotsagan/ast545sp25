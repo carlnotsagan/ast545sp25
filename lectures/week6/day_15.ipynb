{
 "cells": [
  {
   "cell_type": "markdown",
   "metadata": {},
   "source": [
    "# Stellar Modeling\n",
    "\n",
    "Notes based on HKT Chapter 7.1-7.2. \n",
    "\n",
    "_To err is human, but to really foul things up requires a computer._\n",
    "\n",
    "**Friday, Feb. 21, 2025**\n",
    "\n",
    "_astrophysics of stars and planets - spring 2025 - university of arizona, steward observatory_\n",
    "\n",
    "## Today's Agenda\n",
    "\n",
    "1. Announcements (2m)\n",
    "2. Reading Overview/Key Points (5m)\n",
    "3. ICA (25m)\n",
    "4. Debrief + Share Results (5m)"
   ]
  },
  {
   "cell_type": "markdown",
   "metadata": {},
   "source": [
    "## The Equations of Stellar Structure\n",
    "\n",
    "We begin with the need to construct a model that describes the pressure, density, temperature and luminosity and their derivatives:\n",
    "\n",
    "$$\n",
    "\\Large{\n",
    "P = P(\\rho,T,\\bf{X}) \\\\\n",
    "E = E(\\rho,T,\\bf{X}) \\\\\n",
    "\\kappa = \\kappa(\\rho,T,\\bf{X}) \\\\\n",
    "\\epsilon = \\epsilon(\\rho,T,\\bf{X})\n",
    "}\n",
    "$$\n",
    "\n",
    "where $\\bf{X}$ is shorthand for composition (as in a specification of nuclear species).\n",
    "\n",
    "\n",
    "```{image} ./stellar_structure.jpg\n",
    ":align: center\n",
    ":width: 75%\n",
    ":name: ss_eq\n",
    "```\n",
    "\n",
    "We also have our various $\\nabla$ relations leading to the creation of a fourth-order differential equation in space or mass requiring 4 boundary conditions. \n",
    "\n",
    "> How to solve these equations is not trival. But we can make some simplifications that lead to the use of Polytropes. **Polytropes** are pseudo-stellar models for which power law equations of pressure versus density are assumed a priori but where no reference to heat transfer or thermal balance is made."
   ]
  },
  {
   "cell_type": "markdown",
   "metadata": {},
   "source": [
    "## Polytropic Equations of State and Polytropes\n",
    "\n",
    "A polytropic stellar model is defined as\n",
    "\n",
    "\n",
    "````{prf:definition}\n",
    ":label: poly_P\n",
    "$$\n",
    "\\large\n",
    "P(r) = K \\rho^{1+1/2}(r)\n",
    "$$\n",
    "````\n",
    "\n",
    "where $n$ is the _polytropic index_ and K is a constant of proportionality. \n",
    "\n",
    "From Eqn 7.16-7.26 lead to the _Lane-Emden_ equation, \n",
    "\n",
    "\n",
    "a dimensionless form of Poisson's equation where $\\xi$ is a dimensionless radius and $\\theta$ relates to the density.\n",
    "\n",
    "\n",
    "Models corresponding to solutions of this equation for a chosen $n$ are called “polytropes of index n” and the solutions themselves are “Lane–Emden solutions” and are denoted by $\\theta_{n}(\\xi)$.\n",
    "\n",
    "Solutions to the LE equation are often restricted to $0\\lesssim n \\lesssim 5$.\n",
    "\n",
    "### Some relevant examples for Polytropes\n",
    "\n",
    "\n",
    "1. The pressure of the completely degenerate but nonrelativistic electron gas goes as $\\rho^{5/3}$. Hence, by the definition of the polytropic equation of state (7.16), $n$ for this case is 1.5 (or “a three-halves polytrope”).\n",
    "\n",
    "2. The density exponent for the fully relativistic case is 4/3 and thus $n = 3$ (or “an n equal three polytrope”).\n",
    "\n",
    "3. Recall that $P\\propto\\rho^{5/3}$ in an ideal gas convection zone. If no ionization is taking place (almost a contradiction for a real convection zone) then $\\Gamma_{2} = 5/3$ and $n = 3/2$ again.\n",
    "\n",
    "> These represent common scenarios for polytropes and rely on the conditions to which we are comparing.\n",
    "\n",
    "\n",
    "## Solving the Stellar Structure Equations\n",
    "\n",
    "Thorough discussion in [MESA 1 Section 6](https://iopscience.iop.org/article/10.1088/0067-0049/220/1/15) for more details. \n"
   ]
  },
  {
   "cell_type": "markdown",
   "metadata": {},
   "source": [
    "## In-Class Assignment 13\n",
    "\n",
    "In-Class Assignment 13 is [here](../../assignments/ica13.ipynb)."
   ]
  },
  {
   "cell_type": "code",
   "execution_count": null,
   "metadata": {},
   "outputs": [],
   "source": []
  }
 ],
 "metadata": {
  "kernelspec": {
   "display_name": "Python 3 (ipykernel)",
   "language": "python",
   "name": "python3"
  },
  "language_info": {
   "codemirror_mode": {
    "name": "ipython",
    "version": 3
   },
   "file_extension": ".py",
   "mimetype": "text/x-python",
   "name": "python",
   "nbconvert_exporter": "python",
   "pygments_lexer": "ipython3",
   "version": "3.11.8"
  }
 },
 "nbformat": 4,
 "nbformat_minor": 2
}
