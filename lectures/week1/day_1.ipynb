{
 "cells": [
  {
   "cell_type": "markdown",
   "metadata": {},
   "source": [
    "# Hydrostatic Equilibrium, Energy Principles, and the Virial Theorem \n",
    "\n",
    "**Friday, Jan. 17, 2025**\n",
    "\n",
    "_astrophysics of stars and planets - spring 2025 - university of arizona, steward observatory_\n",
    "\n",
    "## Today's Agenda\n",
    "\n",
    "1. Announcements / Recap (5m)\n",
    "1. PCA Discussion (10m)\n",
    "2. Reading Overview/Key Points (10m)\n",
    "3. In-Class Assignment (Groups of 2) (20m)\n",
    "4. Debrief on ICA (5m)"
   ]
  },
  {
   "cell_type": "markdown",
   "metadata": {},
   "source": [
    "# Hydrostatic Equilibrium\n",
    "\n",
    "Consider the following assumptions of an object:\n",
    "\n",
    "- spherically symmetric\n",
    "- nonrotating\n",
    "- nonmagnetic \n",
    "- single star on which there are \n",
    "- no net forces acting and, hence, no accelerations\n",
    "    \n",
    "    \n",
    "Then, we ask the question, how can we describe this \"star\" in equations?\n",
    "\n",
    "First, some convections:\n",
    "\n",
    "- **radius: $r$** is the radial distance measured from the stellar center (cm) \n",
    "- **density: $p(r)$** is the mass density at $r$ (g cm$^{-3}$) \n",
    "- **temperature: $T(r)$** is the temperature at $r$ (K) \n",
    "- **pressure: $P(r)$** is the pressure at $r$ (dyne cm$^{-2}$ = erg cm$^{-3}$) \n",
    "- **mass: $m(r)r$** is the mass contained within a sphere of radius $r$ (g) \n",
    "- **luminosity: $L(r)$**, the rate of energy How through a sphere at $r$ (erg s$^{-1}$) \n",
    "- **local gravity: $g(r)$** local acceleration due to gravity (cm s$^{-2}$) \n",
    "\n",
    "Following Eqns. (1.1) to (1.4), we arrive at the "
   ]
  },
  {
   "cell_type": "markdown",
   "metadata": {},
   "source": [
    "````{prf:definition}\n",
    ":label: hse1\n",
    "\n",
    "equation of hydrostatic (or mechanical) equilibrium (HSE)\n",
    "\n",
    "$$\n",
    "\\frac{dP}{dr} = -\\frac{Gm}{r^2}\\rho \\equiv -\\rho g\n",
    "$$\n",
    "````"
   ]
  },
  {
   "cell_type": "markdown",
   "metadata": {},
   "source": [
    "```{prf:observation}\n",
    ":label: my-observation\n",
    "\n",
    "Since $g,\\rho \\geq 0$, it follows that $\\frac{dP}{dr} \\leq 0$, and the pressure must decrease from the center outwards, everywhere.  \n",
    "```"
   ]
  },
  {
   "cell_type": "markdown",
   "metadata": {},
   "source": [
    "If this equation is violated, local acceleration must occur, the \"star\" is said be _out of HSE_."
   ]
  },
  {
   "cell_type": "markdown",
   "metadata": {},
   "source": [
    "# An Energy Principle"
   ]
  },
  {
   "cell_type": "markdown",
   "metadata": {},
   "source": [
    "We can start by defining the **total gravitational potential energy**.\n",
    "\n",
    "````{prf:definition}\n",
    ":label: gpe\n",
    "\n",
    "the total gravitational potential energy, $\\Omega$, of a self-gravitating body is defined as the negative of the total amount of energy required to disperse all mass elements of the body to infinity.\n",
    "\n",
    "$$\n",
    "\\Omega = -q \\frac{GM}{R} (\\textup{ergs})\n",
    "$$\n",
    "````\n",
    "\n",
    "where here, we have performed the integral over $r$ and $M$ and $R$ represent the total mass and radius of the star, respectively. For a uniform density sphere $q=3/5$.\n"
   ]
  },
  {
   "cell_type": "markdown",
   "metadata": {},
   "source": [
    "Next, consider the **total internal energy**\n",
    "\n",
    "````{prf:definition}\n",
    ":label: ie\n",
    "\n",
    "total internal energy arising from microscopic processes\n",
    "\n",
    "$$\n",
    "U = \\int_{m}E \\textup{d}m\n",
    "$$\n",
    "````"
   ]
  },
  {
   "cell_type": "markdown",
   "metadata": {},
   "source": [
    "After some math and application of the first and second laws of thermodynamics, we arrive at a similar conclusion regarding the assumptions we first made when we set out. \n",
    "\n",
    "The equation of HSE written in Lagrangian form (the independent variable is $dm$),\n",
    "\n",
    "$$\n",
    "\\frac{dP}{dm} = -\\frac{Gm}{4 \\pi r^4}~.\n",
    "$$\n",
    "\n",
    "In fact, we can use Eqn. 1.1 to recover the first definition for HSE - ({prf:ref}`hse1`). "
   ]
  },
  {
   "cell_type": "markdown",
   "metadata": {},
   "source": [
    "# The Virial Theorem\n",
    "\n",
    "Following the discussion in HKT 1.3, we arrived at a form of the Virial Theorem:\n",
    "\n",
    "````{prf:definition}\n",
    ":label: virial\n",
    "$$\n",
    "\\frac{1}{2}\\frac{dI^2}{dt^2} = 2K + \\Omega\n",
    "$$\n",
    "````\n",
    "\n",
    "where \n",
    "\n",
    "$K$ is twice the total of the kinetic energy and $\\Omega$ is the same as defined above ({prf:ref}`gpe`).\n",
    "\n",
    "```{prf:assumption}\n",
    "We note that the above definition assumes that the sums are over the entire star. \n",
    "```\n"
   ]
  },
  {
   "cell_type": "markdown",
   "metadata": {},
   "source": [
    "## In-Class Activity\n",
    "\n",
    "Head over to [ICA1](../../assignments/ica1.ipynb), work with the person next to you on 1.a-d."
   ]
  }
 ],
 "metadata": {
  "kernelspec": {
   "display_name": "Python 3 (ipykernel)",
   "language": "python",
   "name": "python3"
  },
  "language_info": {
   "codemirror_mode": {
    "name": "ipython",
    "version": 3
   },
   "file_extension": ".py",
   "mimetype": "text/x-python",
   "name": "python",
   "nbconvert_exporter": "python",
   "pygments_lexer": "ipython3",
   "version": "3.11.8"
  }
 },
 "nbformat": 4,
 "nbformat_minor": 2
}
