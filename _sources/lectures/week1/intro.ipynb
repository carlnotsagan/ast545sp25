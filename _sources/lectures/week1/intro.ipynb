{
 "cells": [
  {
   "cell_type": "markdown",
   "metadata": {
    "editable": true,
    "slideshow": {
     "slide_type": "slide"
    },
    "tags": []
   },
   "source": [
    "# Intro - Wednesday, Jan. 15, 2025\n",
    "\n",
    "astrophysics of stars and planets - spring 2025 - university of arizona, steward observatory"
   ]
  },
  {
   "cell_type": "markdown",
   "metadata": {
    "editable": true,
    "slideshow": {
     "slide_type": "slide"
    },
    "tags": []
   },
   "source": [
    "## Today's Agenda \n",
    "\n",
    "1. Welcome! (2m)\n",
    "2. Introductions (15m)\n",
    "3. Syllabus overview and discussion (15m)\n",
    "4. Course overview and expectations (15m)"
   ]
  },
  {
   "cell_type": "markdown",
   "metadata": {
    "editable": true,
    "slideshow": {
     "slide_type": "slide"
    },
    "tags": []
   },
   "source": [
    "## Introductions (15m)\n",
    "\n",
    "1. Name\n",
    "2. Undergrad institution\n",
    "3. Current research interest + current our potential advisor\n",
    "4. What you would like to learn in this course\n",
    "5. Hobbie(s) outside of astronomy\n",
    "\n",
    "$$ E = mc^2 $$"
   ]
  },
  {
   "cell_type": "markdown",
   "metadata": {
    "editable": true,
    "raw_mimetype": "",
    "slideshow": {
     "slide_type": "slide"
    },
    "tags": [
     "remove-stdout"
    ]
   },
   "source": [
    "## Syllabus overview and discussion (15m)\n",
    "\n",
    "\n",
    "Navigate to the course syllabus [here](../../syllabus.md)."
   ]
  },
  {
   "cell_type": "markdown",
   "metadata": {
    "editable": true,
    "slideshow": {
     "slide_type": "slide"
    },
    "tags": [
     "popout",
     "remove-input",
     "remove-stdout"
    ]
   },
   "source": [
    "## Course overview and expectations (15m)"
   ]
  },
  {
   "cell_type": "markdown",
   "metadata": {
    "editable": true,
    "slideshow": {
     "slide_type": "subslide"
    },
    "tags": [
     "popout",
     "remove-input",
     "remove-stdout"
    ]
   },
   "source": [
    "### Computing\n",
    "\n",
    "We will be using computing in the following ways."
   ]
  }
 ],
 "metadata": {
  "kernelspec": {
   "display_name": "Python 3 (ipykernel)",
   "language": "python",
   "name": "python3"
  },
  "language_info": {
   "codemirror_mode": {
    "name": "ipython",
    "version": 3
   },
   "file_extension": ".py",
   "mimetype": "text/x-python",
   "name": "python",
   "nbconvert_exporter": "python",
   "pygments_lexer": "ipython3",
   "version": "3.11.8"
  },
  "toc": {
   "base_numbering": 1,
   "nav_menu": {},
   "number_sections": false,
   "sideBar": true,
   "skip_h1_title": false,
   "title_cell": "Table of Contents",
   "title_sidebar": "Contents",
   "toc_cell": false,
   "toc_position": {},
   "toc_section_display": true,
   "toc_window_display": false
  }
 },
 "nbformat": 4,
 "nbformat_minor": 4
}
