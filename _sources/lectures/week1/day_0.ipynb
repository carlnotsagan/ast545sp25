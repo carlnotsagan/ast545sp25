{
 "cells": [
  {
   "cell_type": "markdown",
   "metadata": {
    "slideshow": {
     "slide_type": "slide"
    },
    "tags": []
   },
   "source": [
    "<!DOCTYPE html>\n",
    "<html>\n",
    "<body style=\"background-color:CadetBlue;\">\n",
    "\n",
    "# Intro\n",
    "\n",
    "astrophysics of stars and planets - spring 2025 - university of arizona, steward observatory\n",
    "\n",
    "</body>\n",
    "</html>"
   ]
  },
  {
   "cell_type": "markdown",
   "metadata": {
    "slideshow": {
     "slide_type": "slide"
    },
    "tags": []
   },
   "source": [
    "## Today's Agenda \n",
    "\n",
    "**Wednesday, Jan. 15, 2025**\n",
    "\n",
    "1. Welcome! (2m)\n",
    "2. Introductions (15m)\n",
    "3. Syllabus overview and discussion (15m)\n",
    "4. Course overview and expectations (15m)"
   ]
  },
  {
   "cell_type": "markdown",
   "metadata": {
    "slideshow": {
     "slide_type": "slide"
    },
    "tags": []
   },
   "source": [
    "## Introductions (15m)\n",
    "\n",
    "1. Name\n",
    "2. Undergrad institution\n",
    "3. Current research interest + current our potential advisor\n",
    "4. What you would like to learn in this course\n",
    "5. Hobbie(s) outside of astronomy"
   ]
  },
  {
   "cell_type": "markdown",
   "metadata": {
    "raw_mimetype": "",
    "slideshow": {
     "slide_type": "slide"
    },
    "tags": [
     "remove-stdout"
    ]
   },
   "source": [
    "## Syllabus overview and discussion (15m)\n",
    "\n",
    "\n",
    "Navigate to the course syllabus [here](../../syllabus.md)."
   ]
  },
  {
   "cell_type": "markdown",
   "metadata": {
    "slideshow": {
     "slide_type": "slide"
    },
    "tags": [
     "popout",
     "remove-input",
     "remove-stdout"
    ]
   },
   "source": [
    "## Course overview and expectations (15m)"
   ]
  },
  {
   "cell_type": "markdown",
   "metadata": {
    "slideshow": {
     "slide_type": "subslide"
    },
    "tags": [
     "popout",
     "remove-input",
     "remove-stdout"
    ]
   },
   "source": [
    "### Computing\n",
    "\n",
    "We will be using computing in the following ways."
   ]
  },
  {
   "cell_type": "markdown",
   "metadata": {
    "slideshow": {
     "slide_type": "subslide"
    },
    "tags": []
   },
   "source": [
    "Modules for Stellar Astrophysics (MESA): [more info here](https://docs.mesastar.org/en/24.08.1/quickstart.html)."
   ]
  },
  {
   "cell_type": "markdown",
   "metadata": {
    "slideshow": {
     "slide_type": "subslide"
    },
    "tags": []
   },
   "source": [
    "Jupyter Notebooks: [link to docs](https://jupyter.org/)"
   ]
  },
  {
   "cell_type": "markdown",
   "metadata": {
    "slideshow": {
     "slide_type": "slide"
    },
    "tags": []
   },
   "source": [
    "## Collaborative working environment\n",
    "\n",
    "- group work often\n",
    "- collaboration on assignments, projects, and reviews\n",
    "- helping each other with various aspects of computing!"
   ]
  },
  {
   "cell_type": "markdown",
   "metadata": {
    "slideshow": {
     "slide_type": "slide"
    },
    "tags": []
   },
   "source": [
    "## My asks\n",
    "\n",
    "- Be kind \n",
    "- Be patient\n",
    "- Be involved\n",
    "\n",
    "You will succeed in this course! Pre-course survey to go out soon, room in the schedule to add (or remove) different topics as we progress. "
   ]
  },
  {
   "cell_type": "markdown",
   "metadata": {
    "slideshow": {
     "slide_type": "slide"
    },
    "tags": []
   },
   "source": [
    "## Questions?\n",
    "\n",
    "First PCA is online on the course website, to be submitted via D2L."
   ]
  }
 ],
 "metadata": {
  "kernelspec": {
   "display_name": "Python 3 (ipykernel)",
   "language": "python",
   "name": "python3"
  },
  "language_info": {
   "codemirror_mode": {
    "name": "ipython",
    "version": 3
   },
   "file_extension": ".py",
   "mimetype": "text/x-python",
   "name": "python",
   "nbconvert_exporter": "python",
   "pygments_lexer": "ipython3",
   "version": "3.11.8"
  },
  "toc": {
   "base_numbering": 1,
   "nav_menu": {},
   "number_sections": false,
   "sideBar": true,
   "skip_h1_title": false,
   "title_cell": "Table of Contents",
   "title_sidebar": "Contents",
   "toc_cell": false,
   "toc_position": {},
   "toc_section_display": true,
   "toc_window_display": false
  }
 },
 "nbformat": 4,
 "nbformat_minor": 4
}
