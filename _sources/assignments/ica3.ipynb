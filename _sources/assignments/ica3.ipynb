{
 "cells": [
  {
   "cell_type": "markdown",
   "metadata": {
    "user_expressions": []
   },
   "source": [
    "# In-Class Assignment 3 \n",
    "\n",
    "## Exploring MESA models\n",
    "\n",
    "Let's look at the output from the [MESA stellar evolution code](https://docs.mesastar.org/) for 3 different mass progenitors: 1, 8, and 15 $M_\\odot$.\n",
    "These models were all created using [MESA Web](http://user.astro.wisc.edu/~townsend/static.php?ref=mesa-web-submit) a web-based interface to MESA\n",
    "for quick calculations.\n",
    "\n",
    "To read in these files, we use [py_mesa_reader](https://github.com/wmwolf/py_mesa_reader)\n",
    "\n",
    "````{note}\n",
    "`py_mesa_reader` is not available on PyPI, so it can be installed using `pip` as:\n",
    "```\n",
    "pip install git+https://github.com/wmwolf/py_mesa_reader\n",
    "```\n",
    "````\n",
    "\n",
    "**Credit: These exercises follow from work by Mike Zingale's computational lectures.**"
   ]
  },
  {
   "cell_type": "code",
   "execution_count": null,
   "metadata": {
    "tags": []
   },
   "outputs": [],
   "source": [
    "import numpy as np\n",
    "import matplotlib.pyplot as plt\n",
    "import mesa_reader as mr"
   ]
  },
  {
   "cell_type": "markdown",
   "metadata": {
    "user_expressions": []
   },
   "source": [
    "MESA provides 2 types of output: **profiles** and a **history**.  The profiles represent a snapshot of the start at one instance of time and give the stellar data as a function of radius or enclosed mass.  The history provides some global quantities as a function of time throughout the entire evolution of the star.  We'll use both.\n",
    "\n",
    "The model files are:\n",
    "\n",
    "* $1 M_\\odot$: [M1_default_profile8.data](data/week2/M1_default_profile8.data); [M1_default_profile218.data](data/week2/M1_default_profile218.data); [M1_default_trimmed_history.data](data/week2/M1_default_trimmed_history.data)\n",
    "\n",
    "* $8 M_\\odot$: [M8_basic_co_profile8.data](data/week2/M8_basic_co_profile8.data); [M8_basic_co_profile39.data](data/week2/M8_basic_co_profile39.data); [M8_basic_co_trimmed_history.data](data/week2/M8_basic_co_trimmed_history.data)\n",
    "\n",
    "* $15 M_\\odot$: [M15_aprox21_profile8.data](data/week2/M15_aprox21_profile8.data); [M15_aprox21_profile19.data](data/week2/M15_aprox21_profile19.data); [M15_aprox21_trimmed_history.data](data/week2/M15_aprox21_trimmed_history.data)\n",
    "\n",
    "To make the management easier, we'll create a container for each model that holds the history and profiles, processed by `py_mesa_reader`"
   ]
  },
  {
   "cell_type": "code",
   "execution_count": null,
   "metadata": {
    "tags": []
   },
   "outputs": [],
   "source": [
    "class Model:\n",
    "    def __init__(self, mass, profiles=None, history=None):\n",
    "        self.mass = mass\n",
    "        if history:\n",
    "            self.history = mr.MesaData(history)\n",
    "        self.profiles = []\n",
    "        if profiles:\n",
    "            for p in profiles:\n",
    "                self.profiles.append(mr.MesaData(p))"
   ]
  },
  {
   "cell_type": "markdown",
   "metadata": {
    "user_expressions": []
   },
   "source": [
    "Now read in all the data.  For each mass we have 2 profiles and 1 history.  The profiles were picked to roughly correspond to the midpoint of core H burning and core He burning."
   ]
  },
  {
   "cell_type": "code",
   "execution_count": null,
   "metadata": {
    "tags": []
   },
   "outputs": [],
   "source": [
    "models = []\n",
    "\n",
    "models.append(Model(1, profiles=[\"M1_default_profile8.data\",\n",
    "                                 \"M1_default_profile218.data\"],\n",
    "                    history=\"M1_default_trimmed_history.data\"))\n",
    "\n",
    "models.append(Model(8, profiles=[\"M8_basic_co_profile8.data\",\n",
    "                                 \"M8_basic_co_profile39.data\"],\n",
    "                    history=\"M8_basic_co_trimmed_history.data\"))\n",
    "\n",
    "models.append(Model(15, profiles=[\"M15_aprox21_profile8.data\",\n",
    "                                  \"M15_aprox21_profile19.data\"],\n",
    "                    history=\"M15_aprox21_trimmed_history.data\"))"
   ]
  },
  {
   "cell_type": "markdown",
   "metadata": {},
   "source": [
    "Next, we will use these data to make some plots from the readings."
   ]
  },
  {
   "cell_type": "markdown",
   "metadata": {
    "user_expressions": []
   },
   "source": [
    "## a \n",
    "\n",
    "### HR diagram\n",
    "\n",
    "Lets start with an HR diagram. Below are some possible steps to do that. For reference, here are some common commands working with [MESA-reader](https://billwolf.space/py_mesa_reader/MesaData.html) and [here](https://docs.mesastar.org/en/24.08.1/using_mesa/output.html#examples).\n",
    "\n",
    "**hint** an efficient way to see _which_ variables are available to plot is the Linux [less](https://www.geeksforgeeks.org/less-command-linux-examples/#) command and specifically using the `-S` option:"
   ]
  },
  {
   "cell_type": "markdown",
   "metadata": {},
   "source": [
    "```bash\n",
    "less -S M1_default_trimmed_history.data \n",
    "```\n"
   ]
  },
  {
   "cell_type": "code",
   "execution_count": null,
   "metadata": {
    "tags": []
   },
   "outputs": [],
   "source": [
    "# first, lets make sure we can access our data for a particular model history file\n",
    "#one_solar_mass_model = models[0] ## for model array [0,1,2]\n",
    "#one_solar_mass_model.history.Teff"
   ]
  },
  {
   "cell_type": "code",
   "execution_count": null,
   "metadata": {
    "user_expressions": []
   },
   "outputs": [],
   "source": [
    "# What other value do we need for the 1msun model history file to plot an HR diagram?\n",
    "# find that array here"
   ]
  },
  {
   "cell_type": "markdown",
   "metadata": {},
   "source": [
    "The `matplotlib` reference page is linked [here](https://matplotlib.org/stable/api/index.html)."
   ]
  },
  {
   "cell_type": "code",
   "execution_count": null,
   "metadata": {
    "tags": []
   },
   "outputs": [],
   "source": [
    "# Okay, now we have two arrays for the 1msun model\n",
    "# plot those data here. \n",
    "\n",
    "#fig, ax = plt.subplots()\n",
    "# ax.loglog( fill in here)"
   ]
  },
  {
   "cell_type": "code",
   "execution_count": null,
   "metadata": {},
   "outputs": [],
   "source": [
    "# Plot all three models on the same HR diagram here and add a legend.\n",
    "# Make sure your x-axis is going the correct direction!"
   ]
  },
  {
   "cell_type": "markdown",
   "metadata": {
    "user_expressions": []
   },
   "source": [
    "Can you identify the main sequence on this plot?\n",
    "\n",
    "We also see that only the 1 solar mass star \"finished' stellar evolution, winding up as a cooling white dwarf at the end -- the path it is following is essentially a line of constant radius, since the white dwarf does not contract as it cools (it is degenerate)."
   ]
  },
  {
   "cell_type": "markdown",
   "metadata": {
    "tags": []
   },
   "source": [
    "## b \n",
    "\n",
    "### Central evolution"
   ]
  },
  {
   "cell_type": "markdown",
   "metadata": {},
   "source": [
    "We want to plot the history of the evolution of the central conditions  in the $\\log \\rho$-$\\log T$ plane."
   ]
  },
  {
   "cell_type": "markdown",
   "metadata": {
    "tags": []
   },
   "source": [
    "Now we can plot the data"
   ]
  },
  {
   "cell_type": "code",
   "execution_count": null,
   "metadata": {},
   "outputs": [],
   "source": [
    "## in a similar way as above, plot the three stellar model history data, this time for the central density and \n",
    "# central temperature"
   ]
  },
  {
   "cell_type": "markdown",
   "metadata": {
    "user_expressions": []
   },
   "source": [
    "Note: The 1 solar mass star makes a transition from following $T \\approx \\rho^{1/3}$ to $\\rho = \\mbox{constant}$ when degeneracy kicks in - no density dependence!\n"
   ]
  },
  {
   "cell_type": "markdown",
   "metadata": {
    "tags": []
   },
   "source": [
    "## c\n",
    "\n",
    "### Main sequence lifetime\n",
    "\n",
    "We can estimate the main sequence lifetime just by looking for when the core H is all consumed."
   ]
  },
  {
   "cell_type": "code",
   "execution_count": null,
   "metadata": {},
   "outputs": [],
   "source": [
    "fig, ax = plt.subplots()\n",
    "ax.semilogx(# fill in here"
   ]
  },
  {
   "cell_type": "markdown",
   "metadata": {
    "user_expressions": []
   },
   "source": [
    "From this plot, we see that the main sequence lifetime of the 15 $M_\\odot$ star is $\\sim 6\\times 10^6$ yr, for the 8 $M_\\odot$ star $\\sim 2\\times 10^7$ yr, and for the 1 $M_\\odot$ star $\\sim 9\\times 10^9$ yr. Do these values match the rough estimates from HKT 1.88?"
   ]
  },
  {
   "cell_type": "code",
   "execution_count": null,
   "metadata": {},
   "outputs": [],
   "source": []
  }
 ],
 "metadata": {
  "kernelspec": {
   "display_name": "Python 3 (ipykernel)",
   "language": "python",
   "name": "python3"
  },
  "language_info": {
   "codemirror_mode": {
    "name": "ipython",
    "version": 3
   },
   "file_extension": ".py",
   "mimetype": "text/x-python",
   "name": "python",
   "nbconvert_exporter": "python",
   "pygments_lexer": "ipython3",
   "version": "3.11.8"
  }
 },
 "nbformat": 4,
 "nbformat_minor": 4
}
