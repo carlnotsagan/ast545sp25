{
 "cells": [
  {
   "cell_type": "markdown",
   "metadata": {
    "user_expressions": []
   },
   "source": [
    "# In-Class Assignment 11\n",
    "\n",
    "## Exploring Heat Transfer via Convection with MESA \n",
    "\n",
    "### Learning Objectives\n",
    "\n",
    "- identify convective and radiative regions using MESA models\n",
    "- explain time-dependent convective behavior using Kippenhahn diagrams\n",
    "- identify regions of thermohaline mixing"
   ]
  },
  {
   "cell_type": "markdown",
   "metadata": {},
   "source": [
    "To produce Kippenhahn plots later in this exercise, we use [mesaplot](https://github.com/rjfarmer/mesaplot)\n",
    "\n",
    "````{note}\n",
    "`py_mesa_reader` is not available on PyPI, so it can be installed using `pip` as:\n",
    "```\n",
    "pip install git+https://github.com/rjfarmer/mesaplot\n",
    "```\n",
    "````"
   ]
  },
  {
   "cell_type": "code",
   "execution_count": null,
   "metadata": {
    "tags": []
   },
   "outputs": [],
   "source": [
    "import numpy as np\n",
    "import matplotlib.pyplot as plt\n",
    "import pandas as pd\n",
    "import sys \n",
    "\n",
    "# this will be different for you, find its location using `pip show mesaplot`\n",
    "## sys.path.append('/opt/anaconda3/lib/python3.11/site-packages/mesaPlot') \n",
    "\n",
    "# note the capital `P`\n",
    "## import mesaPlot as mp"
   ]
  },
  {
   "cell_type": "markdown",
   "metadata": {
    "user_expressions": []
   },
   "source": [
    "Download the following model files locally. These are different files than from the other day!\n",
    "\n",
    "* Brown Dwarf Model - $0.03 M_\\odot/1 R_{\\rm{Jup}}$: [0p03Msun_1RJup_history_updated.data](data/week5/0p03Msun_1RJup_history_updated.data);\n",
    "                [0.03Msun_1RJup_profile.data](data/week5/0p03Msun_1RJup_profile.data);\n",
    "               \n",
    "* Massive Star Model - $M_{\\rm{ZAMS}} = 20 M_\\odot $: [20m_pre_ms_to_O_dep_history.data](data/week5/20m_pre_ms_to_O_dep_history.data);\n",
    "\n",
    "* Solar Model - $M_{\\rm{ZAMS}} = 1 M_\\odot $: [1m_thermohaline_history.data](data/week5/1m_thermohaline_history.data); [1m_thermohaline_profile.data](data/week5/1m_thermohaline_profile.data);\n",
    "                              "
   ]
  },
  {
   "cell_type": "code",
   "execution_count": null,
   "metadata": {},
   "outputs": [],
   "source": [
    "# load data and see which variables are available\n",
    "##bd_profile = pd.read_csv('0p03Msun_1RJup_profile.data',sep=r'\\s+',header=4)\n",
    "##bd_profile.columns\n",
    "\n",
    "##bd_history = pd.read_csv('0p03Msun_1RJup_history.data',sep=r'\\s+',header=4)\n",
    "##bd_history.columns"
   ]
  },
  {
   "cell_type": "code",
   "execution_count": null,
   "metadata": {},
   "outputs": [],
   "source": [
    "# example reading a variable from the profile data\n",
    "##bd_profile_gradr = bd_profile_gradr['gradr']\n",
    "##bd_profile_gradr\n",
    "\n",
    "##bd_history = pd.read_csv('0p03Msun_1RJup_history.data',sep=r'\\s+',header=4)\n",
    "##bd_history.columns"
   ]
  },
  {
   "cell_type": "markdown",
   "metadata": {},
   "source": [
    "## Convection in Brown Dwarfs\n",
    "\n",
    "Using the Brown Dwarf model MESA profile: \n",
    "\n",
    "### a. \n",
    "\n",
    "1. Plot the computed $\\nabla_{\\rm{ad}}$ and $\\nabla_{\\rm{rad}}$ from the MESA profile `gradr` as a function of mass.  \n",
    "\n",
    "> Where is the model convective? "
   ]
  },
  {
   "cell_type": "code",
   "execution_count": null,
   "metadata": {},
   "outputs": [],
   "source": [
    "## a results here"
   ]
  },
  {
   "cell_type": "markdown",
   "metadata": {},
   "source": [
    "### b. \n",
    "\n",
    "Now, using `mesaplot`, lets produce a Kippenhan diagram. \n",
    "\n",
    "1. Place `0.03Msun_1RJup_history.data` in a folder called `LOGS_brown_dwarf` for example.\n",
    "\n",
    "2. Rename the file to `history.data`. `mesaPlot` cannot take unique filenames. \n",
    "\n",
    "3. Load the history data by passing the path to `LOGS/brown_dwarf` to mesaPlot.\n",
    "\n",
    "4. Using these data, produce a Kippenhan plot below versus model number or age (`Kip2`). \n",
    "\n",
    "> Where is the model convective? Does it agree with `a`?"
   ]
  },
  {
   "cell_type": "code",
   "execution_count": null,
   "metadata": {},
   "outputs": [],
   "source": [
    "## b results here\n",
    "##m=mp.MESA()\n",
    "##p=mp.plot()\n",
    "##m.loadHistory(##\n",
    "##p.plotKip(##"
   ]
  },
  {
   "cell_type": "markdown",
   "metadata": {},
   "source": [
    "## Time-Evolution of Convection in Massive Stars\n",
    "\n",
    "Using the Massive Star model MESA history data: \n",
    "\n",
    "### c \n",
    "\n",
    "1. Place `20m_pre_ms_to_O_dep_history.data` in a folder called `LOGS_massive_star` for example.\n",
    "\n",
    "2. Rename the file to `history.data`. `mesaPlot` cannot take unique filenames. \n",
    "\n",
    "3. Load the history data by passing the path to `LOGS_massive_star` to mesaPlot.\n",
    "\n",
    "4. Using these data, produce a Kippenhan plot below versus model number or age (`Kip2`). \n",
    "\n",
    "> Where is the model convective? Does it agree with `a`?"
   ]
  },
  {
   "cell_type": "code",
   "execution_count": null,
   "metadata": {},
   "outputs": [],
   "source": [
    "## c results here"
   ]
  },
  {
   "cell_type": "markdown",
   "metadata": {},
   "source": [
    "## Time-Evolution of Different Convection Mechanisms in Low Mass Stars\n",
    "\n",
    "Using the Solar model MESA profile data: \n",
    "\n",
    "### d \n",
    "\n",
    "Plot $\\nabla_{\\rm{ad}}$ (`grada`), $\\nabla_{\\rm{T}}$ (`gradT`), B (`brunt_B`), and $\\nabla_{\\rm{L}}$ (`gradL`) as a function of mass (or radius). \n",
    "\n",
    "See [MESA Paper II](https://iopscience.iop.org/article/10.1088/0067-0049/208/1/4/pdf) Eq. 13.\n",
    "\n",
    "> Determine where the model is _convective_, _radiative_, and undergoing _thermohaline_ mixing. "
   ]
  },
  {
   "cell_type": "code",
   "execution_count": null,
   "metadata": {},
   "outputs": [],
   "source": [
    "### d results here"
   ]
  },
  {
   "cell_type": "markdown",
   "metadata": {},
   "source": [
    "### e \n",
    "\n",
    "> Confirm the results of d by creating a Kippenhahn plot using the 1M history data. "
   ]
  },
  {
   "cell_type": "code",
   "execution_count": null,
   "metadata": {},
   "outputs": [],
   "source": [
    "## e results here"
   ]
  }
 ],
 "metadata": {
  "kernelspec": {
   "display_name": "Python 3 (ipykernel)",
   "language": "python",
   "name": "python3"
  },
  "language_info": {
   "codemirror_mode": {
    "name": "ipython",
    "version": 3
   },
   "file_extension": ".py",
   "mimetype": "text/x-python",
   "name": "python",
   "nbconvert_exporter": "python",
   "pygments_lexer": "ipython3",
   "version": "3.11.8"
  }
 },
 "nbformat": 4,
 "nbformat_minor": 4
}
