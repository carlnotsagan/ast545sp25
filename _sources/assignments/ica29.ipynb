{
 "cells": [
  {
   "cell_type": "markdown",
   "metadata": {
    "user_expressions": []
   },
   "source": [
    "# In-Class Assignment 29\n",
    "\n",
    "**Note due for credit, in-class participation only**\n",
    "\n",
    "## Spectral Classification of Stars using Ultraviolet Spectra\n",
    "\n",
    "### Learning Objectives\n",
    "\n",
    "- learn to normalize flux from stellar spectra of stars\n",
    "- identify key characteristics of spectra to determine their classification\n",
    "- practice producing combined stellar spectra plots\n",
    "- practice working with spectral data"
   ]
  },
  {
   "cell_type": "code",
   "execution_count": null,
   "metadata": {
    "tags": []
   },
   "outputs": [],
   "source": [
    "import numpy as np\n",
    "import matplotlib.pyplot as plt\n",
    "import pandas as pd"
   ]
  },
  {
   "cell_type": "markdown",
   "metadata": {
    "user_expressions": []
   },
   "source": [
    "Download the following model files locally. These data were produced using obtained from the online MAST [archive](https://archive.stsci.edu/spec_class/search.php). They are of three main-sequence (V) stars of different spectral type. \n",
    "\n",
    "* Spectra 1: [spectra_1.txt](data/week14/spectra/spectra_1.txt);\n",
    "\n",
    "* Spectra 2: [spectra_2.txt](data/week14/spectra/spectra_2.txt);\n",
    "\n",
    "* Spectra 3: [spectra_3.txt](data/week14/spectra/spectra_3.txt);\n",
    "\n",
    "These data are described here, in particular their column labels are defined [here](https://archive.stsci.edu/iue/preview/mx_preview_info.html)."
   ]
  },
  {
   "cell_type": "code",
   "execution_count": null,
   "metadata": {},
   "outputs": [],
   "source": [
    "# load data and see which variables are available\n",
    "#spectra_1 = pd.read_table('spectra_1.txt',header=18,sep='\\s+')\n",
    "#spectra_2 = pd.read_table('spectra_2.txt',header=18,sep='\\s+')\n",
    "#spectra_3 = pd.read_table('spectra_3.txt',header=18,sep='\\s+')\n",
    "#spectra_1.head(5)"
   ]
  },
  {
   "cell_type": "markdown",
   "metadata": {},
   "source": [
    "## a. - Spectrum 1\n",
    "\n",
    "Below, we will work to identify characteristic properties of all of these spectra to make a determination as to the classification of the star. \n",
    "\n",
    "1. plot the wavelength (x-axis) vs. flux for spectra_1. You may want to change the figure size to help view the lines:\n",
    "\n",
    "```\n",
    "plt.figure(figsize=(12,8))\n",
    "```\n",
    "\n",
    "_Hint: you can access columns of table data using pandas with [`iloc`](https://pandas.pydata.org/docs/reference/api/pandas.DataFrame.iloc.html)._\n",
    "\n",
    "For example, one could access the first element or (row) of the second column using `iloc` as:\n",
    "\n",
    "```\n",
    "first_element_second_colummn = df.iloc[0, 1] # [row,column]\n",
    "```\n",
    "\n",
    "2. In this spectrum we want to identify two key line features, you may identify three, one of which is Lyman$-\\alpha$ but that is not the one we are interested in for this star.  \n",
    "\n",
    "Hint: A helpful reference for this question and the follow are Figure 2.6 from the [reading](https://www-degruyter-com.ezproxy3.library.arizona.edu/document/doi/10.1515/9781400833368-004/html).\n",
    "\n",
    "3. Label these features either using `axvline` or `annotate` and your guess for its spectral type. \n",
    "\n",
    "> What are the type line features you have identifed? What do they suggest is occuring for this star? What is the spectral classification most likely for this star? \n",
    "\n",
    "\n",
    "Super duper last hint:\n",
    "\n",
    "```{toggle}\n",
    "The features are at wavelength less than 2000 Angstrom and one is right next to the Lyman$-\\alpha$ line. \n",
    "```"
   ]
  },
  {
   "cell_type": "code",
   "execution_count": null,
   "metadata": {},
   "outputs": [],
   "source": [
    "## a results here"
   ]
  },
  {
   "cell_type": "markdown",
   "metadata": {},
   "source": [
    "## b. - Spectrum 2\n",
    "\n",
    "1. plot the wavelength vs. flux\n",
    "\n",
    "For this spectrum, it can be classified in the UV by it single, most significant absorption feature alone. \n",
    "\n",
    "2. label this feature.\n",
    "\n",
    "Hint: For this spectrum the UV is not the best range to classify, but based off of this feature, the lack of features at longer wavelengths, and the spectrum **not** being dominated by the same feature found in 1. We can make a best guess as to its type. \n",
    "\n",
    "> What spectral type does this spectrum suggest the star belongs to?"
   ]
  },
  {
   "cell_type": "code",
   "execution_count": null,
   "metadata": {},
   "outputs": [],
   "source": [
    "# b result here"
   ]
  },
  {
   "cell_type": "markdown",
   "metadata": {},
   "source": [
    "## c. - Spectrum 3\n",
    "\n",
    "1. plot the wavelength vs. flux\n",
    "\n",
    "Hint: the first thing we notice is the decrease in far (short wavelength) UV, due in part to this spectrum belonging to a cooler star. \n",
    "\n",
    "We want to identify **two** key absorption due a metal, well, actually a blending of the h and k lines of a metal found in the atmosphere for this class of stars. \n",
    "\n",
    "You can reference this table for one of the lines [here](https://physics.nist.gov/PhysRefData/Handbook/Tables/carbontable2.htm)\n",
    "\n",
    "2. label those absorption line\n",
    "\n",
    "> What spectral class doed this star probably belong to?"
   ]
  },
  {
   "cell_type": "markdown",
   "metadata": {},
   "source": [
    "## d. - Combine all spectra\n",
    "\n",
    "1. plot the wavelength vs. flux for all three spectra normalized by (either min or max of one of the spectrum)\n",
    "\n",
    "2. add integer shifts in to the spectra flux to move them up or down and place them in order according to decresing spectral type. \n",
    "\n",
    "> Compare to Fig 2.6"
   ]
  },
  {
   "cell_type": "code",
   "execution_count": null,
   "metadata": {},
   "outputs": [],
   "source": [
    "## d result here"
   ]
  }
 ],
 "metadata": {
  "kernelspec": {
   "display_name": "Python 3 (ipykernel)",
   "language": "python",
   "name": "python3"
  },
  "language_info": {
   "codemirror_mode": {
    "name": "ipython",
    "version": 3
   },
   "file_extension": ".py",
   "mimetype": "text/x-python",
   "name": "python",
   "nbconvert_exporter": "python",
   "pygments_lexer": "ipython3",
   "version": "3.11.8"
  }
 },
 "nbformat": 4,
 "nbformat_minor": 4
}
