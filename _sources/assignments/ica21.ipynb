{
 "cells": [
  {
   "cell_type": "markdown",
   "metadata": {
    "user_expressions": []
   },
   "source": [
    "# In-Class Assignment 21\n",
    "\n",
    "## Exploring the demographics of all confirmed exoplanets\n",
    "\n",
    "### Learning Objectives\n",
    "\n",
    "- Identify key classes of exoplanets in the a-M plane\n",
    "- Identify limits of different observational methods and observatories in this plane. \n",
    "- Explore the impact of the Stellar insolation flux on the radius of the exoplanet"
   ]
  },
  {
   "cell_type": "code",
   "execution_count": 1,
   "metadata": {
    "tags": []
   },
   "outputs": [],
   "source": [
    "import numpy as np\n",
    "import matplotlib.pyplot as plt\n",
    "import pandas as pd"
   ]
  },
  {
   "cell_type": "markdown",
   "metadata": {
    "user_expressions": []
   },
   "source": [
    "The data for today's example will include the composite data for all confirmed via the [NASA Exoplanet Archive](https://exoplanetarchive.ipac.caltech.edu/cgi-bin/TblView/nph-tblView?app=ExoTbls&config=PSCompPars).\n",
    "\n",
    "I have already done the query and downloaded the data for this example. Please download this table below:\n",
    "\n",
    "* All 5,687 confirmed exoplanets [all_exoplanets_so_far.csv](data/week11/all_exoplanets_so_far.csv)"
   ]
  },
  {
   "cell_type": "markdown",
   "metadata": {
    "user_expressions": []
   },
   "source": [
    "## a - Load the data and browse the available columns\n",
    "\n",
    "1. Similar to our past exercises, use `pandas` to load the data CSV table and look at some of the available columns. **use `header=30`** to skip header info.\n",
    "\n",
    "2. You can view some details about the available columns by calling the table after loading or opening the CSV file and looking at the header. \n",
    "\n",
    "3. Once loaded, plot the semi-major axis (x-axis) vs. planet mass (Mearth) (y-axis). \n",
    "    - Set the x-scale and y-scale to log base 10. \n",
    "    - Use the same axis limits as in the review paper below. \n",
    "\n",
    "4. Label the x-axis and y-axis appropriately. \n",
    "\n",
    "Over the next few problems, we will work to annotate this plot to identify different subclasses of exoplanets, observation methods and more. Our goal is to recreate Figure 1 from this [Review](https://www.annualreviews.org/content/journals/10.1146/annurev-astro-112420-020055)."
   ]
  },
  {
   "cell_type": "code",
   "execution_count": 2,
   "metadata": {},
   "outputs": [],
   "source": [
    "# a results here"
   ]
  },
  {
   "cell_type": "markdown",
   "metadata": {
    "tags": []
   },
   "source": [
    "## b - Hot Jupiters and Cold/Temperate Giants\n",
    "\n",
    "Use the PCA [reading](https://link.springer.com/referenceworkentry/10.1007/978-3-319-55333-7_154) and/or the above linked Review to help guide our labeling throughout the next sections:\n",
    "\n",
    "At each sub question we will add more text/annotation along the way. \n",
    "\n",
    "1. Reproduce the plot from (a) here - copy/paste.\n",
    "\n",
    "2. Label / annotate the approximate locations of \"Hot Jupiters\" and \"Cold Temperate Giants\"\n",
    "\n",
    "\n",
    "> Which observational method is only effective at detecting Hot Jupiters - ground (transit) / lensing / space-based observations? "
   ]
  },
  {
   "cell_type": "code",
   "execution_count": null,
   "metadata": {},
   "outputs": [],
   "source": [
    "# b results here"
   ]
  },
  {
   "cell_type": "markdown",
   "metadata": {},
   "source": [
    "## c - Super-Earths, Observation Methods, and Limits\n",
    "\n",
    "1. Reproduce the plot from (a) here - copy/paste.\n",
    "\n",
    "2. Plot the approximate limits - by eye if needed - for ground based (transit) methdods, direct imaging, and RV (you can use approximate boundaries that do not depend on P for this)\n",
    "\n",
    "3. Label the approximate location where the bulk of Kepler observations are located. \n",
    "\n",
    "4. Lastly, label/annotate/shade the approximate bounds for \"Super-Earths\"/\"Sub-Neptunes\" - Figure 9 in the Review. \n",
    "\n",
    "> What does our plot suggest are the most common sub-class of planets to have been observed by Kepler? Note our data include all sources not just Kepler. "
   ]
  },
  {
   "cell_type": "code",
   "execution_count": null,
   "metadata": {
    "tags": []
   },
   "outputs": [],
   "source": [
    "# c results here "
   ]
  },
  {
   "cell_type": "markdown",
   "metadata": {},
   "source": [
    "## d - Effect of Stellar insolation flux on planet radius\n",
    "\n",
    "1. Plot the `Insolation Flux` (x-axis) vs. planet radius (y-axis) this time in terms of Rjup on a log-linear scale. Note, you will need to multiply by the solar flux at the surface of Earth. \n",
    "\n",
    "2. Plot the approximate radius boundaries for super-Earths, sub-neptunes, saturns, jupiters on the same plot. These can be approximated using `axhline`. \n",
    "\n",
    "> Comment briefly on which subclass appear to be affected by the flux of the host star and over what approximate range of flux values."
   ]
  },
  {
   "cell_type": "code",
   "execution_count": null,
   "metadata": {},
   "outputs": [],
   "source": [
    "# d result here"
   ]
  }
 ],
 "metadata": {
  "kernelspec": {
   "display_name": "Python 3 (ipykernel)",
   "language": "python",
   "name": "python3"
  },
  "language_info": {
   "codemirror_mode": {
    "name": "ipython",
    "version": 3
   },
   "file_extension": ".py",
   "mimetype": "text/x-python",
   "name": "python",
   "nbconvert_exporter": "python",
   "pygments_lexer": "ipython3",
   "version": "3.11.8"
  }
 },
 "nbformat": 4,
 "nbformat_minor": 4
}
