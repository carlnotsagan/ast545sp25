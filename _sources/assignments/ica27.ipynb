{
 "cells": [
  {
   "cell_type": "markdown",
   "metadata": {
    "user_expressions": []
   },
   "source": [
    "# In-Class Assignment 27\n",
    "\n",
    "**Note due for credit, in-class participation only**\n",
    "\n",
    "## The TP-AGB Phase\n",
    "\n",
    "### Learning Objectives\n",
    "\n",
    "- explore the 3DU event in intermediate mass stars\n",
    "- characterize the dredge-up efficiency\n",
    "- gain a qualitative understanding of the He-shell flash region and interpulse properties"
   ]
  },
  {
   "cell_type": "code",
   "execution_count": null,
   "metadata": {
    "tags": []
   },
   "outputs": [],
   "source": [
    "import numpy as np\n",
    "import matplotlib.pyplot as plt\n",
    "import pandas as pd"
   ]
  },
  {
   "cell_type": "markdown",
   "metadata": {
    "user_expressions": []
   },
   "source": [
    "Download the following model file locally. These data were produced using the `c13_pocket` test suite. \n",
    "\n",
    "* $3 M_{\\odot}$: [3m_to_3DU_history.data](data/week14/3m_to_3DU_history.data); - the model starts from core He-depletion.\n",
    "\n",
    "* $3 M_{\\odot}$: [3m_c13_pocket_history.data](data/week14/3m_c13_pocket.data); - this data covers one full thermal pulse and captures the presence of a c13 pocket. \n",
    "\n",
    "* $3 M_{\\odot}$ LOGS: [LOGS.zip](data/week14/LOGS.zip); - this contains a LOG folder and one profile file during the above c13 pocket TP. "
   ]
  },
  {
   "cell_type": "code",
   "execution_count": null,
   "metadata": {},
   "outputs": [],
   "source": [
    "# load data and see which variables are available\n",
    "#tp_agb_data = pd.read_csv('3m_to_3DU_history.data',sep=r'\\s+',header=4)\n",
    "#tp_agb_data.head(10)"
   ]
  },
  {
   "cell_type": "markdown",
   "metadata": {},
   "source": [
    "## a. - Thermally Pulsing AGB Star\n",
    "\n",
    "Using the $3M_{\\odot}$  `3m_to_3DU_history.data` MESA history dataset: \n",
    "\n",
    "1. Plot the helium luminosity as a function of age. You may want to subtract the age at the star of the dataset from the x-axis. Recall that the timescale for this epoch is ~1e6 years, but the star has evolved previously for ~1.2 Gyr. \n",
    "\n",
    "Using this plot answer the following:\n",
    "\n",
    "> How many pulses are covered over this range?\n",
    "\n",
    "> What is their qualitative properties over time?\n",
    "\n",
    "> What is the approximate time between pulses?\n",
    "\n",
    "2. To determine the point at which 3DU occurs, plot the surface c12, o16, and n14 as a function of age or model number. \n",
    "\n",
    "Using this plot:\n",
    "\n",
    "> Determine how many pulses it takes until the first 3DU occurs. \n",
    "\n",
    "> Does this plot show evidence for hot bottom burning? If not, why?"
   ]
  },
  {
   "cell_type": "markdown",
   "metadata": {},
   "source": [
    "## b - 3DU efficiency and mass loss\n",
    "\n",
    "Using the $3M_{\\odot}$  `3m_c13_pocket_history.data` MESA history dataset: \n",
    "\n",
    "1. Plot the log Helium luminosity as a function of star age (subtracting the previous age to recenter the data) and the mass loss rate on the same plot. \n",
    "\n",
    "> At what point does the star experience the strongest mass loss?\n",
    "\n",
    "2. Plot a Kippenhahn diagram using mesaPlot and zoom into the He-shell flash region (about 0.5-0.6 $M_{\\odot}$) using `yrng`. **Remember you need to move/copy and rename the file** to the LOGS directory :).\n",
    "\n",
    "> Identify the following: the intershell convective zone, the helium shell, the hydrogen shell, and the location of the 3DU. \n",
    "\n",
    "3. Using this same plot, make a very approximate estimate of the dredge up efficiency:\n",
    "\n",
    "\n",
    "$$\n",
    "\\lambda = \\frac{\\Delta m_{\\rm{DU}}}{\\Delta m_{\\rm{H,intershell}}}\n",
    "$$\n",
    "\n",
    "> What is this value and does it suggest _efficient_ or _inefficient_ 3DU at this pulse?"
   ]
  },
  {
   "cell_type": "code",
   "execution_count": null,
   "metadata": {},
   "outputs": [],
   "source": [
    "## b results here"
   ]
  },
  {
   "cell_type": "code",
   "execution_count": null,
   "metadata": {},
   "outputs": [],
   "source": [
    "## b result here\n",
    "#import mesaPlot as mp\n",
    "#m=mp.MESA()\n",
    "#p=mp.plot()\n",
    "#m.loadHistory('LOGS')\n",
    "#kip = p.plotKip(m,show_mass_loc=True,yrng=[...,...])"
   ]
  },
  {
   "cell_type": "markdown",
   "metadata": {},
   "source": [
    "## c. - the c13 pocket\n",
    "\n",
    "1. Finally, use the `Abund` function in mesaPlot to confirm the presence of the formation of a c13 pocket during the interpulse phase for this model. \n",
    "\n",
    "\n",
    "> What does the presence of the c13 pocket imply about the observational characteristics of the AGB star?"
   ]
  },
  {
   "cell_type": "code",
   "execution_count": null,
   "metadata": {},
   "outputs": [],
   "source": [
    "# c result here\n",
    "#m=mp.MESA()\n",
    "#p=mp.plot()\n",
    "#m.loadProfile(f='LOGS/profile38.data')\n",
    "#p.plotAbun(m,\n",
    "#           xmin=...,xmax=..., # set these based on the inspection of the Kipp above\n",
    "#           cmap=plt.cm.inferno_r,num_labels=10)"
   ]
  }
 ],
 "metadata": {
  "kernelspec": {
   "display_name": "Python 3 (ipykernel)",
   "language": "python",
   "name": "python3"
  },
  "language_info": {
   "codemirror_mode": {
    "name": "ipython",
    "version": 3
   },
   "file_extension": ".py",
   "mimetype": "text/x-python",
   "name": "python",
   "nbconvert_exporter": "python",
   "pygments_lexer": "ipython3",
   "version": "3.11.8"
  }
 },
 "nbformat": 4,
 "nbformat_minor": 4
}
