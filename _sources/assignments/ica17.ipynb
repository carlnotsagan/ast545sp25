{
 "cells": [
  {
   "cell_type": "markdown",
   "metadata": {},
   "source": [
    "# In-Class Assignment 17\n",
    "\n",
    "**In-Class Only, Not Submitted for Credit**, Credit: Michael Zingale.\n",
    "\n",
    "## Application: X-ray Burst Timing\n",
    "\n",
    "The [Rossi X-ray Timing Explorer](https://en.wikipedia.org/wiki/Rossi_X-ray_Timing_Explorer) (RXTE) has very high time resolution and has been used to observe a large number of X-ray sources.  We'll look at the data from the low-mass X-ray binary 4U 1728-34&mdash;this is an [X-ray burst](https://en.wikipedia.org/wiki/X-ray_burster) system.\n",
    "\n",
    "In [Strohmayer et al. 1996](https://ui.adsabs.harvard.edu/abs/1996ApJ...469L...9S/abstract) it was shown that the neutron star spin rate can be seen in the Fourier transform of the lightcurve of the burst.  Here we repeat the analysis.\n",
    "\n",
    "_We thank Tod Strohmayer for sharing the data from that paper_."
   ]
  },
  {
   "cell_type": "markdown",
   "metadata": {},
   "source": [
    "### Learning Objectives\n",
    "\n",
    "- Methods to reduce and visualize XRB lightcurve data\n",
    "- Application of FFT to astronomical data\n",
    "- Deriving NS spin rates from XRB data"
   ]
  },
  {
   "cell_type": "markdown",
   "metadata": {},
   "source": [
    "Download the following data locally: [4u1728_burstdata.txt](data/week10/4u1728_burstdata.txt)."
   ]
  },
  {
   "cell_type": "markdown",
   "metadata": {},
   "source": [
    "## a. - Flatten the data, prepare for analysis\n",
    "\n",
    "1. Load the data using numpy `loadtxt`\n",
    "2. Flatten the data (`.flatten()`)\n",
    "3. Obtain the total length of the 1-d array and define it as `N` for later\n",
    "4. Plot the data using matplotlib. \n",
    "\n",
    "> What are the x-axis and y-axis?"
   ]
  },
  {
   "cell_type": "code",
   "execution_count": null,
   "metadata": {},
   "outputs": [],
   "source": [
    "## a results here"
   ]
  },
  {
   "cell_type": "markdown",
   "metadata": {},
   "source": [
    "## b. - Bin the data, replot\n",
    "\n",
    "Similar to the paper, lets bin the data using the `.reshape()` operator on the original flattened data and floor division (`//`) for a choice of bin size = 256 to create a new array `binned_data`.\n",
    "\n",
    "```{note}\n",
    "Reshape syntax is numpy.reshape(rows,columns)\n",
    "\n",
    "```\n",
    "\n",
    "Steps will be \n",
    "\n",
    "1. Create a new array that is equal to the original data reshaped to be (N // 256, 256) and the bins summed (.sum) along the 1 axis (rows). \n",
    "2. Plot the new binned lightcurve data\n",
    "\n",
    "> Does this plot match Figure 1 in the paper?"
   ]
  },
  {
   "cell_type": "code",
   "execution_count": null,
   "metadata": {},
   "outputs": [],
   "source": [
    "## b results here"
   ]
  },
  {
   "cell_type": "markdown",
   "metadata": {},
   "source": [
    "## c. -Fast-Fourier Transform of the Data\n",
    "\n",
    "Using the raw flattened data (non-binned), \n",
    "\n",
    "\n",
    "1. compute a one-dimensional discrete [Fourier Transform using numpy](https://numpy.org/doc/2.2/reference/generated/numpy.fft.rfft.html) to obtain the Fourier coefficients $C_{k}$.\n",
    "\n",
    "2. Next, compute the physical frequencies using [numpy.fft.rfftfreq](https://numpy.org/doc/2.1/reference/generated/numpy.fft.rfftfreq.html). You will need to pass the total number of samples from earlier `N` then multiply by $N/T$ where $T=32$ s and is the total duration of the signal. \n",
    "\n",
    "3. Using $C_{k}$ and `kreq` plot the power spectrum as a function of frequency: (`kfreq`,`np.abs(c_k)**2 * 2 / N`) using log-log. \n",
    "\n",
    "> Can we identify any excess power in the spectrum?"
   ]
  },
  {
   "cell_type": "code",
   "execution_count": null,
   "metadata": {},
   "outputs": [],
   "source": [
    "## c results here"
   ]
  },
  {
   "cell_type": "markdown",
   "metadata": {},
   "source": [
    "## d. - Bin the FFT data to improve Signal to noise\n",
    "\n",
    "The original paper binned the FFT by 8, lets do the same here.\n",
    "\n",
    "1. Bin the data using the provided lines.\n",
    "2. Replot the data similar as in c. Using a log-log plot. \n",
    "\n",
    "> Now, can we identify any excess power in the spectrum?"
   ]
  },
  {
   "cell_type": "code",
   "execution_count": null,
   "metadata": {},
   "outputs": [],
   "source": [
    "## d results here\n",
    "\n",
    "# use these lines to bin the FFT data\n",
    "#c_k_binned = np.abs(c_k[1:]).reshape(int(len(c_k)//8), 8).mean(axis=1)\n",
    "#kfreq_binned = kfreq[1:].reshape(int(len(kfreq)//8), 8).mean(axis=1)"
   ]
  },
  {
   "cell_type": "markdown",
   "metadata": {},
   "source": [
    "## e. - Plot the final frequency\n",
    "\n",
    "1. On a linear-linear plot, zoom into the suspected frequency identified.\n",
    "\n",
    "> Does this match the result from the paper? What does this frequency correspond to?"
   ]
  },
  {
   "cell_type": "code",
   "execution_count": null,
   "metadata": {},
   "outputs": [],
   "source": [
    "## e results here"
   ]
  }
 ],
 "metadata": {
  "kernelspec": {
   "display_name": "Python 3 (ipykernel)",
   "language": "python",
   "name": "python3"
  },
  "language_info": {
   "codemirror_mode": {
    "name": "ipython",
    "version": 3
   },
   "file_extension": ".py",
   "mimetype": "text/x-python",
   "name": "python",
   "nbconvert_exporter": "python",
   "pygments_lexer": "ipython3",
   "version": "3.11.8"
  }
 },
 "nbformat": 4,
 "nbformat_minor": 4
}
