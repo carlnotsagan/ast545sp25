{
 "cells": [
  {
   "cell_type": "markdown",
   "metadata": {},
   "source": [
    "# In-Class Assignment 14\n",
    "\n",
    "## Radially Pulsating Stars - Cephieds\n",
    "\n",
    "### Learning Objectives\n",
    "\n",
    "- explore boundaries of instability strip\n",
    "- verify the dominant $\\kappa$-mechanism source for Cepheids\n",
    "- compare analytical estimates for the period with MESA output\n",
    "- compute a phase folded lightcurve to determine changes in pulsation over time."
   ]
  },
  {
   "cell_type": "markdown",
   "metadata": {},
   "source": [
    "Download the following model files locally. \n",
    "\n",
    "* Cephied RSP model: [cephied_history.data](data/week7/cephied_history.data);\n",
    "                [cephied_profile.data](data/week7/cephied_profile.data);"
   ]
  },
  {
   "cell_type": "markdown",
   "metadata": {},
   "source": [
    "## a.\n",
    "\n",
    "Using the history data, \n",
    "\n",
    "1. produce an HR diagram of the Cephied data and confirm that it is bounded within the instability strip. \n",
    "2. on the same plot, plot the approximate bounds of the instability strip with dashed lines: \n",
    "    - blue edge point 1 ($\\textrm{log} L_{1}=5.5$,$\\textrm{log} T_{\\rm{eff}}=3.7$); \n",
    "    - blue edge point 2 ($\\textrm{log} L_{2}=1.0$,$\\textrm{log} T_{\\rm{eff}}=3.93$) and \n",
    "    - red edge point 1 ($\\textrm{log} L_{1}=5.5$,$\\textrm{log} T_{\\rm{eff}}=3.6$) and \n",
    "    - red edge point 2 ($\\textrm{log} L_{2}=1.0$,$\\textrm{log} T_{\\rm{eff}}=3.83$)."
   ]
  },
  {
   "cell_type": "code",
   "execution_count": null,
   "metadata": {},
   "outputs": [],
   "source": [
    "## a results here"
   ]
  },
  {
   "cell_type": "markdown",
   "metadata": {},
   "source": [
    "## b.\n",
    "\n",
    "Using the profile data, \n",
    "\n",
    "1. verify the dominant ionization sources via the existance of doubly ionized He and singly ionization H using a plot\n",
    "2. comment on the location of the ionization zone, that is, is it near the high density region (near the red edge of the strip), or low density (blue edge)\n",
    "\n",
    "3. plot `grada`, does it decrease as expected in the partial ionization zones?"
   ]
  },
  {
   "cell_type": "code",
   "execution_count": null,
   "metadata": {},
   "outputs": [],
   "source": [
    "## b results here"
   ]
  },
  {
   "cell_type": "markdown",
   "metadata": {},
   "source": [
    "## c.\n",
    "\n",
    "1. Using Eqn. 8.21 in HKT, make an esimtate of the period in days. Recall that $\\left < \\rho \\right > \\approx M/R^{3}$ or Eqn 10.5 in Onno Pol's notes. \n",
    "\n",
    "2. Plot the total radius or luminosity over time in days `star_age_in_days`, does the estimated period match by eye?\n"
   ]
  },
  {
   "cell_type": "code",
   "execution_count": null,
   "metadata": {},
   "outputs": [],
   "source": [
    "## c results here"
   ]
  },
  {
   "cell_type": "markdown",
   "metadata": {},
   "source": [
    "## d. \n",
    "\n",
    "Using the final computed period in the history data `rsp_period_in_days`.\n",
    "\n",
    "Compute the phase using the period, star age in days, and luminosity. \n",
    "\n",
    "1. Produce a \"phase-folded\" luminosity plot - phase vs luminosity.\n",
    "\n",
    "$$\n",
    "\\theta = (t \\ \\% \\ P) / P\n",
    "$$\n",
    "\n",
    "Next, sort by phase to get the argument indices\n",
    "\n",
    "```\n",
    "sort_index = np.argsort(phase)\n",
    "```\n",
    "\n",
    "```\n",
    "phase_sorted = phase[sort_index]\n",
    "lum_sorted = lum[sort_index]\n",
    "```\n",
    "\n",
    "where $\\%$ is the modulus operator in python. More details and examples are available [here](https://docs.astropy.org/en/latest/timeseries/analysis.html) including using Astropy to automatically do the folding. \n",
    "\n",
    "> Comment briefly on if it is possible to observe the growth of the amplitude with subsequent periods. The answer is also in the history data `growth` for each period for the curious."
   ]
  },
  {
   "cell_type": "code",
   "execution_count": null,
   "metadata": {},
   "outputs": [],
   "source": [
    "## d result here"
   ]
  }
 ],
 "metadata": {
  "kernelspec": {
   "display_name": "Python 3 (ipykernel)",
   "language": "python",
   "name": "python3"
  },
  "language_info": {
   "codemirror_mode": {
    "name": "ipython",
    "version": 3
   },
   "file_extension": ".py",
   "mimetype": "text/x-python",
   "name": "python",
   "nbconvert_exporter": "python",
   "pygments_lexer": "ipython3",
   "version": "3.11.8"
  }
 },
 "nbformat": 4,
 "nbformat_minor": 4
}
