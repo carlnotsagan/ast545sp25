{
 "cells": [
  {
   "cell_type": "markdown",
   "metadata": {
    "user_expressions": []
   },
   "source": [
    "# In-Class Assignment 22\n",
    "\n",
    "**Due by the end of the day, Monday 7 April, 2025**\n",
    "\n",
    "## Exploring host star properties of all confirmed exoplanets\n",
    "\n",
    "### Learning Objectives\n",
    "\n",
    "- Identify relations of host stars with exoplanet populations.\n",
    "- Infer implications for planet formation theories."
   ]
  },
  {
   "cell_type": "code",
   "execution_count": 5,
   "metadata": {
    "tags": []
   },
   "outputs": [],
   "source": [
    "import numpy as np\n",
    "import matplotlib.pyplot as plt\n",
    "import pandas as pd"
   ]
  },
  {
   "cell_type": "markdown",
   "metadata": {
    "user_expressions": []
   },
   "source": [
    "The data for today's example will include the composite data for all confirmed via the [NASA Exoplanet Archive](https://exoplanetarchive.ipac.caltech.edu/cgi-bin/TblView/nph-tblView?app=ExoTbls&config=PSCompPars).\n",
    "\n",
    "I have already done the query and downloaded the data for this example. Please download this table below:\n",
    "\n",
    "* All 5,687 confirmed exoplanets [all_exoplanets_so_far.csv](data/week11/all_exoplanets_so_far.csv)"
   ]
  },
  {
   "cell_type": "markdown",
   "metadata": {
    "user_expressions": []
   },
   "source": [
    "## a - Load the data and browse the available columns\n",
    "\n",
    "1. Similar to our past exercises, use `pandas` to load the data CSV table and look at some of the available columns. **use `header=30`** to skip header info.\n",
    "\n",
    "2. You can view some details about the available columns by calling the table after loading or opening the CSV file and looking at the header. \n",
    "\n",
    "3. Once loaded, plot a Histogram for giant planets only as a function of metallitcity\n",
    "\n",
    "4. Label the x-axis and y-axis appropriately. \n",
    "\n",
    "Our goal is to recreate some of the Figures in [Exoplanet Handbook Chapter](https://arxiv.org/abs/1805.00023). \n",
    "\n",
    "> Does your histogram agree with Figure 2? If not, why?"
   ]
  },
  {
   "cell_type": "code",
   "execution_count": 6,
   "metadata": {},
   "outputs": [],
   "source": [
    "# a results here"
   ]
  },
  {
   "cell_type": "markdown",
   "metadata": {},
   "source": [
    "## b - Effect of Stellar insolation flux on planet radius (we didnt finish this Q last ICA!)\n",
    "\n",
    "1. Plot the `Insolation Flux` (x-axis) vs. planet radius (y-axis) this time in terms of Rjup on a log-linear scale. Note, you will need to multiply by the solar flux at the surface of Earth. \n",
    "\n",
    "2. Plot the approximate radius boundaries for super-Earths, sub-neptunes, saturns, jupiters on the same plot. These can be approximated using `axhline`. \n",
    "\n",
    "> Comment briefly on which subclass appear to be affected by the flux of the host star and over what approximate range of flux values."
   ]
  },
  {
   "cell_type": "code",
   "execution_count": 7,
   "metadata": {},
   "outputs": [],
   "source": [
    "# b result here"
   ]
  },
  {
   "cell_type": "markdown",
   "metadata": {},
   "source": [
    "## c - Radial Velocity detected systems as a function of host stellar mass\n",
    "\n",
    "1. Plot a scatter plot for planets with host mass $M_{host}\\lt0.34M_{\\odot}$ _and_ that have been detected via `Radial Velocity` method. \n",
    "\n",
    "1. Plot a scatter plot for planets with host mass $M_{host}\\gt0.34M_{\\odot}$ _and_ that have been detected via `Radial Velocity` method. Use a different color for these points. \n",
    "\n",
    "> Comment briefly on how these results compare to Figure 6. "
   ]
  },
  {
   "cell_type": "code",
   "execution_count": 8,
   "metadata": {},
   "outputs": [],
   "source": [
    "# c result here"
   ]
  },
  {
   "cell_type": "markdown",
   "metadata": {},
   "source": [
    "## d - Another look at metallicity \n",
    "\n",
    "Our goal is produce a similar version of the plot Figure 8 in our favorite [Review](https://www.annualreviews.org/content/journals/10.1146/annurev-astro-112420-020055).\n",
    "\n",
    "1. Plot a scatter plot for all planets with metallcity vs. orbital period. \n",
    "\n",
    "2. Label three classes of planets either via color, symbol or symbol size into - \"small\" - 1-4$R_{\\oplus}$, \"intermediate\" - 4-8$R_{\\oplus}$ and \"giant\" - 8-20$R_{\\oplus}$ planets.\n",
    " \n",
    "> Is there a trend? If so, does it agree with your results in a)?"
   ]
  },
  {
   "cell_type": "code",
   "execution_count": null,
   "metadata": {},
   "outputs": [],
   "source": [
    "# d results here"
   ]
  }
 ],
 "metadata": {
  "kernelspec": {
   "display_name": "Python 3 (ipykernel)",
   "language": "python",
   "name": "python3"
  },
  "language_info": {
   "codemirror_mode": {
    "name": "ipython",
    "version": 3
   },
   "file_extension": ".py",
   "mimetype": "text/x-python",
   "name": "python",
   "nbconvert_exporter": "python",
   "pygments_lexer": "ipython3",
   "version": "3.11.8"
  }
 },
 "nbformat": 4,
 "nbformat_minor": 4
}
