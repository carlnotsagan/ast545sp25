{
 "cells": [
  {
   "cell_type": "markdown",
   "metadata": {
    "user_expressions": []
   },
   "source": [
    "# In-Class Assignment 12\n",
    "\n",
    "## Stellar Energy Sources\n",
    "\n",
    "### Learning Objectives\n",
    "\n",
    "- determine dominant reaction in low mass and massive star models"
   ]
  },
  {
   "cell_type": "code",
   "execution_count": null,
   "metadata": {
    "tags": []
   },
   "outputs": [],
   "source": [
    "import numpy as np\n",
    "import matplotlib.pyplot as plt\n",
    "import pandas as pd"
   ]
  },
  {
   "cell_type": "markdown",
   "metadata": {
    "user_expressions": []
   },
   "source": [
    "Download the following model files locally. These are different files than from the other day!\n",
    "\n",
    "* $1 M_\\odot$: [1m_h_dep_history.data](data/week6/1m_h_dep_history.data);\n",
    "\n",
    "* $3 M_\\odot$: [3m_h_dep_history.data](data/week6/3m_h_dep_history.data);\n",
    "\n",
    "* $20 M_\\odot$: [20m_he_dep_history.data](data/week6/20m_he_dep_history.data);"
   ]
  },
  {
   "cell_type": "markdown",
   "metadata": {},
   "source": [
    "## Dominant Burning Category\n",
    "\n",
    "Using the $1 M_\\odot$ and $3M_\\odot$ model MESA history data: \n",
    "\n",
    "### a. \n",
    "\n",
    "1. Plot the `pp` and `cno` burning categories over time to determine which dominates in each model. "
   ]
  },
  {
   "cell_type": "code",
   "execution_count": null,
   "metadata": {},
   "outputs": [],
   "source": [
    "## a results here"
   ]
  },
  {
   "cell_type": "markdown",
   "metadata": {},
   "source": [
    "### b. \n",
    "\n",
    "1. Compare the central temperature of each models and compare with the expected central temparature of the Sun.\n",
    "\n",
    "> Which is the dominant burning source in the Sun?"
   ]
  },
  {
   "cell_type": "code",
   "execution_count": null,
   "metadata": {},
   "outputs": [],
   "source": [
    "## b results here"
   ]
  },
  {
   "cell_type": "markdown",
   "metadata": {},
   "source": [
    "## Dominant Burning in Massive Stars\n",
    "\n",
    "Using the Massive Star model MESA history data: \n",
    "\n",
    "### c \n",
    "\n",
    "1. Compare the `triple_alfa` and `c_alpha` categories and determine which is dominant and when."
   ]
  },
  {
   "cell_type": "code",
   "execution_count": null,
   "metadata": {},
   "outputs": [],
   "source": [
    "## c results here"
   ]
  },
  {
   "cell_type": "markdown",
   "metadata": {},
   "source": [
    "### d \n",
    "\n",
    "1. Identify the critical central temperature, he4 and c12 mass fraction when this crossover occurs."
   ]
  },
  {
   "cell_type": "code",
   "execution_count": null,
   "metadata": {},
   "outputs": [],
   "source": [
    "### d results here"
   ]
  }
 ],
 "metadata": {
  "kernelspec": {
   "display_name": "Python 3 (ipykernel)",
   "language": "python",
   "name": "python3"
  },
  "language_info": {
   "codemirror_mode": {
    "name": "ipython",
    "version": 3
   },
   "file_extension": ".py",
   "mimetype": "text/x-python",
   "name": "python",
   "nbconvert_exporter": "python",
   "pygments_lexer": "ipython3",
   "version": "3.11.8"
  }
 },
 "nbformat": 4,
 "nbformat_minor": 4
}
