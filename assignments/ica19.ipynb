{
 "cells": [
  {
   "cell_type": "markdown",
   "metadata": {
    "id": "8tgL9Tjo8b76"
   },
   "source": [
    "# In-Class Assignment 19\n",
    "\n",
    "Credit: <a href='https://gwosc.org/'>Gravitational Wave Open Science Center</a>"
   ]
  },
  {
   "cell_type": "markdown",
   "metadata": {},
   "source": [
    "## Learning Objectives\n",
    "\n",
    "- Use GWpy to analyze open-source LIGO data\n",
    "- Practice applying timeseries analysis techniques: FFT, whitening, bandpasses\n",
    "- Convert whitened data to audio WAV file "
   ]
  },
  {
   "cell_type": "markdown",
   "metadata": {},
   "source": [
    "## To Begin\n",
    "\n",
    "Load some imports including [GWpy](https://gwpy.github.io/) - a python package for gravitational-wave astrophysics. \n",
    "\n",
    "\n",
    "We will be utilizing the `TimeSeries` tools described in [Documentation](https://gwpy.github.io/docs/stable/timeseries/)."
   ]
  },
  {
   "cell_type": "code",
   "execution_count": null,
   "metadata": {},
   "outputs": [],
   "source": [
    "import requests, os\n",
    "import matplotlib.pyplot as plt\n",
    "import numpy as np\n",
    "%config InlineBackend.figure_format = 'retina'\n",
    "\n",
    "try:\n",
    "    from gwpy.timeseries import TimeSeries\n",
    "except:\n",
    "    ! pip install -q \"gwpy==3.0.9\"\n",
    "    ! pip install -q \"matplotlib==3.7.3\"\n",
    "    ! pip install -q \"astropy==6.1.4\"\n",
    "    from gwpy.timeseries import TimeSeries"
   ]
  },
  {
   "cell_type": "markdown",
   "metadata": {},
   "source": [
    "## a. - Set parameters for the signal we want to explore"
   ]
  },
  {
   "cell_type": "markdown",
   "metadata": {
    "id": "QTPgvp6r8b77"
   },
   "source": [
    "The two first parameters we need to set are:\n",
    "\n",
    "* [GPS time](https://gwosc.org/gps) of the data of interest ([Learn more](https://www.google.com/search?q=What+is+gps+time))\n",
    "* Detector could be H1 (LIGO Hanford), L1 (LIGO Livingston), or V1 (Virgo)\n",
    "\n",
    "Example GPS times for different events are: \n",
    "\n",
    "You might try some of these examples times in the H1 detector:\n",
    "<pre>\n",
    "t0 = 1126259462.4    # -- GW150914\n",
    "t0 = 1187008882.4    # -- GW170817\n",
    "t0 = 933200215       # -- Loud hardware injection\n",
    "t0 = 1132401286.33   # -- Koi Fish Glitch\n",
    "</pre>\n",
    "\n",
    "1. Choose and set a GPS time\n",
    "2. Choose a detector \n",
    "3. Round the GPS time to integer then query for the strain using the integer GPS time, and the detector using [`TimeSeries.fetch_open_data`](https://gwpy.github.io/docs/stable/timeseries/opendata/#timeseries-fetch-open-data).\n",
    "4. Plot the resulting strain as a function of time.  \n",
    "\n"
   ]
  },
  {
   "cell_type": "code",
   "execution_count": null,
   "metadata": {
    "id": "YG9WKweT8b77"
   },
   "outputs": [],
   "source": [
    "# a result here"
   ]
  },
  {
   "cell_type": "markdown",
   "metadata": {
    "id": "bktmVH158b79"
   },
   "source": [
    "## b. - Whiten and band-pass the data\n",
    "\n",
    "* Whitening is a process that re-weights a signal, so that all frequency bins have a nearly equal amount of noise.\n",
    "* A band-pass filter uses both a low frequency cutoff and a high frequency cutoff, and only passes signals in the frequency band between these values.\n",
    "\n",
    "See also:\n",
    "\n",
    " * [Whitening a TimeSeries](https://gwpy.github.io/docs/stable/examples/timeseries/whiten/#whitening-a-timeseries)\n",
    " * [Signal Processing Tutorial](https://gwfilter.streamlit.app)\n",
    " * [Finding Signals in Noise video](https://labcit.ligo.caltech.edu/~jkanner/gwosc/intro-course/)\n",
    "\n",
    "\n",
    "1. Createn a new array of the whitened strain data\n",
    "2. Apply a `bandpass` to the whitened data from 30 to 400 Hz. \n",
    "3. Plot the whitened and bandpassed data from (our t0 GPS time - 0.2 seconds, to our t0 GPS time + 0.1 seconds.)\n",
    "\n",
    "> Can we identify the inspiral, merger, and or ringdown of the post-processed data?"
   ]
  },
  {
   "cell_type": "code",
   "execution_count": null,
   "metadata": {
    "id": "EjJXyMzk8b79",
    "outputId": "9f86152e-e042-4563-818f-dee00f26ffdb"
   },
   "outputs": [],
   "source": [
    "# b result here"
   ]
  },
  {
   "cell_type": "markdown",
   "metadata": {
    "id": "EkUtjgQp8b79"
   },
   "source": [
    "## c. - Plot a q-transform of the data\n",
    "\n",
    "A Q-transform plot shows how a signal’s frequency changes with time.\n",
    "\n",
    "* The x-axis shows time\n",
    "* The y-axis shows frequency\n",
    "* The color scale shows the amount of “energy” or “signal power” in each time-frequency pixel.\n",
    "\n",
    "A parameter called “Q” refers to the quality factor. A higher quality factor corresponds to a larger number of cycles in each time-frequency pixel.\n",
    "\n",
    "* [Q-transform in gwpy](https://gwpy.github.io/docs/latest/examples/timeseries/qscan/)\n",
    "* [Q-transform in Wikipedia](https://en.wikipedia.org/wiki/Constant-Q_transform)\n",
    "\n",
    "1. Using a `dt=1`, use GWpy to apply a [`q-transform`] with an out segment of $t_{0}\\pm dt$.\n",
    "2. Plot the resulting transformation using the GWpy native plotting tool. Make sure y-scale is set to log. "
   ]
  },
  {
   "cell_type": "code",
   "execution_count": null,
   "metadata": {
    "id": "rDpyT1Kv8b79",
    "outputId": "87cd7b8d-8890-4096-cf60-703e1b1f20e2"
   },
   "outputs": [],
   "source": [
    "# c results here"
   ]
  },
  {
   "cell_type": "markdown",
   "metadata": {},
   "source": [
    "### Some helper functions for d"
   ]
  },
  {
   "cell_type": "code",
   "execution_count": null,
   "metadata": {},
   "outputs": [],
   "source": [
    "# function to keep the data within integer limits, and write to wavfile:\n",
    "def write_wavfile(filename,fs,data):\n",
    "    d = np.int16(data/np.max(np.abs(data)) * 32767 * 0.9)\n",
    "    wavfile.write(filename,int(fs), d)\n",
    "\n",
    "deltat_sound = 2.                     # seconds around the event\n",
    "\n",
    "# function that shifts frequency of a band-passed signal\n",
    "def reqshift(data,fshift=100,sample_rate=4096):\n",
    "    \"\"\"Frequency shift the signal by constant\n",
    "    \"\"\"\n",
    "    x = np.fft.rfft(data)\n",
    "    T = len(data)/float(sample_rate)\n",
    "    df = 1.0/T\n",
    "    nbins = int(fshift/df)\n",
    "    # print T,df,nbins,x.real.shape\n",
    "    y = np.roll(x.real,nbins) + 1j*np.roll(x.imag,nbins)\n",
    "    y[0:nbins]=0.\n",
    "    z = np.fft.irfft(y)\n",
    "    return z"
   ]
  },
  {
   "cell_type": "markdown",
   "metadata": {},
   "source": [
    "## d. - Convert the data to audio\n",
    "\n",
    "1. Define the time array of our final bandpassed and whitened strain data. We only want the data not the units (`.value`). Use `tevent = t0`. Compute the indices of interested and write the wav file for our data. \n",
    "\n",
    "2. Listen to the data wav file. \n",
    "\n",
    "3. Finally, shift the data using the function line, write the wav file of the shifted data. \n",
    "\n",
    "4. Listen to the result. \n",
    "\n",
    "> Can you hear the chirp heard around the world?"
   ]
  },
  {
   "cell_type": "code",
   "execution_count": null,
   "metadata": {},
   "outputs": [],
   "source": [
    "# make wav (sound) files from the whitened+BP data, +-2s around the event.\n",
    "import scipy\n",
    "from scipy.io import wavfile\n",
    "from IPython.display import Audio"
   ]
  },
  {
   "cell_type": "markdown",
   "metadata": {},
   "source": [
    "### Listening to the Whitened-Bandpassed Strain Data in the original Frequency Range"
   ]
  },
  {
   "cell_type": "code",
   "execution_count": null,
   "metadata": {},
   "outputs": [],
   "source": [
    "#time = bp_data.times\n",
    "#time = time.value\n",
    "#tevent = \n",
    "#fs = 4096 # sampling freq\n",
    "\n",
    "# index into the strain time series for this time interval:\n",
    "#indxd = np.where((time >= tevent-deltat_sound) & (time < tevent+deltat_sound))\n",
    "\n",
    "# write the files:\n",
    "#write_wavfile(detector+\"_whitenbp.wav\",int(fs), strain[indxd])"
   ]
  },
  {
   "cell_type": "code",
   "execution_count": null,
   "metadata": {},
   "outputs": [],
   "source": [
    "# listen to the wav file here\n",
    "#fna = detector+\"_whitenbp.wav\"\n",
    "#print(fna)\n",
    "#Audio(fna)"
   ]
  },
  {
   "cell_type": "markdown",
   "metadata": {},
   "source": [
    "### Listening to the frequency shifted Whitened-Bandpassed Strain Data "
   ]
  },
  {
   "cell_type": "code",
   "execution_count": null,
   "metadata": {},
   "outputs": [],
   "source": [
    "# using our helper function, shift the data and make the new wav file\n",
    "#fshift = 400.\n",
    "#strain_shifted = reqshift(bp_data,fshift=fshift,sample_rate=fs)\n",
    "#write_wavfile(detector+\"_whitenbp_shifted.wav\",int(fs), strain_shifted[indxd])"
   ]
  },
  {
   "cell_type": "code",
   "execution_count": null,
   "metadata": {},
   "outputs": [],
   "source": [
    "# listen to the wav file here\n",
    "#fna = detector+\"_whitenbp_shifted.wav\"\n",
    "#print(fna)\n",
    "#Audio(fna)"
   ]
  }
 ],
 "metadata": {
  "colab": {
   "provenance": []
  },
  "kernelspec": {
   "display_name": "Python 3 (ipykernel)",
   "language": "python",
   "name": "python3"
  },
  "language_info": {
   "codemirror_mode": {
    "name": "ipython",
    "version": 3
   },
   "file_extension": ".py",
   "mimetype": "text/x-python",
   "name": "python",
   "nbconvert_exporter": "python",
   "pygments_lexer": "ipython3",
   "version": "3.11.8"
  }
 },
 "nbformat": 4,
 "nbformat_minor": 1
}
