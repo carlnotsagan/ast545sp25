{
 "cells": [
  {
   "cell_type": "markdown",
   "metadata": {},
   "source": [
    "# In-Class Assignment 15\n",
    "\n",
    "**In-Class Only, Not Submitted for Credit**\n",
    "\n",
    "## Gravity Darkening in Low Mass Stars\n",
    "\n",
    "\n",
    "**Gravity darkening**, also referred to as gravity brightening, is an astronomical phenomenon where the poles of a star are brighter than the equator, due to rapid rotation and oblate shape. When a star is oblate, it has a larger radius at its equator than it does at its poles. \n",
    "\n",
    "As a result, the poles have a higher surface gravity, and thus higher temperature and pressure is needed to maintain hydrostatic equilibrium. Thus, the poles are \"gravity brightened\", and the equator \"gravity darkened\". - [Wikipedia](https://ui.adsabs.harvard.edu/abs/1967ZA.....65...89L/abstract).\n",
    "\n",
    "```{image} ../lectures/week9/grav_dark_schematic.jpg\n",
    ":align: center\n",
    ":width: 75%\n",
    ":name: grav_dark_schematic\n",
    "```\n",
    "Credit: ESO. Achernar has an unusually rapid rotational velocity, causing it to become oblate in shape.\n",
    "\n",
    "\n",
    "### Learning Objectives\n",
    "\n",
    "- explore the impact of gravity darkening on HR diagrams\n",
    "- where does ES operate in rotating stars?\n",
    "- determine the impact of rotation on the surface carbon abundance"
   ]
  },
  {
   "cell_type": "markdown",
   "metadata": {},
   "source": [
    "Download the following model files locally. \n",
    "\n",
    "* 3 $M_{\\odot}$ Model with $(\\Omega/\\Omega_{\\rm{crit}})_{i}=0.9$: [3m_high_rot_history.data](data/week9/3m_high_rot_history.data);\n",
    "\n",
    "* 3 $M_{\\odot}$ Model with $(\\Omega/\\Omega_{\\rm{crit}})_{i}=0.9$: [3m_high_rot_profile.data](data/week9/3m_high_rot_profile.data);\n",
    "\n",
    "* 3 $M_{\\odot}$ Model with $(\\Omega/\\Omega_{\\rm{crit}})_{i}=0.0$: [3m_non_rot_history.data](data/week9/3m_non_rot_history.data);"
   ]
  },
  {
   "cell_type": "markdown",
   "metadata": {},
   "source": [
    "## a. - How does Gravity Darkening Affect HR Evolution?\n",
    "\n",
    "Using the history data for the rotating and non-rotating models, \n",
    "\n",
    "1. plot an HR diagram for non-rotating model (our usual history columns) and the rotating model for the (polar, equatorial, and intrinsic - our total usual values).\n",
    "\n",
    "> State how gravity darking moves the model on the HR, i.e. - hotter/cooler, redder/bluer compared to a non-rotating model. "
   ]
  },
  {
   "cell_type": "code",
   "execution_count": null,
   "metadata": {},
   "outputs": [],
   "source": [
    "## a results here"
   ]
  },
  {
   "cell_type": "markdown",
   "metadata": {},
   "source": [
    "## b. -  Eddington-Sweet Circulation in Low Mass Rotating Stars\n",
    "\n",
    "Using the profile data, \n",
    "\n",
    "1. plot the diffusion coefficient profiles for convection (`log_D_conv`), overshoot (`log_D_ovr`), ES (`am_log_D_ES`) circulation.\n",
    "\n",
    "> Where does the ES circulation operate if anywhere? What can you say about the rotation in these regions?"
   ]
  },
  {
   "cell_type": "code",
   "execution_count": null,
   "metadata": {},
   "outputs": [],
   "source": [
    "## b results here"
   ]
  },
  {
   "cell_type": "markdown",
   "metadata": {},
   "source": [
    "## c. - Impact of Rotation in Surface Carbon Abundance\n",
    "\n",
    "Using the non-rotating and rotating history data,\n",
    "\n",
    "1. plot to the log of the initial versus final surface c12 for both models.\n",
    "\n",
    "> For this mass, does rotationally-induced mixing suggest an _increase_ or _decrease_ to the surface value? Compare with Figure 5 of [Heger et al 2000](https://iopscience.iop.org/article/10.1086/308158/pdf)."
   ]
  },
  {
   "cell_type": "code",
   "execution_count": null,
   "metadata": {},
   "outputs": [],
   "source": [
    "## c results here"
   ]
  }
 ],
 "metadata": {
  "kernelspec": {
   "display_name": "Python 3 (ipykernel)",
   "language": "python",
   "name": "python3"
  },
  "language_info": {
   "codemirror_mode": {
    "name": "ipython",
    "version": 3
   },
   "file_extension": ".py",
   "mimetype": "text/x-python",
   "name": "python",
   "nbconvert_exporter": "python",
   "pygments_lexer": "ipython3",
   "version": "3.11.8"
  }
 },
 "nbformat": 4,
 "nbformat_minor": 4
}
