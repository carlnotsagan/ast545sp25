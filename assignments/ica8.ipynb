{
 "cells": [
  {
   "cell_type": "markdown",
   "metadata": {
    "user_expressions": []
   },
   "source": [
    "# In-Class Assignment 8\n",
    "\n",
    "## Exploring Opacities in Stellar Models"
   ]
  },
  {
   "cell_type": "code",
   "execution_count": null,
   "metadata": {
    "tags": []
   },
   "outputs": [],
   "source": [
    "import numpy as np\n",
    "import matplotlib.pyplot as plt\n",
    "import pandas as pd"
   ]
  },
  {
   "cell_type": "markdown",
   "metadata": {
    "user_expressions": []
   },
   "source": [
    "Your favorite model files are again:\n",
    "\n",
    "* $1 M_\\odot$: [M1_default_profile8.data](data/week2/M1_default_profile8.data);\n",
    "                [M1_default_profile218.data](data/week2/M1_default_profile218.data);\n",
    "               \n",
    "* $15 M_\\odot$: [M15_aprox21_profile8.data](data/week2/M15_aprox21_profile8.data);\n",
    "                [M15_aprox21_profile19.data](data/week2/M15_aprox21_profile19.data);"
   ]
  },
  {
   "cell_type": "markdown",
   "metadata": {
    "user_expressions": []
   },
   "source": [
    "## $\\kappa_{\\rm{rad}}$\n",
    "\n",
    "Using the 1$M_\\odot$ and 15$M_\\odot$ MESA models at their early evolutionary phase, plot the opacity. Consider using the mass scale in Figure 4.6 of HKT to emphasis the outer layers. \n",
    "\n",
    "_Hint: this requires you to normalize by the total mass of the star!_\n",
    "\n",
    "On the same plot, plot an estimate of the $\\kappa_{\\rm{rad}}$ of your choosing assuming a uniform mixture. An example of this is on HKT 216. Do the opacity profiles match your estimated value? Which opacity source did you choose and why?"
   ]
  },
  {
   "cell_type": "code",
   "execution_count": null,
   "metadata": {},
   "outputs": [],
   "source": [
    "## a results here"
   ]
  },
  {
   "cell_type": "markdown",
   "metadata": {
    "tags": []
   },
   "source": [
    "## $\\kappa_{\\rm{cond}}$\n",
    "\n",
    "Perform the same exercise here for the _later_ evolutionary profiles. This time, compare with an estimate for the $\\kappa_{\\rm{cond}}$ in HKT 4.72. Do the profiles match? Why?"
   ]
  },
  {
   "cell_type": "code",
   "execution_count": null,
   "metadata": {},
   "outputs": [],
   "source": [
    "## b results here"
   ]
  }
 ],
 "metadata": {
  "kernelspec": {
   "display_name": "Python 3 (ipykernel)",
   "language": "python",
   "name": "python3"
  },
  "language_info": {
   "codemirror_mode": {
    "name": "ipython",
    "version": 3
   },
   "file_extension": ".py",
   "mimetype": "text/x-python",
   "name": "python",
   "nbconvert_exporter": "python",
   "pygments_lexer": "ipython3",
   "version": "3.11.8"
  }
 },
 "nbformat": 4,
 "nbformat_minor": 4
}
