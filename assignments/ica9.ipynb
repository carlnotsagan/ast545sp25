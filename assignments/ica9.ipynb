{
 "cells": [
  {
   "cell_type": "markdown",
   "metadata": {
    "user_expressions": []
   },
   "source": [
    "# In-Class Assignment 9\n",
    "\n",
    "## Exploring Brown Dwarfs & Planets with MESA"
   ]
  },
  {
   "cell_type": "code",
   "execution_count": null,
   "metadata": {
    "tags": []
   },
   "outputs": [],
   "source": [
    "import numpy as np\n",
    "import matplotlib.pyplot as plt\n",
    "import pandas as pd"
   ]
  },
  {
   "cell_type": "markdown",
   "metadata": {
    "user_expressions": []
   },
   "source": [
    "Download the following model files locally. \n",
    "\n",
    "* $0.03 M_\\odot/1 R_{\\rm{Jup}}$: [0.03Msun_1RJup_history.data](data/week5/0p03Msun_1RJup_history.data);\n",
    "                [0.03Msun_1RJup_profile.data](data/week5/0p03Msun_1RJup_profile.data);\n",
    "               \n",
    "* $0.97 M_\\rm{Jup}/ 2 R_{\\rm{Jup}}$: [planet_1.0_MJ_10.0_ME_2.0_RJ_0_irr_flux.data](data/week5/planet_1.0_MJ_10.0_ME_2.0_RJ_0_irr_flux.data);\n",
    "                [planet_1.0_MJ_10.0_ME_2.0_RJ_1e6_irr_flux.data](data/week5/planet_1.0_MJ_10.0_ME_2.0_RJ_1e6_irr_flux.data);\n",
    "                [planet_1.0_MJ_10.0_ME_2.0_RJ_1e8_irr_flux.data](data/week5/planet_1.0_MJ_10.0_ME_2.0_RJ_1e8_irr_flux.data);"
   ]
  },
  {
   "cell_type": "markdown",
   "metadata": {
    "user_expressions": []
   },
   "source": [
    "## Brown Dwarf \n",
    "\n",
    "Using the 0.03$M_\\odot$ model MESA profile: \n",
    "\n",
    "### a. \n",
    "\n",
    "Compare the `opacity` profile with the approximate opacity due to $\\rm{H}^{-}$ from HKT 4.65."
   ]
  },
  {
   "cell_type": "code",
   "execution_count": null,
   "metadata": {},
   "outputs": [],
   "source": [
    "## a results here"
   ]
  },
  {
   "cell_type": "markdown",
   "metadata": {},
   "source": [
    "### b. \n",
    "\n",
    "\n",
    "Using the dominant nuclear energy generation rate ($\\epsilon$), luminosity and other necessary variables, compute the estimate lifetime from HKT eq. 1.89. Consider plotting $^{2}$H as a function of time, how far through the stars lifetime is this model?\n",
    "\n"
   ]
  },
  {
   "cell_type": "code",
   "execution_count": null,
   "metadata": {},
   "outputs": [],
   "source": [
    "## b results here"
   ]
  },
  {
   "cell_type": "markdown",
   "metadata": {
    "tags": []
   },
   "source": [
    "## Planet\n",
    "\n",
    "Using the $0.97 M_\\rm{Jup}/ 2 R_{\\rm{Jup}}$ model MESA history data: \n",
    "\n",
    "Each of these models uses a set value of irradiation flux of 0, $1\\times10^{6}$, or $1\\times10^{8}$ ($\\rm{erg \\ cm^{2} \\ s^{-1}}$) at a fixed column density of 300 ($\\rm{cm^{2} \\ g^{-1}}$)\n",
    "\n",
    "### c.\n",
    "\n",
    "Plot the pressure vs radius for all 3 models. Which model has the largest radius? Why? "
   ]
  },
  {
   "cell_type": "code",
   "execution_count": null,
   "metadata": {},
   "outputs": [],
   "source": [
    "## c results here"
   ]
  },
  {
   "cell_type": "markdown",
   "metadata": {},
   "source": [
    "### d.\n",
    "\n",
    "Shallower atmospheric $T$-gradient leads to slower interior cooling, and larger radius at a given age. \n",
    "\n",
    "Plot the pressure vs temperature (x-axis) profiles for all 3 models. Which model has the flattest $T-$gradient?"
   ]
  },
  {
   "cell_type": "code",
   "execution_count": null,
   "metadata": {},
   "outputs": [],
   "source": [
    "## d results here"
   ]
  }
 ],
 "metadata": {
  "kernelspec": {
   "display_name": "Python 3 (ipykernel)",
   "language": "python",
   "name": "python3"
  },
  "language_info": {
   "codemirror_mode": {
    "name": "ipython",
    "version": 3
   },
   "file_extension": ".py",
   "mimetype": "text/x-python",
   "name": "python",
   "nbconvert_exporter": "python",
   "pygments_lexer": "ipython3",
   "version": "3.11.8"
  }
 },
 "nbformat": 4,
 "nbformat_minor": 4
}
