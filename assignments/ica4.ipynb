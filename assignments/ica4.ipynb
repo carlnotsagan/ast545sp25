{
 "cells": [
  {
   "cell_type": "markdown",
   "metadata": {
    "user_expressions": []
   },
   "source": [
    "# In-Class Assignment 4 \n",
    "\n",
    "## Exploring MESA models (with Pandas)\n",
    "\n",
    "To read in these files, we will use [Pandas](https://pandas.pydata.org/docs/getting_started/install.html)\n",
    "\n",
    "````{note}\n",
    "Install pandas via conda using\n",
    "```\n",
    "conda install conda-forge::pandas\n",
    "```\n",
    "````\n",
    "\n",
    "**Credit: These exercises follow from work by Mike Zingale's computational lectures.**"
   ]
  },
  {
   "cell_type": "code",
   "execution_count": 12,
   "metadata": {
    "tags": []
   },
   "outputs": [],
   "source": [
    "import numpy as np\n",
    "import matplotlib.pyplot as plt\n",
    "import pandas as pd"
   ]
  },
  {
   "cell_type": "markdown",
   "metadata": {},
   "source": [
    "Use Pandas to plot MESA data. The raw MESA data, same as from ICA3, can be loaded as a `.csv` file, `header=4`, and using `sep=r'\\s+'`. After loading the profiles and history files for all three models. Plot the following:"
   ]
  },
  {
   "cell_type": "code",
   "execution_count": 13,
   "metadata": {},
   "outputs": [],
   "source": [
    "# load data here"
   ]
  },
  {
   "cell_type": "markdown",
   "metadata": {
    "user_expressions": []
   },
   "source": [
    "The model files are again:\n",
    "\n",
    "* $1 M_\\odot$: [M1_default_profile8.data](data/week2/M1_default_profile8.data); [M1_default_profile218.data](data/week2/M1_default_profile218.data); [M1_default_trimmed_history.data](data/week2/M1_default_trimmed_history.data)\n",
    "\n",
    "* $8 M_\\odot$: [M8_basic_co_profile8.data](data/week2/M8_basic_co_profile8.data); [M8_basic_co_profile39.data](data/week2/M8_basic_co_profile39.data); [M8_basic_co_trimmed_history.data](data/week2/M8_basic_co_trimmed_history.data)\n",
    "\n",
    "* $15 M_\\odot$: [M15_aprox21_profile8.data](data/week2/M15_aprox21_profile8.data); [M15_aprox21_profile19.data](data/week2/M15_aprox21_profile19.data); [M15_aprox21_trimmed_history.data](data/week2/M15_aprox21_trimmed_history.data)"
   ]
  },
  {
   "cell_type": "markdown",
   "metadata": {
    "user_expressions": []
   },
   "source": [
    "## a \n",
    "\n",
    "### HR diagram\n",
    "\n",
    "Lets start with an HR diagram. Below are some possible steps to do that. For reference, here are some common commands working with [Pandas CSV](https://pandas.pydata.org/docs/reference/api/pandas.read_csv.html#pandas.read_csv) and [here](https://docs.mesastar.org/en/24.08.1/using_mesa/output.html#examples)."
   ]
  },
  {
   "cell_type": "markdown",
   "metadata": {},
   "source": [
    "The `matplotlib` reference page is linked [here](https://matplotlib.org/stable/api/index.html)."
   ]
  },
  {
   "cell_type": "code",
   "execution_count": 14,
   "metadata": {
    "tags": []
   },
   "outputs": [],
   "source": [
    "# Okay, now we have two arrays for the 1msun model\n",
    "# plot those data here. you might want to use `plt.invert_xaxis()`"
   ]
  },
  {
   "cell_type": "code",
   "execution_count": 15,
   "metadata": {},
   "outputs": [],
   "source": [
    "# Plot all three models on the same HR diagram here and add a legend.\n",
    "# Make sure your x-axis is going the correct direction!"
   ]
  },
  {
   "cell_type": "markdown",
   "metadata": {
    "user_expressions": []
   },
   "source": [
    "Can you identify the main sequence on this plot?\n",
    "\n",
    "We also see that only the 1 solar mass star \"finished' stellar evolution, winding up as a cooling white dwarf at the end -- the path it is following is essentially a line of constant radius, since the white dwarf does not contract as it cools (it is degenerate)."
   ]
  },
  {
   "cell_type": "markdown",
   "metadata": {
    "tags": []
   },
   "source": [
    "## b \n",
    "\n",
    "### Central evolution"
   ]
  },
  {
   "cell_type": "markdown",
   "metadata": {},
   "source": [
    "We want to plot the history of the evolution of the central conditions  in the $\\log \\rho$-$\\log T$ plane."
   ]
  },
  {
   "cell_type": "markdown",
   "metadata": {
    "tags": []
   },
   "source": [
    "Now we can plot the data"
   ]
  },
  {
   "cell_type": "code",
   "execution_count": 16,
   "metadata": {},
   "outputs": [],
   "source": [
    "## in a similar way as above, plot the three stellar model history data, this time for the central density and \n",
    "# central temperature"
   ]
  },
  {
   "cell_type": "markdown",
   "metadata": {
    "user_expressions": []
   },
   "source": [
    "Note: The 1 solar mass star makes a transition from following $T \\approx \\rho^{1/3}$ to $\\rho = \\mbox{constant}$ when degeneracy kicks in - no density dependence!\n"
   ]
  },
  {
   "cell_type": "markdown",
   "metadata": {
    "tags": []
   },
   "source": [
    "## c\n",
    "\n",
    "### Main sequence lifetime\n",
    "\n",
    "We can estimate the main sequence lifetime just by looking for when the core H is all consumed. Consider plotting the central mass fraction of hydrogen over time. "
   ]
  },
  {
   "cell_type": "code",
   "execution_count": 20,
   "metadata": {},
   "outputs": [],
   "source": [
    "#fig, ax = plt.subplots()\n",
    "#ax.semilogx(# fill in here"
   ]
  },
  {
   "cell_type": "markdown",
   "metadata": {
    "user_expressions": []
   },
   "source": [
    "From this plot, we see that the main sequence lifetime of the 15 $M_\\odot$ star is $\\sim 6\\times 10^6$ yr, for the 8 $M_\\odot$ star $\\sim 2\\times 10^7$ yr, and for the 1 $M_\\odot$ star $\\sim 9\\times 10^9$ yr. Do these values match the rough estimates from HKT 1.88?"
   ]
  },
  {
   "cell_type": "markdown",
   "metadata": {},
   "source": [
    "## d   \n",
    "\n",
    "For each mass of stellar model, plot an HR diagram individually and label at least 2 key evolutionary epochs.\n",
    "To annotate plots in matplotlib you can [use](https://matplotlib.org/stable/api/_as_gen/matplotlib.pyplot.annotate.html). You can reference our slides on [here](../lectures/week3/day_4.ipynb) for exammples of labels: MS, TO, RGB, etc. "
   ]
  },
  {
   "cell_type": "code",
   "execution_count": null,
   "metadata": {},
   "outputs": [],
   "source": [
    "## 1msun history model HR diagram here with two locations labeled"
   ]
  },
  {
   "cell_type": "code",
   "execution_count": 19,
   "metadata": {},
   "outputs": [],
   "source": [
    "## same for 7m here"
   ]
  },
  {
   "cell_type": "code",
   "execution_count": null,
   "metadata": {},
   "outputs": [],
   "source": [
    "## same for 15m here"
   ]
  }
 ],
 "metadata": {
  "kernelspec": {
   "display_name": "Python 3 (ipykernel)",
   "language": "python",
   "name": "python3"
  },
  "language_info": {
   "codemirror_mode": {
    "name": "ipython",
    "version": 3
   },
   "file_extension": ".py",
   "mimetype": "text/x-python",
   "name": "python",
   "nbconvert_exporter": "python",
   "pygments_lexer": "ipython3",
   "version": "3.11.8"
  }
 },
 "nbformat": 4,
 "nbformat_minor": 4
}
