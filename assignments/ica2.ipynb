{
 "cells": [
  {
   "cell_type": "markdown",
   "metadata": {
    "user_expressions": []
   },
   "source": [
    "# In-Class Assignment 2\n",
    "\n",
    "**Credit: These exercises follow from work by Mike Zingale's computational lectures.**"
   ]
  },
  {
   "cell_type": "markdown",
   "metadata": {
    "user_expressions": []
   },
   "source": [
    "We will be picking up from ICA1. These exercises require the solutions from ICA1 and are included here. "
   ]
  },
  {
   "cell_type": "code",
   "execution_count": null,
   "metadata": {
    "tags": []
   },
   "outputs": [],
   "source": [
    "from sympy import init_session\n",
    "init_session(use_latex=\"mathjax\")\n",
    "%matplotlib inline"
   ]
  },
  {
   "cell_type": "markdown",
   "metadata": {
    "user_expressions": []
   },
   "source": [
    "## 1. stellar model"
   ]
  },
  {
   "cell_type": "code",
   "execution_count": null,
   "metadata": {
    "tags": []
   },
   "outputs": [],
   "source": [
    "rho = symbols('rho', cls=Function)\n",
    "rhoc = symbols('rho_c')\n",
    "qc = symbols('q_c')\n",
    "Pc = symbols('P_c')\n",
    "G = symbols('G')\n",
    "Mstar, Rstar = symbols('M_\\star R_\\star')\n",
    "r = symbols('r')\n",
    "xi = symbols('xi')\n",
    "mu = symbols('mu')\n",
    "k = symbols('k')\n",
    "m_u = symbols('m_u')"
   ]
  },
  {
   "cell_type": "markdown",
   "metadata": {
    "user_expressions": []
   },
   "source": [
    "Imagine a star has a density profile of the form:\n",
    "\n",
    "$$\\rho(r) = \\rho_c \\left [ 1 - \\left (\\frac{r}{R_\\star} \\right )^3 \\right ]$$\n",
    "\n",
    "where $\\rho_c$ is the central density.\n"
   ]
  },
  {
   "cell_type": "code",
   "execution_count": null,
   "metadata": {
    "tags": []
   },
   "outputs": [],
   "source": [
    "rho = rhoc * (1 - (r/Rstar)**3)\n",
    "rho"
   ]
  },
  {
   "cell_type": "code",
   "execution_count": null,
   "metadata": {},
   "outputs": [],
   "source": [
    "z = (rho/rhoc).subs(r, xi*Rstar)\n",
    "plot(z, (xi, 0, 1), xlabel=r\"$r/R_\\star$\", ylabel=r\"$\\rho(r)$\")"
   ]
  },
  {
   "cell_type": "markdown",
   "metadata": {
    "user_expressions": []
   },
   "source": [
    "Find an expression for the central density in terms of\n",
    "     $R_\\star$ and $M_\\star$.\n"
   ]
  },
  {
   "cell_type": "code",
   "execution_count": null,
   "metadata": {
    "tags": []
   },
   "outputs": [],
   "source": [
    "M = integrate(4*pi*r**2*rho, (r, 0, Rstar))\n",
    "M"
   ]
  },
  {
   "cell_type": "code",
   "execution_count": null,
   "metadata": {
    "user_expressions": []
   },
   "outputs": [],
   "source": [
    "rc = solve(Eq(M, Mstar), rhoc)[0]\n",
    "rc"
   ]
  },
  {
   "cell_type": "code",
   "execution_count": null,
   "metadata": {
    "tags": []
   },
   "outputs": [],
   "source": [
    "rho = rho.subs(rhoc, rc)\n",
    "rho"
   ]
  },
  {
   "cell_type": "markdown",
   "metadata": {
    "user_expressions": []
   },
   "source": [
    "Use HSE and the fact that the pressure vanishes at the surface\n",
    "    to find the pressure as a function of\n",
    "    radius.  Your answer will be in the form of $P(r) = P_c \\times$\n",
    "    (polynomial in $r/R_\\star$).  \n",
    "    \n",
    "What is $P_c$ in terms of $M_\\star$ and $R_\\star$?  \n",
    "    \n",
    "Express $P_c$ numerically with $M_\\star$ and $R_\\star$ in solar units."
   ]
  },
  {
   "cell_type": "code",
   "execution_count": null,
   "metadata": {
    "tags": []
   },
   "outputs": [],
   "source": [
    "M = integrate(4*pi*r**2*rho, (r, 0, r))\n",
    "M"
   ]
  },
  {
   "cell_type": "code",
   "execution_count": null,
   "metadata": {},
   "outputs": [],
   "source": [
    "z = simplify((M/Mstar).subs(r, xi*Rstar))\n",
    "plot(z, (xi, 0, 1), xlabel=r\"$r/R_\\star$\", ylabel=r\"$M(r)$\")"
   ]
  },
  {
   "cell_type": "markdown",
   "metadata": {
    "user_expressions": []
   },
   "source": [
    "Now we can integrate HSE.  We will do this as\n",
    "\n",
    "$$P = P_c + \\int_0^{R_\\star} \\frac{-GM(r)}{r^2} \\rho dr$$\n",
    "\n",
    "We'll substitute in our expressions for $M(r)$ and $\\rho(r)$ in the integrand."
   ]
  },
  {
   "cell_type": "code",
   "execution_count": null,
   "metadata": {
    "tags": []
   },
   "outputs": [],
   "source": [
    "rho"
   ]
  },
  {
   "cell_type": "markdown",
   "metadata": {
    "user_expressions": []
   },
   "source": [
    "However, recall that $P(R_\\star) = 0$, so we can enforce that here to find $P_c$"
   ]
  },
  {
   "cell_type": "code",
   "execution_count": null,
   "metadata": {},
   "outputs": [],
   "source": [
    "expand(G*M/r**2*rho)"
   ]
  },
  {
   "cell_type": "markdown",
   "metadata": {
    "user_expressions": []
   },
   "source": [
    "For our general pressure expression. we integrate to some shell $r$"
   ]
  },
  {
   "cell_type": "code",
   "execution_count": null,
   "metadata": {
    "tags": []
   },
   "outputs": [],
   "source": [
    "P = Pc + integrate(-G*M/r**2*rho, (r, 0, Rstar))\n",
    "P"
   ]
  },
  {
   "cell_type": "markdown",
   "metadata": {
    "user_expressions": []
   },
   "source": [
    "Or factoring $P_c$ out (i.e. $P/P_c$), we have"
   ]
  },
  {
   "cell_type": "code",
   "execution_count": null,
   "metadata": {
    "tags": []
   },
   "outputs": [],
   "source": [
    "Pc = solve(Eq(P, 0), Pc)[0]\n",
    "Pc"
   ]
  },
  {
   "cell_type": "code",
   "execution_count": null,
   "metadata": {
    "tags": []
   },
   "outputs": [],
   "source": [
    "P = Pc + integrate(-G*M/r**2*rho, (r, 0, r))\n",
    "P"
   ]
  },
  {
   "cell_type": "code",
   "execution_count": null,
   "metadata": {},
   "outputs": [],
   "source": [
    "simplify(P/Pc)"
   ]
  },
  {
   "cell_type": "code",
   "execution_count": null,
   "metadata": {},
   "outputs": [],
   "source": [
    "z = simplify((P/Pc).subs(r, xi*Rstar))\n",
    "plot(z, (xi, 0, 1), xlabel=r\"$r/R_\\star$\", ylabel=r\"$P(r)$\")"
   ]
  },
  {
   "cell_type": "markdown",
   "metadata": {},
   "source": [
    "### a.\n",
    "\n",
    "In this model, what is the central temperature, $T_\\star$?\n",
    "(Assume an ideal gas).  Compare to the result from the\n",
    "    constant-density model (we did this in class).  Why is the central\n",
    "    pressure higher for the linear model whereas the central\n",
    "    temperature is lower?"
   ]
  },
  {
   "cell_type": "markdown",
   "metadata": {},
   "source": [
    "The central temperature, assuming the ideal gas law, is:\n",
    "\n",
    "$$T_c = \\frac{\\mu m_u P}{\\rho k}$$"
   ]
  },
  {
   "cell_type": "markdown",
   "metadata": {},
   "source": [
    "let's start by evaluating the central pressure in the Sun for this model. Use the `subs` function to compute $P_c$ and $\\rho_c$ using the equations we found from ICA1 above."
   ]
  },
  {
   "cell_type": "code",
   "execution_count": null,
   "metadata": {},
   "outputs": [],
   "source": [
    "# compute Pc here\n",
    "\n",
    "# compute rho_c here"
   ]
  },
  {
   "cell_type": "markdown",
   "metadata": {},
   "source": [
    "Okay great, but we still need to know the composition before we can compute the temperature. \n",
    "\n",
    "We'll look at two choices here:"
   ]
  },
  {
   "cell_type": "markdown",
   "metadata": {},
   "source": [
    "i. pure H composition has $\\mu = 1/2$"
   ]
  },
  {
   "cell_type": "code",
   "execution_count": null,
   "metadata": {},
   "outputs": [],
   "source": [
    "# compute Tc here for this composition"
   ]
  },
  {
   "cell_type": "markdown",
   "metadata": {},
   "source": [
    "ii. pure He composition has $\\mu = 4/3$"
   ]
  },
  {
   "cell_type": "code",
   "execution_count": null,
   "metadata": {},
   "outputs": [],
   "source": [
    "# compute Tc here for this composition"
   ]
  },
  {
   "cell_type": "markdown",
   "metadata": {},
   "source": [
    "The central pressure for the constant-density model (HKT 1.39) was\n",
    "\\begin{equation}\n",
    "P_c = \\frac{3}{8\\pi} \\frac{GM_\\star^2}{R_\\star^4}\n",
    "\\end{equation}\n",
    "Here, with the cubic density profile, we find \n",
    "\\begin{equation}\n",
    "P_c = \\frac{63}{80\\pi} \\frac{G M_\\star^{2}}{R_\\star^{4}}\n",
    "\\end{equation}\n",
    "The pressure is greater in this model because more mass is concentrated toward the center of the star, increasing the force of gravity throughout, making the outer layers weigh more.\n",
    "\n",
    "The temperature is the _almost the same_ in both models, since both the central pressure and central density increase by the here.\n",
    "\n",
    "Let's evaluate $P_c/\\rho_c$ for our model"
   ]
  },
  {
   "cell_type": "code",
   "execution_count": null,
   "metadata": {},
   "outputs": [],
   "source": [
    "# Pc/rc"
   ]
  },
  {
   "cell_type": "markdown",
   "metadata": {},
   "source": [
    "This shows us that the central temperature is:\n",
    "\n",
    "$$T_c = \\frac{21}{40} \\frac{G M_\\star}{R_\\star} \\frac{\\mu m_u}{k}$$\n",
    "\n",
    "while for the constant density model, the coefficient was 1/2"
   ]
  },
  {
   "cell_type": "markdown",
   "metadata": {},
   "source": [
    "### b.\n",
    "Verify that the virial theorem is satisfied and write down an\n",
    "    explicit expression for $\\Omega$ (i.e. what is the `$\\alpha$'\n",
    "    coefficient)?\n",
    "\n",
    "\n",
    "We want to demonstrate that (HKT 1.21)\n",
    "\n",
    "$$- \\int_0^{M_\\star} \\frac{3 p}{\\rho} dm = \\Omega$$"
   ]
  },
  {
   "cell_type": "markdown",
   "metadata": {},
   "source": [
    "### gravitational potential energy\n",
    "\n",
    "We start by integrating (HKT 1.6)\n",
    "\n",
    "$$\\Omega = \\int_0^{M_\\star} \\frac{GM(r)}{r} dm = \\int_0^{R_\\star} \\frac{G M(r)}{r} 4\\pi r^2 \\rho dr$$\n",
    "\n",
    "To do this, we use our expression for $M(r)$ and $\\rho(r)$"
   ]
  },
  {
   "cell_type": "code",
   "execution_count": null,
   "metadata": {},
   "outputs": [],
   "source": [
    "# define Omega and integrate it here"
   ]
  },
  {
   "cell_type": "code",
   "execution_count": null,
   "metadata": {},
   "outputs": [],
   "source": [
    "# what value of alpha did u find? "
   ]
  },
  {
   "cell_type": "markdown",
   "metadata": {},
   "source": [
    "### internal energy\n",
    "\n",
    "We need to compute:\n",
    "\n",
    "$$-3 \\int_0^{M_\\star} \\frac{p}{\\rho} dM = -3 \\int_0^{R_\\star} 4 \\pi r^2 P dr$$\n",
    "\n",
    "and we can use our expression for $P(r)$"
   ]
  },
  {
   "cell_type": "code",
   "execution_count": null,
   "metadata": {},
   "outputs": [],
   "source": [
    "# solve the above equation here, does it equal omega?"
   ]
  },
  {
   "cell_type": "markdown",
   "metadata": {},
   "source": [
    "### c.\n",
    "Assume that the nuclear energy production rate is given as:\n",
    "\n",
    "$$\n",
    "q(r) = \\begin{cases}\n",
    "        q_0 \\left ( 1 - \\frac{r}{0.2 R_\\star} \\right ) & r \\le 0.2 R_\\star \\\\\n",
    "        0 & r > 0.2 R_\\star\n",
    "      \\end{cases}\n",
    "$$\n",
    "\n",
    "Calculate the luminosity of the star at its surface in terms of\n",
    "$R_\\star$, $\\rho_c$, and $q_0$."
   ]
  },
  {
   "cell_type": "markdown",
   "metadata": {},
   "source": [
    "We just need to do the integral:\n",
    "\n",
    "$$L = \\int_0^{M_\\star} q dm = \\int_0^{R_\\star} q(r) 4 \\pi r^2 \\rho(r) dr$$\n",
    "\n",
    "(this is the result when we are in thermal equilibrium).\n",
    "\n",
    "Since $q(r)$ is 0 beyond $R_\\star/5$, we only need to integrate up to that point."
   ]
  },
  {
   "cell_type": "code",
   "execution_count": null,
   "metadata": {},
   "outputs": [],
   "source": [
    "# define q(r) here"
   ]
  },
  {
   "cell_type": "code",
   "execution_count": null,
   "metadata": {},
   "outputs": [],
   "source": [
    "# integrate L using q(r)"
   ]
  },
  {
   "cell_type": "code",
   "execution_count": null,
   "metadata": {},
   "outputs": [],
   "source": []
  }
 ],
 "metadata": {
  "kernelspec": {
   "display_name": "Python 3 (ipykernel)",
   "language": "python",
   "name": "python3"
  },
  "language_info": {
   "codemirror_mode": {
    "name": "ipython",
    "version": 3
   },
   "file_extension": ".py",
   "mimetype": "text/x-python",
   "name": "python",
   "nbconvert_exporter": "python",
   "pygments_lexer": "ipython3",
   "version": "3.11.8"
  }
 },
 "nbformat": 4,
 "nbformat_minor": 4
}
