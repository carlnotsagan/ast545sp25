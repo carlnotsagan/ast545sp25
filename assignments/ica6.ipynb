{
 "cells": [
  {
   "cell_type": "markdown",
   "id": "d5eac2a9-b449-42fb-bb24-b49eef108c03",
   "metadata": {
    "tags": [],
    "user_expressions": []
   },
   "source": [
    "# In-Class Assignment 6\n",
    "\n",
    "\n",
    "# A Simple Type II Supernova Lightcurve"
   ]
  },
  {
   "cell_type": "code",
   "execution_count": 1,
   "id": "9030d511-878b-4755-8262-fe7dca77db41",
   "metadata": {
    "tags": []
   },
   "outputs": [],
   "source": [
    "import numpy as np\n",
    "import matplotlib.pyplot as plt"
   ]
  },
  {
   "cell_type": "markdown",
   "id": "f25ba6fa-96cc-4c92-9417-e656c8d87295",
   "metadata": {
    "user_expressions": []
   },
   "source": [
    "A simple model of a supernova lightcurve is just to add up the energy of the photons that result from the decay:\n",
    "\n",
    "$${}^{56}\\mathrm{Ni} \\rightarrow {}^{56}\\mathrm{Co} \\rightarrow {}^{56}\\mathrm{Fe}$$\n",
    "\n",
    "The evolution equations for the number densities appear as:\n",
    "\n",
    "$$\n",
    "\\frac{dn_\\mathrm{Ni}}{dt} = -\\lambda_\\mathrm{Ni} n_\\mathrm{Ni} \\\\\n",
    "\\frac{dn_\\mathrm{Co}}{dt} = +\\lambda_\\mathrm{Ni} n_\\mathrm{Ni} - \\lambda_\\mathrm{Co} n_\\mathrm{Co}\n",
    "$$\n",
    "\n",
    "where $\\lambda_\\mathrm{Ni}$ is the decay constant for ${}^{56}\\mathrm{Ni}$ and $\\lambda_\\mathrm{Co}$\n",
    "is the decay constant for ${}^{56}\\mathrm{Co}$.\n",
    "\n",
    "The initial conditions are:\n",
    "\n",
    "$$\n",
    "n_\\mathrm{Ni}(t = 0) = n_0 \\\\\n",
    "n_\\mathrm{Co}(t = 0) = 0\n",
    "$$\n",
    "\n",
    "We can integrate the Ni equation directly, giving:\n",
    "\n",
    "$$n_\\mathrm{Ni} = n_0 e^{-\\lambda_\\mathrm{Ni} t} \\equiv X_{\\rm{Ni}}$$\n",
    "\n",
    "then the Co equation becomes:\n",
    "\n",
    "$$\\frac{dn_\\mathrm{Co}}{dt} = \\lambda_\\mathrm{Ni} n_0 e^{-\\lambda_\\mathrm{Ni} t} - \\lambda_\\mathrm{Co} n_\\mathrm{Co}$$\n",
    "\n",
    "This can be integrated by applying an integrating factor:\n",
    "\n",
    "$$\\frac{d}{dt} \\left ( e^{\\lambda_\\mathrm{Co} t} n_\\mathrm{Co} \\right ) =\n",
    "    e^{\\lambda_\\mathrm{Co} t} \\frac{dn_\\mathrm{Co}}{dt} + \\lambda_\\mathrm{Co} e^{\\lambda_\\mathrm{Co} t} n_\\mathrm{Co} = e^{\\lambda_\\mathrm{Co} t} \\left [ \\frac{dn_\\mathrm{Co}}{dt} + \\lambda_\\mathrm{Co} n_\\mathrm{Co} \\right ]$$\n",
    "    \n",
    "Now the term in the $[ \\ldots ]$ is just $\\lambda_\\mathrm{Ni} n_\\mathrm{Ni}$, so this becomes:\n",
    "\n",
    "$$\\frac{d}{dt} \\left ( e^{\\lambda_\\mathrm{Co} t} n_\\mathrm{Co} \\right ) =\n",
    "    e^{\\lambda_\\mathrm{Co} t} \\lambda_\\mathrm{Ni} n_0 e^{-\\lambda_\\mathrm{Ni} t}$$\n",
    "    \n",
    "This gives:\n",
    "\n",
    "$$n_\\mathrm{Co} = \\frac{\\lambda_\\mathrm{Ni}}{\\lambda_\\mathrm{Co} - \\lambda_\\mathrm{Ni}}\n",
    "    n_0 \\left ( e^{-\\lambda_\\mathrm{Ni} t} - e^{-\\lambda_\\mathrm{Co} t} \\right ) \\equiv X_{\\rm{Co}}$$"
   ]
  },
  {
   "cell_type": "markdown",
   "id": "7c10cbbd-1b6d-41d2-bf5d-41654dc839c0",
   "metadata": {
    "user_expressions": []
   },
   "source": [
    "With these number densities, we can get the total amount of Ni or Co at any point in time:\n",
    "\n",
    "$$N_\\mathrm{Ni} = n_\\mathrm{Ni} V = \\frac{X_\\mathrm{Ni} \\rho}{m_\\mathrm{Ni}} V = \\frac{X_\\mathrm{Ni} M_\\mathrm{exp}}{m_\\mathrm{Ni}}$$\n",
    "\n",
    "and\n",
    "\n",
    "$$N_\\mathrm{Co} = \\frac{X_\\mathrm{Co} M_\\mathrm{exp}}{m_\\mathrm{Co}}$$\n",
    "\n",
    "This gives:\n",
    "\n",
    "$$\n",
    "L(t) = -Q_\\mathrm{Ni} (-\\lambda_\\mathrm{Ni} N_\\mathrm{Ni} ) - Q_\\mathrm{Co} (-\\lambda_\\mathrm{Co} N_\\mathrm{Co} ) \n",
    "$$\n",
    "\n",
    "$$\n",
    "L(t) \\approx \\left [ Q_\\mathrm{Ni} \\lambda_\\mathrm{Ni} X_\\mathrm{Ni} + Q_\\mathrm{Co} \\lambda_\\mathrm{Co} X_\\mathrm{Co} \\right ] \\frac{M_\\mathrm{exp}}{m_{56}}\n",
    "$$\n",
    "\n",
    "where $m_{56}$ is just $56 m_u$, with $m_u$ the atomic mass unit (this approximates the mass of Ni and Co)."
   ]
  },
  {
   "cell_type": "markdown",
   "id": "73fd181a-45e7-470d-a2a8-d9073be1e8ec",
   "metadata": {
    "user_expressions": []
   },
   "source": [
    "## Implementation"
   ]
  },
  {
   "cell_type": "markdown",
   "id": "2d977b67-99db-43fe-a347-b0780e94a243",
   "metadata": {
    "user_expressions": []
   },
   "source": [
    "some physical constants"
   ]
  },
  {
   "cell_type": "code",
   "execution_count": null,
   "id": "b984953d-3c68-48fd-b33e-a20b362b563a",
   "metadata": {
    "tags": []
   },
   "outputs": [],
   "source": [
    "seconds_per_day = 24*3600\n",
    "erg_per_MeV = 1.6e-12*1.e6\n",
    "m_u = 1.66e-24     # CGS\n",
    "\n",
    "solar_mass = 2.e33          # CGS\n",
    "solar_luminosity = 4.e33    # CGS"
   ]
  },
  {
   "cell_type": "markdown",
   "id": "fd114c17-c2cc-4664-861a-cf340adde026",
   "metadata": {
    "tags": [],
    "user_expressions": []
   },
   "source": [
    "the core `LightCurve` class"
   ]
  },
  {
   "cell_type": "code",
   "execution_count": null,
   "id": "b3c45fce-7012-4dd5-a3ef-e41d7a6a7910",
   "metadata": {
    "tags": []
   },
   "outputs": [],
   "source": [
    "# uncomment to begin\n",
    "\"\"\"\n",
    "def LightCurve(M_exp, X_Ni_0=1.0):\n",
    "\n",
    "    # note: see Nadyozhin 1994, ApJ, 92, 527 for Q values of\n",
    "    # just photons.  They suggest Q_Ni = 1.75 MeV, Q_Co = 3.73 MeV\n",
    "\n",
    "    thalf_Ni = 6.1 * seconds_per_day      # half-life of Ni-56\n",
    "    lambda_Ni = np.log(2) / thalf_Ni\n",
    "    Q_Ni = 1.75 * erg_per_MeV\n",
    "    m_Ni = 56 * m_u\n",
    "\n",
    "    thalf_Co = 77.1*seconds_per_day     # half-life of Co-56\n",
    "    lambda_Co = np.log(2) / thalf_Co\n",
    "    Q_Co = 3.73 * erg_per_MeV\n",
    "    m_Co = 56 * m_u\n",
    "\n",
    "    def X_Ni(t):\n",
    "        return ##\n",
    "\n",
    "    def X_Co(t):\n",
    "        return ##\n",
    "\n",
    "    def L(t):\n",
    "        return ##\n",
    "    \n",
    "\"\"\""
   ]
  },
  {
   "cell_type": "markdown",
   "id": "f4f8564f-c47d-47c1-b6ca-a58883ebbcc4",
   "metadata": {
    "tags": [],
    "user_expressions": []
   },
   "source": [
    "## Lightcurve from $1~M_\\odot$ of ${}^{56}\\mathrm{Ni}$"
   ]
  },
  {
   "cell_type": "code",
   "execution_count": null,
   "id": "c7d39312-8ac6-4b81-9085-766826e763fb",
   "metadata": {
    "tags": []
   },
   "outputs": [],
   "source": [
    "# initial condition\n",
    "M_exp = 1.0*solar_mass\n",
    "\n",
    "\"\"\"\n",
    "lc = LightCurve(##\n",
    "t = np.logspace(np.log10(1.0), np.log10(3.e7), 100)\n",
    "\n",
    "fig, ax = plt.subplots()\n",
    "ax.plot(t / seconds_per_day, ##\n",
    "\"\"\""
   ]
  },
  {
   "cell_type": "markdown",
   "id": "756ee3a0-654f-41ea-9e7e-572689340f03",
   "metadata": {
    "user_expressions": []
   },
   "source": [
    "## Different masses of ${}^{56}\\mathrm{Ni}$"
   ]
  },
  {
   "cell_type": "code",
   "execution_count": null,
   "id": "ca9f1af7-98e4-458d-824f-0f3c27a0b4e6",
   "metadata": {
    "tags": []
   },
   "outputs": [],
   "source": [
    "\n",
    "t = np.logspace(np.log10(1.0), np.log10(3.e7), 100)\n",
    "\n",
    "## create the same plot for M_Ni = [0.4,0.6,0.8,1.0,1.2]Msun"
   ]
  },
  {
   "cell_type": "markdown",
   "id": "c00ec344",
   "metadata": {},
   "source": [
    "Describe the trend you observe from the plot above. What is the result of changing the total Nickel mass?"
   ]
  },
  {
   "cell_type": "markdown",
   "id": "cdde4027",
   "metadata": {},
   "source": []
  }
 ],
 "metadata": {
  "kernelspec": {
   "display_name": "Python 3 (ipykernel)",
   "language": "python",
   "name": "python3"
  },
  "language_info": {
   "codemirror_mode": {
    "name": "ipython",
    "version": 3
   },
   "file_extension": ".py",
   "mimetype": "text/x-python",
   "name": "python",
   "nbconvert_exporter": "python",
   "pygments_lexer": "ipython3",
   "version": "3.11.8"
  }
 },
 "nbformat": 4,
 "nbformat_minor": 5
}
