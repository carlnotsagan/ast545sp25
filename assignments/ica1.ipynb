{
 "cells": [
  {
   "cell_type": "markdown",
   "metadata": {
    "user_expressions": []
   },
   "source": [
    "# In-Class Assignment 1\n",
    "\n",
    "**Credit: These exercises follow from work by Mike Zingale's computational lectures. Used here with explicit permission.**"
   ]
  },
  {
   "cell_type": "markdown",
   "metadata": {
    "user_expressions": []
   },
   "source": [
    "I'm using SymPy -- the symbolic math library for python -- to do the algebra here.  The next 2 cells load SymPy for interactive work and define the variables we are going to use (and treat as math symbols)\n",
    "\n",
    "Let's start by importing the necessary components:"
   ]
  },
  {
   "cell_type": "code",
   "execution_count": null,
   "metadata": {
    "tags": []
   },
   "outputs": [],
   "source": [
    "from sympy import init_session\n",
    "init_session(use_latex=\"mathjax\")\n",
    "%matplotlib inline"
   ]
  },
  {
   "cell_type": "markdown",
   "metadata": {
    "user_expressions": []
   },
   "source": [
    "## 1. stellar model\n",
    "\n",
    "Below are some examples of defining variables that we will use in the follow exercises. "
   ]
  },
  {
   "cell_type": "code",
   "execution_count": null,
   "metadata": {
    "tags": []
   },
   "outputs": [],
   "source": [
    "rho = symbols('rho', cls=Function)\n",
    "rhoc = symbols('rho_c')\n",
    "qc = symbols('q_c')\n",
    "Pc = symbols('P_c')\n",
    "G = symbols('G')\n",
    "Mstar, Rstar = symbols('M_\\star R_\\star')\n",
    "r = symbols('r')\n",
    "xi = symbols('xi')\n",
    "mu = symbols('mu')\n",
    "k = symbols('k')\n",
    "m_u = symbols('m_u')"
   ]
  },
  {
   "cell_type": "markdown",
   "metadata": {
    "user_expressions": []
   },
   "source": [
    "Imagine a star has a density profile of the form:\n",
    "\n",
    "$$\\rho(r) = \\rho_c \\left [ 1 - \\left (\\frac{r}{R_\\star} \\right )^3 \\right ]$$\n",
    "\n",
    "where $\\rho_c$ is the central density.\n"
   ]
  },
  {
   "cell_type": "markdown",
   "metadata": {},
   "source": [
    "### a. \n",
    "\n",
    "first, plot a new quantity, lets call it $z = \\rho (\\xi * R_{\\star})/\\rho_c $, where we have taken the equation above, normalized by the still unknown central density and substituted $r$."
   ]
  },
  {
   "cell_type": "markdown",
   "metadata": {},
   "source": [
    "```{toggle} \n",
    "https://docs.sympy.org/latest/modules/core.html#sympy.core.basic.Basic.subs\n",
    "```"
   ]
  },
  {
   "cell_type": "code",
   "execution_count": null,
   "metadata": {
    "tags": []
   },
   "outputs": [],
   "source": [
    "# plot z as a function of xi from 0 to 1 below"
   ]
  },
  {
   "cell_type": "markdown",
   "metadata": {
    "user_expressions": []
   },
   "source": [
    "### b. \n",
    "\n",
    "Find an expression for the central density in terms of\n",
    "     $R_\\star$ and $M_\\star$.\n"
   ]
  },
  {
   "cell_type": "markdown",
   "metadata": {},
   "source": [
    "```{toggle} \n",
    "You need to use the mass equation from Chapter 1.1 in HKT.\n",
    "```"
   ]
  },
  {
   "cell_type": "code",
   "execution_count": null,
   "metadata": {
    "tags": []
   },
   "outputs": [],
   "source": [
    "# define rho here as a function of r, not normalized"
   ]
  },
  {
   "cell_type": "code",
   "execution_count": null,
   "metadata": {
    "user_expressions": []
   },
   "outputs": [],
   "source": [
    "# Next, we have to compute M_star here"
   ]
  },
  {
   "cell_type": "markdown",
   "metadata": {
    "tags": []
   },
   "source": [
    "```{toggle} \n",
    "https://docs.sympy.org/latest/modules/core.html#sympy.core.expr.Expr.integrate\n",
    "```"
   ]
  },
  {
   "cell_type": "code",
   "execution_count": null,
   "metadata": {
    "tags": []
   },
   "outputs": [],
   "source": [
    "# Now, use M_star to finally find the central density"
   ]
  },
  {
   "cell_type": "markdown",
   "metadata": {
    "user_expressions": []
   },
   "source": [
    "Now we will symbolically replace $\\rho_c$ in the density expression with this result for the future calculations"
   ]
  },
  {
   "cell_type": "code",
   "execution_count": null,
   "metadata": {
    "tags": []
   },
   "outputs": [],
   "source": [
    "# Do substitution here for new rho(r) expression"
   ]
  },
  {
   "cell_type": "markdown",
   "metadata": {
    "user_expressions": []
   },
   "source": [
    "### c.\n",
    "\n",
    "Use HSE and the fact that the pressure vanishes at the surface\n",
    "    to find the pressure as a function of\n",
    "    radius.  Your answer will be in the form of $P(r) = P_c \\times$\n",
    "    (polynomial in $r/R_\\star$).  \n",
    "    \n",
    "What is $P_c$ in terms of $M_\\star$ and $R_\\star$?  \n",
    "    \n",
    "Express $P_c$ numerically with $M_\\star$ and $R_\\star$ in solar units."
   ]
  },
  {
   "cell_type": "markdown",
   "metadata": {
    "user_expressions": []
   },
   "source": [
    "```{toggle} \n",
    "We need to find a general expression for $M(r)$\n",
    "```"
   ]
  },
  {
   "cell_type": "code",
   "execution_count": null,
   "metadata": {
    "tags": []
   },
   "outputs": [],
   "source": [
    "# plot the resulting expression here for Pc here "
   ]
  },
  {
   "cell_type": "markdown",
   "metadata": {
    "user_expressions": []
   },
   "source": [
    "Now we can integrate HSE.  We will do this as\n",
    "\n",
    "$$P = P_c + \\int_0^{R_\\star} \\frac{-GM(r)}{r^2} \\rho dr$$\n",
    "\n",
    "We'll substitute in our expressions for $M(r)$ and $\\rho(r)$ in the integrand."
   ]
  },
  {
   "cell_type": "code",
   "execution_count": null,
   "metadata": {
    "tags": []
   },
   "outputs": [],
   "source": [
    "# Solve for Pc here"
   ]
  },
  {
   "cell_type": "markdown",
   "metadata": {
    "user_expressions": []
   },
   "source": [
    "However, recall that $P(R_\\star) = 0$, so we can enforce that here to find $P_c$"
   ]
  },
  {
   "cell_type": "code",
   "execution_count": null,
   "metadata": {},
   "outputs": [],
   "source": [
    "# Solve here given this boundary condition, did this change the result of the integrand?"
   ]
  },
  {
   "cell_type": "markdown",
   "metadata": {
    "user_expressions": []
   },
   "source": [
    "For our general pressure expression. we integrate to some shell $r$"
   ]
  },
  {
   "cell_type": "code",
   "execution_count": null,
   "metadata": {
    "tags": []
   },
   "outputs": [],
   "source": [
    "# Compute our general expression here for P"
   ]
  },
  {
   "cell_type": "markdown",
   "metadata": {
    "user_expressions": []
   },
   "source": [
    "Or factoring $P_c$ out (i.e. $P/P_c$), we have"
   ]
  },
  {
   "cell_type": "code",
   "execution_count": null,
   "metadata": {
    "tags": []
   },
   "outputs": [],
   "source": [
    "# Simplify the expression by factoring out P_c"
   ]
  },
  {
   "cell_type": "markdown",
   "metadata": {
    "user_expressions": []
   },
   "source": [
    "```{toggle} \n",
    "\n",
    "The resulting equation should be\n",
    "\n",
    "\\begin{equation}\n",
    "P(r) = P_c \\left [1 - \\frac{40}{21} \\left (\\frac{r}{R_\\star}\\right )^2\n",
    "                    + \\frac{8}{7} \\left (\\frac{r}{R_\\star}\\right )^3 \n",
    "                    - \\frac{5}{21} \\left ( \\frac{r}{R_\\star}\\right )^8 \\right ]\n",
    "\\end{equation}\n",
    "\n",
    "```"
   ]
  },
  {
   "cell_type": "code",
   "execution_count": null,
   "metadata": {
    "tags": []
   },
   "outputs": [],
   "source": [
    "# Finally, plot a rescaled version of the result for P, as we did in a. "
   ]
  }
 ],
 "metadata": {
  "kernelspec": {
   "display_name": "Python 3 (ipykernel)",
   "language": "python",
   "name": "python3"
  },
  "language_info": {
   "codemirror_mode": {
    "name": "ipython",
    "version": 3
   },
   "file_extension": ".py",
   "mimetype": "text/x-python",
   "name": "python",
   "nbconvert_exporter": "python",
   "pygments_lexer": "ipython3",
   "version": "3.11.8"
  }
 },
 "nbformat": 4,
 "nbformat_minor": 4
}
