{
 "cells": [
  {
   "cell_type": "markdown",
   "metadata": {
    "user_expressions": []
   },
   "source": [
    "# In-Class Assignment 10\n",
    "\n",
    "## Exploring Heat Transfer via Convection with MESA\n",
    "\n",
    "### Learning Objectives\n",
    "\n",
    "- identify convective and radiative regions using MESA models and analytical expressions\n",
    "- explain convective behavior in advanced burning massive stars"
   ]
  },
  {
   "cell_type": "code",
   "execution_count": null,
   "metadata": {
    "tags": []
   },
   "outputs": [],
   "source": [
    "import numpy as np\n",
    "import matplotlib.pyplot as plt\n",
    "import pandas as pd"
   ]
  },
  {
   "cell_type": "markdown",
   "metadata": {
    "user_expressions": []
   },
   "source": [
    "Download the following model files locally. These data were produced using the `20M_pre_ms_to_core_collapse` test suite. \n",
    "\n",
    "* $15 M_{\\odot}$: [15m_ms_profile.data](data/week5/15m_ms_profile.data); [15m_core_O_burning_profile.data](data/week5/15m_core_O_burning_profile.data);"
   ]
  },
  {
   "cell_type": "code",
   "execution_count": null,
   "metadata": {},
   "outputs": [],
   "source": [
    "# load data and see which variables are available\n",
    "##ms = pd.read_csv('15m_ms_profile.data',sep=r'\\s+',header=4)\n",
    "##ms.columns"
   ]
  },
  {
   "cell_type": "code",
   "execution_count": null,
   "metadata": {},
   "outputs": [],
   "source": [
    "# example reading a variable from the profile data\n",
    "##ms_gradT = ms['gradT']\n",
    "##ms_gradT"
   ]
  },
  {
   "cell_type": "markdown",
   "metadata": {},
   "source": [
    "## Convection in Massive Stars\n",
    "\n",
    "Using the 15$M_\\odot$ model MESA profile: \n",
    "\n",
    "### a. \n",
    "\n",
    "Using the `15m_ms_profile.data` profile.\n",
    "\n",
    "1. Compute the adiabatic temperature gradient using HKT 3.99 for $\\nabla_{\\rm{ad}}$ and the profile plot data. \n",
    "\n",
    "2. Plot the computed $\\nabla_{\\rm{ad}}$ and $\\nabla_{\\rm{actual}}$ from the MESA profile `gradT` as a function of mass.  \n",
    "\n",
    "Where is the model convective? \n",
    "\n",
    "Compare with Pols Fig. 5.4. "
   ]
  },
  {
   "cell_type": "code",
   "execution_count": null,
   "metadata": {},
   "outputs": [],
   "source": [
    "## b results here"
   ]
  },
  {
   "cell_type": "markdown",
   "metadata": {},
   "source": [
    "### b. \n",
    "\n",
    "Add the radiative gradient $\\nabla_{\\rm{rad}}$ (`gradr`) and the $\\nabla_{\\rm{ad}}$ (`grada`) computed by MESA on the same plot.\n",
    "\n",
    "Do they agree with your computed $\\nabla_{\\rm{ad}}$?"
   ]
  },
  {
   "cell_type": "code",
   "execution_count": null,
   "metadata": {},
   "outputs": [],
   "source": [
    "## b results here"
   ]
  },
  {
   "cell_type": "markdown",
   "metadata": {},
   "source": [
    "### c. \n",
    "\n",
    "Using the `15m_core_O_burning_profile.data` profile.\n",
    "\n",
    "Plot $\\nabla_{\\rm{ad}}$, $\\nabla_{\\rm{actual}}$, and $\\nabla_{\\rm{rad}}$ from the MESA profile. \n",
    "\n",
    "\n",
    "Where is the model convective? "
   ]
  },
  {
   "cell_type": "code",
   "execution_count": null,
   "metadata": {},
   "outputs": [],
   "source": [
    "## c results here"
   ]
  },
  {
   "cell_type": "markdown",
   "metadata": {},
   "source": [
    "### d. \n",
    "\n",
    "Using the `15m_core_O_burning_profile.data` profile.\n",
    "\n",
    "Plot `mu` from the MESA profile. \n",
    "\n",
    "Comment briefly on the behavior of `mu` inside and outside of convective regions. "
   ]
  },
  {
   "cell_type": "code",
   "execution_count": null,
   "metadata": {},
   "outputs": [],
   "source": [
    "## d results here"
   ]
  }
 ],
 "metadata": {
  "kernelspec": {
   "display_name": "Python 3 (ipykernel)",
   "language": "python",
   "name": "python3"
  },
  "language_info": {
   "codemirror_mode": {
    "name": "ipython",
    "version": 3
   },
   "file_extension": ".py",
   "mimetype": "text/x-python",
   "name": "python",
   "nbconvert_exporter": "python",
   "pygments_lexer": "ipython3",
   "version": "3.11.8"
  }
 },
 "nbformat": 4,
 "nbformat_minor": 4
}
