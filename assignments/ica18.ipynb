{
 "cells": [
  {
   "cell_type": "markdown",
   "id": "c94eee47-91f3-4a43-a950-97bef7937181",
   "metadata": {},
   "source": [
    "# In-Class Assignment 18\n",
    "\n",
    "**In-Class Only, Not Submitted for Credit**, Credit: Michael Zingale."
   ]
  },
  {
   "cell_type": "markdown",
   "id": "49821960",
   "metadata": {},
   "source": [
    "## Learning Objectives\n",
    "\n",
    "- Develop a qualitative understanding of the M-R relationship for neutron stars\n",
    "- Identify the impact of the compressibility modulus $K$ on the M-R relation and the maximum mass"
   ]
  },
  {
   "cell_type": "code",
   "execution_count": null,
   "id": "7c3497c5-aad1-4ccd-a04a-bddc3ba82c37",
   "metadata": {
    "tags": []
   },
   "outputs": [],
   "source": [
    "import numpy as np\n",
    "import matplotlib.pyplot as plt"
   ]
  },
  {
   "cell_type": "markdown",
   "id": "63642d67-01bf-406e-a92d-3a7dfc17cc24",
   "metadata": {},
   "source": [
    "Here's a general integration class that implemented 4th order Runge-Kutta.  It takes\n",
    "a `rhs` function of the form:\n",
    "\n",
    "```\n",
    "rhs(r, Y, rho_func)\n",
    "```\n",
    "\n",
    "that returns the derivatives $d{\\bf Y}/dr$ for each of the variables in the array ${\\bf Y}$.\n",
    "Here, `rho_func` is a function `rho_func(pres)` that takes the pressure and returns the\n",
    "density according to our EOS."
   ]
  },
  {
   "cell_type": "code",
   "execution_count": null,
   "id": "4e6ccf05-341e-4654-b1f4-76a424e27ee1",
   "metadata": {
    "tags": []
   },
   "outputs": [],
   "source": [
    "class Integrator:\n",
    "    \"\"\" this is a simple RK4 integrator with a uniform step size\n",
    "    that can accept a list of stopping criteria to halt the integration.\n",
    "\n",
    "    There is one list element for each variable.  An entry of \"None\"\n",
    "    means that we have no stopping criteria for that variable.  A tuple\n",
    "    of the form (\"LT\", val) or (\"GT\", val), means that we stop if\n",
    "    y[n] < val (or y[n] > val)\n",
    "    \"\"\"\n",
    "\n",
    "    def __init__(self, rhs, *, stop_cond=None, rhs_args=None):\n",
    "        self.rhs = rhs\n",
    "        self.stop_cond = stop_cond\n",
    "        if rhs_args is None:\n",
    "            rhs_args = []\n",
    "        self.args = rhs_args\n",
    "\n",
    "    def rk4_step(self, x, y, dx):\n",
    "\n",
    "        dydx1 = self.rhs(x, y, *self.args)\n",
    "        y1 = y + 0.5*dx*dydx1\n",
    "        if self.check_stop_cond(y1) < 0: return None\n",
    "\n",
    "        dydx2 = self.rhs(x + 0.5*dx, y1, *self.args)\n",
    "        y2 = y + 0.5*dx*dydx2\n",
    "        if self.check_stop_cond(y2) < 0: return None\n",
    "\n",
    "        dydx3 = self.rhs(x + 0.5*dx, y2, *self.args)\n",
    "        y3 = y + dx*dydx3\n",
    "        if self.check_stop_cond(y3) < 0: return None\n",
    "\n",
    "        dydx4 = self.rhs(x + dx, y3, *self.args)\n",
    "\n",
    "        y_final = y + (dx/6.0)*(dydx1 + 2.0*dydx2 + 2.0*dydx3 + dydx4)\n",
    "        if self.check_stop_cond(y_final) < 0: return None\n",
    "\n",
    "        return y_final\n",
    "\n",
    "    def check_stop_cond(self, y):\n",
    "        # check our stopping conditions\n",
    "        if not self.stop_cond is None:\n",
    "            for n, cond in enumerate(self.stop_cond):\n",
    "                if cond is None: continue\n",
    "                c, v = cond\n",
    "                if c == \"LT\":\n",
    "                    if y[n] < v: return -1\n",
    "                elif c == \"GT\":\n",
    "                    if ynew[n] > v: return -1\n",
    "                else:\n",
    "                    sys.exit(\"invalid condition\")\n",
    "\n",
    "        return 0\n",
    "\n",
    "    def integrate(self, initial_conditions, dx, xmax, tol=1.e-8):\n",
    "        ic = np.array(initial_conditions)\n",
    "        N = len(ic)\n",
    "        sol = {}\n",
    "        for n in range(N):\n",
    "            sol[f\"y{n}\"] = [ic[n]]\n",
    "\n",
    "        x = 0.0\n",
    "        sol[\"x\"] = [x]\n",
    "\n",
    "        y = initial_conditions\n",
    "        \n",
    "        while (x < xmax and dx > tol * xmax):\n",
    "            # advance for a step\n",
    "            ynew = self.rk4_step(x, y, dx)\n",
    "\n",
    "            if ynew is None:\n",
    "                # we hit our stopping condition\n",
    "                # cut the stepsize so we can try to get closer\n",
    "                dx /= 2\n",
    "                continue\n",
    "\n",
    "            # store the solution\n",
    "            x += dx\n",
    "            sol[\"x\"].append(x)\n",
    "            for n in range(N):\n",
    "                sol[f\"y{n}\"].append(ynew[n])\n",
    "\n",
    "            y = ynew\n",
    "\n",
    "        return sol"
   ]
  },
  {
   "cell_type": "markdown",
   "id": "38fd65d9-3d15-4567-bcf1-5dfcf255f55f",
   "metadata": {},
   "source": [
    "Some physical constants (CGS)"
   ]
  },
  {
   "cell_type": "code",
   "execution_count": null,
   "id": "f3707f5f-f7db-4a7d-8ea9-4ab52b7cdb89",
   "metadata": {
    "tags": []
   },
   "outputs": [],
   "source": [
    "G = 6.67e-8\n",
    "c = 3.e10\n",
    "h = 6.63e-27\n",
    "m_u = 1.66e-24"
   ]
  },
  {
   "cell_type": "markdown",
   "id": "71e34ef6-af2d-4355-83f8-6497a6180b5e",
   "metadata": {},
   "source": [
    "Here's the righthand side function for the TOV equation"
   ]
  },
  {
   "cell_type": "code",
   "execution_count": null,
   "id": "17c90eb1-73a0-4e6f-9e25-4ba7484b2b19",
   "metadata": {
    "tags": []
   },
   "outputs": [],
   "source": [
    "def rhs_tov(r, y, rho_func):\n",
    "    m = y[0]\n",
    "    P = y[1]\n",
    "\n",
    "    rho = rho_func(P)\n",
    "    \n",
    "    dmdr = 4.0 * np.pi * r**2 * rho\n",
    "        \n",
    "    if r == 0.0:\n",
    "        dPdr = 0.0\n",
    "    else:\n",
    "        rho_term = rho + P / c**2\n",
    "        m_term = m + 4.0 * np.pi * r**3 * P / c**2\n",
    "        metric_term = (1.0 - 2.0 * G * m / (r * c**2))\n",
    "        dPdr = -(G / r**2) * rho_term * m_term / metric_term\n",
    "\n",
    "    return np.array([dmdr, dPdr])"
   ]
  },
  {
   "cell_type": "markdown",
   "id": "4cdd28fc-d43a-4d3b-8b88-400fa80b5fc7",
   "metadata": {},
   "source": [
    "Here's the righthand side function for Newtonian HSE"
   ]
  },
  {
   "cell_type": "code",
   "execution_count": null,
   "id": "af17959d-a3ac-459b-83b9-8e000c4eefc8",
   "metadata": {
    "tags": []
   },
   "outputs": [],
   "source": [
    "def rhs_newton(r, y, rho_func):\n",
    "    m = y[0]\n",
    "    P = y[1]\n",
    "\n",
    "    rho = rho_func(P)\n",
    "    \n",
    "    dmdr = 4.0 * np.pi * r**2 * rho\n",
    "    \n",
    "    if r == 0.0:\n",
    "        dPdr = 0.0\n",
    "    else:\n",
    "        dPdr = -G * m / r**2 * rho\n",
    "        \n",
    "    return np.array([dmdr, dPdr])"
   ]
  },
  {
   "cell_type": "markdown",
   "id": "6f47a033-6df3-439a-b85a-8d879c0e1221",
   "metadata": {},
   "source": [
    "## Degenerate neutrons"
   ]
  },
  {
   "cell_type": "markdown",
   "id": "9bca8782-e071-4830-a67d-22d9bbe6b11f",
   "metadata": {},
   "source": [
    "For zero-T neutron degeneracy, the number density of neutrons is just the integral of the distribution function, $n(p)$, over all momenta:\n",
    "\n",
    "$$n = \\int n(p) d^3 p = 4\\pi \\int_0^\\infty n(p) p^2 dp$$\n",
    "\n",
    "but at zero temperature the distribution function is just a step function:\n",
    "\n",
    "$$n(p) = \\frac{2}{h^3}\\left \\{ \\begin{array}{cc} 1 & \\mbox{if } p < p_F \\\\\n",
    "                                    0 & \\mbox{otherwise} \\end{array}\\right .$$\n",
    "                                    \n",
    "This gives:\n",
    "\n",
    "$$n = \\frac{\\rho}{m_u} = \\frac{8\\pi}{3h^3} p_F^3 = \\frac{8\\pi}{3} \\left (\\frac{m_u c}{h} \\right )^3 x_F^3$$\n",
    "\n",
    "where $x_F = p_F / (m_u c)$.\n",
    "\n",
    "We can then compute the pressure as:\n",
    "\n",
    "$$P = \\frac{1}{3} \\int n(p) v p d^3 p$$\n",
    "\n",
    "where we now need to use the general expression for velocity, \n",
    "\n",
    "$$v = \\frac{p}{m_u} \\left [ 1 + \\left ( \\frac{p}{m_u c} \\right)^2 \\right ]^{-1/2}$$\n",
    "\n",
    "This gives:\n",
    "\n",
    "$$P = \\frac{\\pi}{3} \\left ( \\frac{m_u c}{h} \\right )^3 m_u c^2 f(x)$$\n",
    "\n",
    "with\n",
    "\n",
    "$$f(x) = x (2x^2 - 3) (1 + x^2)^{1/2} + 3 \\sinh^{-1}(x)$$"
   ]
  },
  {
   "cell_type": "code",
   "execution_count": null,
   "id": "8af73902-a609-4d86-a5ad-77b3a7e85d89",
   "metadata": {
    "tags": []
   },
   "outputs": [],
   "source": [
    "from scipy.optimize import brentq\n",
    "\n",
    "def pres_deg(rho):\n",
    "    # compute the Fermi momentum x = p / mc\n",
    "    B = 8 * np.pi * m_u / 3.0 * (m_u * c / h)**3\n",
    "    x = np.cbrt(rho / B)\n",
    "    \n",
    "    f = x * (2 * x**2 - 3) * np.sqrt(1 + x**2) + 3 * np.arcsinh(x)\n",
    "    A = (np.pi / 3) * (m_u * c / h)**3 * m_u * c**2\n",
    "    \n",
    "    return A * f\n",
    "    \n",
    "def rho_deg(pres):\n",
    "    \n",
    "    A = (np.pi / 3) * (m_u * c / h)**3 * m_u * c**2\n",
    "    f = pres / A\n",
    "    \n",
    "    # find the x that gives us this f\n",
    "    x = brentq(lambda x: f - (x * (2 * x**2 - 3) * np.sqrt(1 + x**2) + 3 * np.arcsinh(x)), 0, 10)\n",
    "    \n",
    "    B = 8 * np.pi * m_u / 3.0 * (m_u * c / h)**3\n",
    "    return B * x**3 "
   ]
  },
  {
   "cell_type": "markdown",
   "id": "c0938969-6d11-4eec-bded-7d20b920036c",
   "metadata": {},
   "source": [
    "## A polytropic nuclear EOS\n",
    "\n",
    "A simple polytopic approximation to a nuclear equation of state (the SLy4 EOS) is:\n",
    "\n",
    "\n",
    "$$P = K \\left ( \\frac{\\rho}{\\rho_0} \\right )^\\gamma$$\n",
    "\n",
    "If we choose $K = 3.5 \\mathrm{MeV~fm^{-3}}$ and $\\rho_0 = 150 \\mathrm{MeV~fm^{-3}}$, we approximate the behavior of the SLy4 nuclear EOS (thanks to Tianqi Zhao for these approximations) with $\\gamma = 2.5$.\n",
    "\n",
    "In CGS units, using $\\gamma = 2.5$, we can take $K = 4.80\\times 10^{-3}~\\mathrm{erg~cm^{-3}}$ and write this as:\n",
    "\n",
    "$$P = K \\rho^\\gamma$$"
   ]
  },
  {
   "cell_type": "code",
   "execution_count": null,
   "id": "3b7d0709-401a-4fb0-a68e-97c172e53e0a",
   "metadata": {
    "tags": []
   },
   "outputs": [],
   "source": [
    "def pres_nuc(rho):\n",
    "    gamma = 2.5\n",
    "    K = 4.8e-3\n",
    "    \n",
    "    return K * rho**gamma\n",
    "\n",
    "def rho_nuc(pres):\n",
    "    gamma = 2.5\n",
    "    K = 4.8e-3\n",
    "    \n",
    "    return (pres / K)**(1.0 / gamma)"
   ]
  },
  {
   "cell_type": "markdown",
   "id": "87c0fa51",
   "metadata": {},
   "source": [
    "## Notebook begins here"
   ]
  },
  {
   "cell_type": "markdown",
   "id": "d1cac02d",
   "metadata": {},
   "source": [
    "## a. - The \"Chandrasekhar mass\" of a Neutron Star\n",
    "\n",
    "The Chandrasekhar mass, the maximum mass that electron degenerate objects (of fixed $\\mu_{e}$) can have before becoming gravitationally unstable and collapsing, is given by HKT 3.67:\n",
    "\n",
    "\n",
    "$$M_\\mathrm{Ch} = 1.44 \\left ( \\frac{2}{\\mu} \\right )^2 M_\\odot$$\n",
    "\n",
    "For electrons, the $\\mu$ was $\\mu_e$, as in white dwarfs. But, let's use this to compute the maximum mass of a neutron star, where now  $\\mu = 1$ for neutrons.\n",
    "\n",
    "1. Compute the maximum mass for a NS using the equation above."
   ]
  },
  {
   "cell_type": "code",
   "execution_count": null,
   "id": "98ff5f07",
   "metadata": {},
   "outputs": [],
   "source": [
    "# a result here"
   ]
  },
  {
   "cell_type": "markdown",
   "id": "66a91972-a6e7-4006-be6b-9510bf4a222b",
   "metadata": {},
   "source": [
    "## b. - Case I: Newtonian gravity, neutron degeneracy\n",
    "\n",
    "Now, let's look at the M-R relation for a Neutron star where we will use our usual HSE, but with pressure derived from $n$ degeneracy pressure.\n",
    "\n",
    "1. Evaluate the cell below for a M-R relation using our usual non-GR HSE, but with $n$ degeneracy pressure. \n",
    "2. Plot the resulting M-R and label the maximum allowed NS mass from this result.\n",
    "\n",
    "> Compare with the result of a. Do they match?"
   ]
  },
  {
   "cell_type": "markdown",
   "id": "c3fc0793-9059-4c8a-9123-5cd44baa0989",
   "metadata": {},
   "source": [
    "We'll loop over the central density and integrate the neutron star structure and store the mass and radius corresponding to each central density."
   ]
  },
  {
   "cell_type": "code",
   "execution_count": null,
   "id": "98711d1e-7b9b-43f8-9286-aebce6104c1f",
   "metadata": {
    "tags": []
   },
   "outputs": [],
   "source": [
    "ns1 = Integrator(rhs_newton, rhs_args=[rho_deg],\n",
    "                 stop_cond=[(\"LT\", 0.0), (\"LT\", 0.0)])\n",
    "\n",
    "R_max = 5.e6\n",
    "N = 1000\n",
    "\n",
    "mass_ns1 = []\n",
    "radius_ns1 = []\n",
    "\n",
    "for rhoc in np.logspace(np.log10(5.e14), np.log10(5.e18), 100):\n",
    "    \n",
    "    Pc = pres_deg(rhoc)\n",
    "    \n",
    "    sol = ns1.integrate([0.0, Pc], R_max/N, R_max)\n",
    "    \n",
    "    mass_ns1.append(sol[\"y0\"][-1]/2.e33)\n",
    "    radius_ns1.append(sol[\"x\"][-1]/1.e5)"
   ]
  },
  {
   "cell_type": "code",
   "execution_count": null,
   "id": "934082a1-2cf8-42ae-8344-b6d045b8f90b",
   "metadata": {
    "scrolled": false,
    "tags": []
   },
   "outputs": [],
   "source": [
    "# a result here"
   ]
  },
  {
   "cell_type": "markdown",
   "id": "d373402d-7a90-4b4c-b519-0ae22b9e5140",
   "metadata": {},
   "source": [
    "We see that we are approaching that maximum mass as $R \\rightarrow 0$, as expected."
   ]
  },
  {
   "cell_type": "markdown",
   "id": "7cf0822f-72f5-494b-89fc-3a2817599575",
   "metadata": {
    "tags": []
   },
   "source": [
    "## c. - Case II: GR gravity (TOV) + neutron degeneracy\n",
    "\n",
    "1. Evalue the cell below, plot the resulting R vs. M plot. \n",
    "2. Compute the maximum allowed mass under these assumptions.\n",
    "\n",
    "> Is this mass less or more than the previous? Qualitatively, what lead to the change in the maximum mass from looking at the R-M profile?"
   ]
  },
  {
   "cell_type": "code",
   "execution_count": null,
   "id": "001f0560-95b8-4189-b0b1-d1a32c7f86b3",
   "metadata": {
    "tags": []
   },
   "outputs": [],
   "source": [
    "ns2 = Integrator(rhs_tov, rhs_args=[rho_deg],\n",
    "                 stop_cond=[(\"LT\", 0.0), (\"LT\", 0.0)])\n",
    "\n",
    "R_max = 5.e6\n",
    "N = 1000\n",
    "\n",
    "# my vector is [m, p]\n",
    "mass_ns2 = []\n",
    "radius_ns2 = []\n",
    "for rhoc in np.logspace(np.log10(5.e14), np.log10(5.e16), 100):\n",
    "\n",
    "    Pc = pres_deg(rhoc)\n",
    "\n",
    "    sol = ns2.integrate([0.0, Pc], R_max/N, R_max)\n",
    "\n",
    "    mass_ns2.append(sol[\"y0\"][-1]/2.e33)\n",
    "    radius_ns2.append(sol[\"x\"][-1]/1.e5)"
   ]
  },
  {
   "cell_type": "code",
   "execution_count": null,
   "id": "92f7d1e5",
   "metadata": {},
   "outputs": [],
   "source": [
    "# c results here"
   ]
  },
  {
   "cell_type": "markdown",
   "id": "6a7b60bf-e49f-4214-a9ea-969a5dccd3e7",
   "metadata": {},
   "source": [
    "Now, adding GR, we see that there is a maximum mass for the neutron star, but it is quite low."
   ]
  },
  {
   "cell_type": "markdown",
   "id": "a7948bd5-019b-4233-882b-aad6e08f1eec",
   "metadata": {},
   "source": [
    "## d - Case III: GR gravity (TOV) + nuclear EOS\n",
    "\n",
    "Next, let's use a more accuracte equation of state using an analtical form for the nuclear EoS defined above. \n",
    "\n",
    "\n",
    "1. Evaluate the cell below, plot the result.\n",
    "2. Compute the maximum NS mass allowed under these assumptions.\n",
    "\n",
    "> Qualitatively describe the new M-R profile when changing the EoS compared to the previous profile in c. "
   ]
  },
  {
   "cell_type": "code",
   "execution_count": null,
   "id": "620ee62e-7fd0-4451-afa7-dbe2f8a856bd",
   "metadata": {
    "tags": []
   },
   "outputs": [],
   "source": [
    "ns3 = Integrator(rhs_tov, rhs_args=[rho_nuc],\n",
    "                 stop_cond=[(\"LT\", 0.0), (\"LT\", 0.0)])\n",
    "\n",
    "R_max = 5.e6\n",
    "N = 1000\n",
    "\n",
    "# my vector is [m, p]\n",
    "mass_ns3 = []\n",
    "radius_ns3 = []\n",
    "for rhoc in np.logspace(np.log10(5.e14), np.log10(5.e16), 100):\n",
    "\n",
    "    Pc = pres_nuc(rhoc)\n",
    "\n",
    "    sol = ns3.integrate([0.0, Pc], R_max/N, R_max)\n",
    "\n",
    "    mass_ns3.append(sol[\"y0\"][-1]/2.e33)\n",
    "    radius_ns3.append(sol[\"x\"][-1]/1.e5)"
   ]
  },
  {
   "cell_type": "code",
   "execution_count": null,
   "id": "ede32774-56a2-46c0-91f4-46948f24705b",
   "metadata": {
    "tags": []
   },
   "outputs": [],
   "source": [
    "# d results here"
   ]
  },
  {
   "cell_type": "markdown",
   "id": "61ace2fd-8624-480d-8105-6d684fcb650c",
   "metadata": {
    "tags": []
   },
   "source": [
    "In this final case, we get a much more reasonable maximum neutron star mass.  We also see that\n",
    "for some values of radius there are multiple masses (the M-R relation is double-valued) -- this is okay.\n",
    "However, at the very highest central densities, we get a smaller mass than the maximum at a smaller radius -- that is not physical, and is dynamically unstable."
   ]
  },
  {
   "cell_type": "markdown",
   "id": "629fe215",
   "metadata": {},
   "source": [
    "## e - The impact of the compressibility modulus \n",
    "\n",
    "1. Plot the results of `c` and `d` on the same plot.\n",
    "2. Looking only at the respective maximum mass for each profile, label which relation suggests a \"softer\" EoS and which suggests a \"stiffer\" EoS.\n",
    "\n",
    "> Qualitatively describe the difference between the \"softer\" and \"stiffer\" EoS, what that means for the incompressibility of the matter and the maximum mass."
   ]
  }
 ],
 "metadata": {
  "kernelspec": {
   "display_name": "Python 3 (ipykernel)",
   "language": "python",
   "name": "python3"
  },
  "language_info": {
   "codemirror_mode": {
    "name": "ipython",
    "version": 3
   },
   "file_extension": ".py",
   "mimetype": "text/x-python",
   "name": "python",
   "nbconvert_exporter": "python",
   "pygments_lexer": "ipython3",
   "version": "3.11.8"
  }
 },
 "nbformat": 4,
 "nbformat_minor": 5
}
