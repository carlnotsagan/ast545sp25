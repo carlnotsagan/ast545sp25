{
 "cells": [
  {
   "cell_type": "markdown",
   "id": "308d9877-6dee-4c8b-92cd-8ee4d38ccc9a",
   "metadata": {},
   "source": [
    "# In-Class Assignment 25\n",
    "\n",
    "**Due by the end of the day, Wednesday 16 April, 2025**\n",
    "\n",
    "# Estimating $H_0$ from Type Ia Supernovae\n",
    "\n",
    "## Learning Objectives\n",
    "\n",
    "- Explore the Phillips Relation using observational data.\n",
    "- Practice plotting data with error bars and fitting to observational data.\n",
    "- Using results of fitted data to compute cosmological parameters. \n",
    "\n",
    "Credit: [Michael Zingale](https://github.com/zingale/)."
   ]
  },
  {
   "cell_type": "markdown",
   "id": "8b5a2e9d-d44a-45fb-b5f3-93fafea6eadb",
   "metadata": {},
   "source": [
    "Type Ia supernova are used as standardizable candles to measure cosmological distances.  By observing the lightcurve and measuring how long it takes for the supernova to dim we can empirically determine its brightness via the [Phillips relation](https://en.wikipedia.org/wiki/Phillips_relationship)."
   ]
  },
  {
   "cell_type": "markdown",
   "id": "6da9d224-4ebc-4d4a-8cdc-55be74958e6b",
   "metadata": {},
   "source": [
    "The paper [_Spectra and Hubble Space Telescope Light Curves of Six Type Ia Supernovae at 0.511 < z < 1.12 and the Union2 Compilation_](https://ui.adsabs.harvard.edu/abs/2010ApJ...716..712A/abstract) by Amanullah et al. made a [data set available](https://supernova.lbl.gov/Union/figures/SCPUnion2_mu_vs_z.txt) that has ~ 500 Type Ia supernovae."
   ]
  },
  {
   "cell_type": "markdown",
   "id": "b62c6367-56c3-439a-ab4c-e45577c105e0",
   "metadata": {},
   "source": [
    "```{note}\n",
    "That paper does a far, far more sophisticated analysis than we do, and they fit for other cosmological parameters that we will, so we will not get the same answer as they do.  But this is a fun dataset to try out regression with.\n",
    "```"
   ]
  },
  {
   "cell_type": "code",
   "execution_count": null,
   "id": "9b968220-f2f2-42d8-8217-4d3d8536d8ce",
   "metadata": {
    "tags": []
   },
   "outputs": [],
   "source": [
    "import numpy as np\n",
    "import matplotlib.pyplot as plt"
   ]
  },
  {
   "cell_type": "markdown",
   "id": "c0eb166a-16c3-417f-b353-7d3c10659c9f",
   "metadata": {},
   "source": [
    "The dataset has 4 columns:\n",
    "* supernova identifier\n",
    "* redshift, $z$, due to cosmological expansion\n",
    "* [distance modulus](https://en.wikipedia.org/wiki/Distance_modulus), $\\mu$, defined as:\n",
    "\n",
    "  $$\\mu = m - M = 5 \\log_{10} \\left (\\frac{d}{10~\\mbox{pc}}\\right )$$\n",
    "\n",
    "  where $m$ is the [apparent magnitude](https://en.wikipedia.org/wiki/Apparent_magnitude) of the\n",
    "  supernova (what we observe) and $M$ is the [absolute magnitiude](https://en.wikipedia.org/wiki/Absolute_magnitude) of the supernova (inferred empirically from the lightcurve).\n",
    "* uncertainty in $\\mu$"
   ]
  },
  {
   "cell_type": "markdown",
   "id": "afac03d2-0980-4c7e-bbb4-01c4ad2fd71d",
   "metadata": {},
   "source": [
    "## a. - Sort and plot the data\n",
    "\n",
    "Download the source data for this example [here](data/week13/SCPUnion2_mu_vs_z.txt).\n",
    "\n",
    "1. First, [sort](https://numpy.org/doc/2.2/reference/generated/numpy.argsort.html) the data by redshift `z`.\n",
    "2. Pass the indexing to create new arrays using the sorted indices.\n",
    "3. Plot the distance modulus ($\\mu$) vs. redshift ($z$) and the associated error.\n",
    "\n",
    "> Comment qualitatively on the observed trend in this plot. "
   ]
  },
  {
   "cell_type": "code",
   "execution_count": null,
   "id": "dbb8a5c5",
   "metadata": {},
   "outputs": [],
   "source": [
    "#data = np.genfromtxt(\"SCPUnion2_mu_vs_z.txt\",\n",
    "#                     dtype=[(\"name\", \"S6\"), (\"z\", \"f8\"), (\"mu\", \"f8\"), (\"dmu\", \"f8\")])"
   ]
  },
  {
   "cell_type": "code",
   "execution_count": null,
   "id": "d9dd604c-79a2-499f-8f35-e20eaaaaeeef",
   "metadata": {
    "tags": []
   },
   "outputs": [],
   "source": [
    "# a result here"
   ]
  },
  {
   "cell_type": "markdown",
   "id": "4c3034fb-047d-41ce-a0dc-6b5d5f181ca1",
   "metadata": {},
   "source": [
    "Now let's plot the distance modulus vs redshift"
   ]
  },
  {
   "cell_type": "code",
   "execution_count": null,
   "id": "ac2c40e9-97f1-478b-bf42-9590387e81ea",
   "metadata": {},
   "outputs": [],
   "source": [
    "# a plot here"
   ]
  },
  {
   "cell_type": "markdown",
   "id": "f1fe95fc-07c9-45bf-98ec-abefaa289730",
   "metadata": {
    "tags": []
   },
   "source": [
    "You can compare this result to Figure 9 from the paper mentioned [above](https://iopscience.iop.org/article/10.1088/0004-637X/716/1/712#apj341188f9)."
   ]
  },
  {
   "cell_type": "markdown",
   "id": "2cf9886d-d169-441c-90e5-e132b56d58f8",
   "metadata": {},
   "source": [
    "## b. - Producing a Hubble diagram\n",
    "\n",
    "We can also make a plot that looks a bit more like a [Hubble diagram](https://en.wikipedia.org/wiki/Hubble%27s_law#Hubble_diagram) by plotting redshift vs. distance,\n",
    "computing distance as:\n",
    "\n",
    "$$d = 10 \\cdot 10^{\\mu/5}~\\mathrm{pc}$$\n",
    "\n",
    "1. Compute the distance using the above equation.\n",
    "2. Plot the redshift as a function of the computed distance (in Gpc) using a scatter plot. \n",
    "\n",
    "> Comment qualitatively on the scatter at large distances. "
   ]
  },
  {
   "cell_type": "code",
   "execution_count": null,
   "id": "ef9ed66c-52fa-40bd-a2b9-37c5ef6c636f",
   "metadata": {
    "tags": []
   },
   "outputs": [],
   "source": [
    "# b result here"
   ]
  },
  {
   "cell_type": "markdown",
   "id": "e5e0d1cc-32a6-4f78-a6db-3e93d82d8415",
   "metadata": {},
   "source": [
    "This shows a linear relation between distance and redshift at low redshift."
   ]
  },
  {
   "cell_type": "markdown",
   "id": "0a813664-24a7-4252-84c9-c7c2435eebbd",
   "metadata": {},
   "source": [
    "## Cosmological parameters\n",
    "\n",
    "We have the [distance modulus](https://en.wikipedia.org/wiki/Distance_modulus), which is related to the magnitudes via:\n",
    "\n",
    "$$\\mu = m - M = 5 \\log_{10} \\left (\\frac{d}{10~\\mbox{pc}}\\right )$$\n",
    "\n",
    "Since cosmologists usually work in terms of Mpc, let's rewrite this as:\n",
    "\n",
    "$$\\mu = m - M = 5 \\log_{10} \\left (\\frac{d}{10~\\mbox{pc}}\\right ) \n",
    "    + 5 \\log_{10} \\left ( \\frac{1~\\mbox{Mpc}}{1~\\mbox{Mpc}}\\right )\n",
    "    = 5 \\log_{10} \\left (\\frac{d}{1~\\mbox{Mpc}}\\right ) + 25$$\n",
    "\n",
    "Now, in an expanding Universe, the distance that goes here is the [luminosity distance](https://en.wikipedia.org/wiki/Luminosity_distance) which can be expressed via an expansion in redshift as (for $z \\ll 1$):\n",
    "\n",
    "$$d_L \\approx \\frac{c}{H_0} \\left [ z + \\frac{1}{2} (1 - q_0) z^2 + \\ldots \\right ]$$\n",
    "\n",
    "Here $H_0$ is the [Hubble constant](https://en.wikipedia.org/wiki/Hubble%27s_law) and $q_0$ is the [deceleration parameter](https://en.wikipedia.org/wiki/Deceleration_parameter)."
   ]
  },
  {
   "cell_type": "markdown",
   "id": "bdc9322e-3565-4c32-80ce-e80ac8945c15",
   "metadata": {
    "tags": []
   },
   "source": [
    "**We'll try to estimate $H_0$ from this data.**\n",
    "\n",
    "\n",
    "This is different than what the original paper did&mdash;they used a value of $H_0$ to find a $\\Omega_m$ and $\\Omega_\\Lambda$ using the more general expression for luminosity distance given in [Perlmutter et al. 1997](https://ui.adsabs.harvard.edu/abs/1997ApJ...483..565P/abstract) (see footnote 14):\n",
    "\n",
    "$$d_L(z; \\Omega_M, \\Omega_\\Lambda, H_0) = \\frac{c(1+z)}{H_0 \\sqrt{|\\kappa|}} \n",
    "  S\\left ( \\sqrt{|\\kappa|} \\int_0^z \\left [(1 + z')^2(1 + \\Omega_M z') - z'(2 + z')\\Omega_\\Lambda\\right ]^{-1/2} dz' \\right )$$\n",
    "\n",
    "with $S(x)$ and $\\kappa$ defined as:\n",
    "\n",
    "* $\\Omega_M + \\Omega_\\Lambda > 1$: $S(x) = \\sin(x)$; $\\kappa = 1 - \\Omega_M - \\Omega_\\Lambda$\n",
    "* $\\Omega_M + \\Omega_\\Lambda = 1$: $S(x) = x$; $\\kappa = 1$\n",
    "* $\\Omega_M + \\Omega_\\Lambda < 1$: $S(x) = \\sinh(x)$; $\\kappa = 1 - \\Omega_M - \\Omega_\\Lambda$\n",
    "\n",
    "Using this definition would require us to combine integration and fitting."
   ]
  },
  {
   "cell_type": "markdown",
   "id": "154a2939-9daf-47cc-ae5f-58394c585713",
   "metadata": {
    "tags": []
   },
   "source": [
    "## c. - Fitting low redshift data to measure $H_{0}$\n",
    "\n",
    "We want to fit:\n",
    "\n",
    "$$\\mu = 5\\log_{10} \\left (\\frac{cz}{H_0 \\cdot 1~\\mbox{Mpc}} \\left [1 + \\frac{1}{2} (1 - q_0) z \\right ] \\right ) + 25$$\n",
    "\n",
    "which we'll write as:\n",
    "\n",
    "$$\\mu = 5\\log_{10} \\left (a_0 z \\left [1 + \\frac{1}{2} (1 - a_1) z \\right ] \\right ) + 25$$\n",
    "\n",
    "This is a nonlinear expression in terms of the fit parameters, $a_0$, $a_1$.  Once we get $a_0$, we can get Hubble's constant as:\n",
    "\n",
    "$$H_0 = \\frac{c}{a_0 \\cdot 1~\\mbox{Mpc}}$$\n",
    "\n",
    "\n",
    "1. First, use a mask to filter our data to only include data for $z < 0.2$.\n",
    "2. Plot the low redshift data as we did in part a. "
   ]
  },
  {
   "cell_type": "code",
   "execution_count": null,
   "id": "4ada29f9-7c09-42f3-8de9-3e9943308541",
   "metadata": {
    "tags": []
   },
   "outputs": [],
   "source": [
    "# c result here"
   ]
  },
  {
   "cell_type": "code",
   "execution_count": null,
   "id": "61504eec-beff-413c-b982-687b8069dfa4",
   "metadata": {
    "tags": []
   },
   "outputs": [],
   "source": [
    "# c result here"
   ]
  },
  {
   "cell_type": "markdown",
   "id": "a88f5950-5733-447f-88a1-fd8e30d108a1",
   "metadata": {
    "tags": []
   },
   "source": [
    "## d. - Fitting to the low redshift data\n",
    "\n",
    "\n",
    "We'll use the SciPy fitting [routine](https://docs.scipy.org/doc/scipy/reference/generated/scipy.optimize.least_squares.html) via method of [Least Squares](https://en.wikipedia.org/wiki/Least_squares) for this.  Let's start by writing the residual that the fit will use.\n",
    "\n",
    "```\n",
    "def resid(avec, z, mu, dmu):\n",
    "    return (mu - (5 * np.log10(avec[0] * z * (1 + 0.5 * (1 - avec[1]) * z)) + 25)) / dmu\n",
    "```\n",
    "\n",
    "1. import scipy optimize - `from scipy import optimize`\n",
    "2. define the above residual\n",
    "3. Pass the inital guess data to the scipy routine, including the errors on mu. \n",
    "4. Use the `[0]` result from the fit to find $H_0$.\n",
    "5. If there's time, plot the raw low redshift together, and overlay the estimated non-linear equation from c. and using the values returned from the fit. \n",
    "\n",
    "> Does your computed value agree with the paper?\n"
   ]
  },
  {
   "cell_type": "code",
   "execution_count": null,
   "id": "06b63781-01f8-467e-a447-b4c485312d50",
   "metadata": {
    "tags": []
   },
   "outputs": [],
   "source": [
    "#from scipy import optimize"
   ]
  },
  {
   "cell_type": "code",
   "execution_count": null,
   "id": "9a65d5f8-9840-4bc6-b9f6-9480efbb4908",
   "metadata": {
    "tags": []
   },
   "outputs": [],
   "source": [
    "#def resid(avec, z, mu, dmu):\n",
    "#    return (mu - (5 * np.log10(avec[0] * z * (1 + 0.5 * (1 - avec[1]) * z)) + 25)) / dmu"
   ]
  },
  {
   "cell_type": "markdown",
   "id": "81f21cf6-42d9-4c53-8494-ebc65e02c7e8",
   "metadata": {},
   "source": [
    "Now let's start with some initial guesses"
   ]
  },
  {
   "cell_type": "code",
   "execution_count": null,
   "id": "f1aaae1e-51df-4cb8-b6c4-10a73c74e27a",
   "metadata": {
    "tags": []
   },
   "outputs": [],
   "source": [
    "# imagine H0 = 50\n",
    "#c = 3.e5   # km/s \n",
    "#H0_guess = 50   # km/s/Mpc\n",
    "\n",
    "#a0 = c / H0_guess\n",
    "#a1 = 1"
   ]
  },
  {
   "cell_type": "code",
   "execution_count": null,
   "id": "c3ad6e70-0806-44e6-bfb2-0b4a3f5b2997",
   "metadata": {
    "tags": []
   },
   "outputs": [],
   "source": [
    "# d result here"
   ]
  },
  {
   "cell_type": "markdown",
   "id": "d7b5b076-4dc4-48b3-8a6c-e20c4c9bd0c0",
   "metadata": {
    "tags": []
   },
   "source": [
    "From this fit, we can recover the Hubble constant:"
   ]
  },
  {
   "cell_type": "code",
   "execution_count": null,
   "id": "f0fea532-9d95-4d5c-990c-656b95eed7db",
   "metadata": {
    "tags": []
   },
   "outputs": [],
   "source": [
    "# H_0 computed here"
   ]
  },
  {
   "cell_type": "markdown",
   "id": "29ba050f-e1c2-4e69-9c5f-f78dda9a2066",
   "metadata": {},
   "source": [
    "Finally, let's plot our fit"
   ]
  },
  {
   "cell_type": "code",
   "execution_count": null,
   "id": "6db06716-0d21-4a2f-8bd2-41654c41b978",
   "metadata": {
    "tags": []
   },
   "outputs": [],
   "source": [
    "# plot raw data and fit data"
   ]
  },
  {
   "cell_type": "markdown",
   "id": "06569c69-3b32-4368-92ae-014381290559",
   "metadata": {},
   "source": [
    "We should find a reasonable value of $H_0 = 69.6~\\mathrm{km/s/Mpc}$."
   ]
  },
  {
   "cell_type": "code",
   "execution_count": null,
   "id": "e1b36690",
   "metadata": {},
   "outputs": [],
   "source": []
  }
 ],
 "metadata": {
  "kernelspec": {
   "display_name": "Python 3 (ipykernel)",
   "language": "python",
   "name": "python3"
  },
  "language_info": {
   "codemirror_mode": {
    "name": "ipython",
    "version": 3
   },
   "file_extension": ".py",
   "mimetype": "text/x-python",
   "name": "python",
   "nbconvert_exporter": "python",
   "pygments_lexer": "ipython3",
   "version": "3.11.8"
  }
 },
 "nbformat": 4,
 "nbformat_minor": 5
}
