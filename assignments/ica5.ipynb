{
 "cells": [
  {
   "cell_type": "markdown",
   "id": "d98cf2f3-19b9-402b-9500-b9978572c98a",
   "metadata": {
    "user_expressions": []
   },
   "source": [
    "# In-Class Assignment 5\n",
    "\n",
    "**Credit: These exercises follow from work by Mike Zingale's computational lectures.**\n",
    "\n",
    "## EOS regimes\n",
    "\n",
    "We can look at the $\\rho$-$T$ plane to understand where each of the components of the EOS\n",
    "dominate."
   ]
  },
  {
   "cell_type": "code",
   "execution_count": null,
   "id": "75ae7460-62aa-4938-8540-6cc86840005d",
   "metadata": {
    "tags": []
   },
   "outputs": [],
   "source": [
    "import numpy as np\n",
    "import matplotlib.pyplot as plt"
   ]
  },
  {
   "cell_type": "markdown",
   "id": "d28a0566-b2ee-4132-95c5-571aa84231ed",
   "metadata": {
    "user_expressions": []
   },
   "source": [
    "Physical constants, all in CGS"
   ]
  },
  {
   "cell_type": "code",
   "execution_count": null,
   "id": "ef489742-6824-4902-8906-6d062c47679d",
   "metadata": {
    "tags": []
   },
   "outputs": [],
   "source": [
    "m_e = 9.11e-28\n",
    "m_u = 1.66e-24\n",
    "c = 3.e10\n",
    "k = 1.38e-16\n",
    "h = 6.63e-27\n",
    "a = 5.67e-15\n",
    "e = 4.8e-10 # esu\n",
    "\n",
    "# crystallization\n",
    "Gamma_C = 170"
   ]
  },
  {
   "cell_type": "markdown",
   "id": "d354f054-ae30-4273-87c2-61400ab71726",
   "metadata": {
    "user_expressions": []
   },
   "source": [
    "Some composition info.  We'll specify\n",
    "\n",
    "$$\\mu_e = \\left [ \\sum_k \\frac{Z_k X_k}{A_k} \\right ]^{-1}$$\n",
    "\n",
    "$$\\mu_I = \\left [ \\sum_k \\frac{X_k}{A_k} \\right ]^{-1}$$\n",
    "\n",
    "and $\\mu$ such that \n",
    "\n",
    "$$\\frac{1}{\\mu} = \\frac{1}{\\mu_e} + \\frac{1}{\\mu_I}$$"
   ]
  },
  {
   "cell_type": "markdown",
   "id": "3a6b669c",
   "metadata": {},
   "source": [
    "The model files are again:\n",
    "\n",
    "* $1 M_\\odot$: [M1_default_profile8.data](data/week2/M1_default_profile8.data); [M1_default_profile218.data](data/week2/M1_default_profile218.data); [M1_default_trimmed_history.data](data/week2/M1_default_trimmed_history.data)\n",
    "\n",
    "* $8 M_\\odot$: [M8_basic_co_profile8.data](data/week2/M8_basic_co_profile8.data); [M8_basic_co_profile39.data](data/week2/M8_basic_co_profile39.data); [M8_basic_co_trimmed_history.data](data/week2/M8_basic_co_trimmed_history.data)\n",
    "\n",
    "* $15 M_\\odot$: [M15_aprox21_profile8.data](data/week2/M15_aprox21_profile8.data); [M15_aprox21_profile19.data](data/week2/M15_aprox21_profile19.data); [M15_aprox21_trimmed_history.data](data/week2/M15_aprox21_trimmed_history.data)"
   ]
  },
  {
   "cell_type": "code",
   "execution_count": null,
   "id": "5cf8e9bb-a6f4-479e-9b9e-4b98e0fd5a77",
   "metadata": {
    "tags": []
   },
   "outputs": [],
   "source": [
    "mu_e = 2\n",
    "mu_I = 1.0\n",
    "\n",
    "mu = 1.0 / (1.0/mu_e + 1.0/mu_I)\n",
    "\n",
    "Z = 1.0"
   ]
  },
  {
   "cell_type": "markdown",
   "id": "275309cd-cc66-480b-8fbd-c7d2b4a77966",
   "metadata": {
    "user_expressions": []
   },
   "source": [
    "## Degeneracy vs. Ideal gas\n",
    "\n",
    "We find the (dimensionless) Fermi momentum ($x_F = p_F / (mc)$) via\n",
    "\n",
    "$$n_e = \\frac{\\rho}{\\mu_e m_u} = \\int_0^{x_F} x^2 dx$$\n",
    "\n",
    "where we assume complete degeneracy (so the distribution function is just a step-function).  This gives\n",
    "\n",
    "$$x_F = \\left ( \\frac{\\rho}{\\mu_e B} \\right )^{1/3}$$\n",
    "\n",
    "where the constant $B$ is:\n",
    "\n",
    "$$B = \\frac{8\\pi}{3} m_u \\left (\\frac{m_e c}{h} \\right )^3$$\n",
    "\n",
    "We then define the transition to degeracy by comparing to the thermal energy, $k T$\n",
    "\n",
    "$$E_F = m_e c^2 \\left ( \\sqrt{1 + x_F^2} - 1 \\right ) \\sim k T$$\n",
    "\n",
    "Here's a function that computes this line"
   ]
  },
  {
   "cell_type": "code",
   "execution_count": null,
   "id": "f1ac70e0-c55b-49c7-88c6-f265753806b2",
   "metadata": {
    "tags": []
   },
   "outputs": [],
   "source": [
    "# compute the constant B as defined above here\n",
    "\n",
    "# create a function that takes in a mu_e, and rho array\n",
    "# then, computes x_F, then returns T for E_F = kT"
   ]
  },
  {
   "cell_type": "code",
   "execution_count": null,
   "id": "a873cadb",
   "metadata": {},
   "outputs": [],
   "source": [
    "# create an array for rho here to evaluate this line\n",
    "# rho = np.logspace(-5, 10,###"
   ]
  },
  {
   "cell_type": "markdown",
   "id": "1f7f3a13-56a4-4f3d-8e9e-c69f72731bae",
   "metadata": {
    "user_expressions": []
   },
   "source": [
    "## Ideal gas vs. radiation\n",
    "\n",
    "A simple way to determine whether an ideal case or radiation dominates is to set their energy densities equal.\n",
    "At the temperatures where we expect this to occur, we will assume that the electrons are not degenerate,\n",
    "so we will use the full $\\mu$ for the composition in the ideal gas instead of $\\mu_I$.\n",
    "\n",
    "Our line is:\n",
    "\n",
    "$$\\frac{\\rho k T}{\\mu m_u} \\sim \\frac{1}{3}a T^4$$\n",
    "\n",
    "Here's a function that computes this"
   ]
  },
  {
   "cell_type": "code",
   "execution_count": null,
   "id": "6b2169f2-7dc1-47b3-ad8f-bc0fabffa87f",
   "metadata": {
    "tags": []
   },
   "outputs": [],
   "source": [
    "# create a function here that takes in rho and mu and returns T "
   ]
  },
  {
   "cell_type": "markdown",
   "id": "6bded220-45a1-4ea0-b24f-93ef6a50a094",
   "metadata": {
    "user_expressions": []
   },
   "source": [
    "Finally, at low temperatures and high densities, the ions can crystalize.  The comparison where is the thermal energy to the Coulomb energy:\n",
    "\n",
    "$$\\Gamma = \\frac{kT}{Z^2 e^2 / a}$$\n",
    "\n",
    "where we take $\\Gamma = 170$ as the point where crystalization sets in.\n",
    "\n",
    "The separation between ions, $a$ is found via:\n",
    "\n",
    "$$V = n_I^{-1} = \\frac{\\mu_I m_u}{\\rho} = \\frac{4\\pi}{3} a^3$$\n",
    "\n",
    "Putting this together, the expression for the boundary of crystalization is computed below"
   ]
  },
  {
   "cell_type": "code",
   "execution_count": null,
   "id": "a6fd908a-25e2-431d-90d5-d35942187976",
   "metadata": {
    "tags": []
   },
   "outputs": [],
   "source": [
    "def crystallization(rho):\n",
    "    \"\"\"temperature where crystallization of ions sets in\"\"\"\n",
    "\n",
    "    T = ((rho / mu_I) * (Z**2 * e**2 / (Gamma_C * k))**3 * (4.0 * np.pi / 3.0 / \n",
    "m_u))**(1./3.)\n",
    "    return T"
   ]
  },
  {
   "cell_type": "markdown",
   "id": "2d5d1347-9540-4522-b545-b837d9db6a9a",
   "metadata": {
    "user_expressions": []
   },
   "source": [
    "## Plotting the boundaries\n",
    "\n",
    "Plot and label the three lines defined above. Label the _radiation dominated_, _ideal gas_, the electron degenerate regime (including a line denoting the density from non-relativistic to relativistic regimes), and lastly, label the crystallization regime. "
   ]
  },
  {
   "cell_type": "code",
   "execution_count": null,
   "id": "c8ded215-f027-4cad-b0df-0accb322a605",
   "metadata": {
    "tags": []
   },
   "outputs": [],
   "source": [
    "#fig = plt.figure()\n",
    "#ax = fig.add_subplot(111)\n",
    "\n",
    "#ax.plot(rho, ###"
   ]
  },
  {
   "cell_type": "markdown",
   "id": "9166e14d",
   "metadata": {},
   "source": [
    "## Plotting the boundaries + MESA\n",
    "\n",
    "Here, produce the same plot but overlay the results of the 1M MESA stellar model history data from ICA4. \n",
    "\n",
    "To plot the results all on the same plot, you will need to match the size of rho to the number of points for MESA. \n",
    "\n",
    "One strategy would be to\n",
    "\n",
    "1. load the MESA data using pandas, \n",
    "2. find the number of cells, \n",
    "3. then create a new rho array for use with the above functions that matches the size of the history central $\\rho$ array."
   ]
  },
  {
   "cell_type": "code",
   "execution_count": null,
   "id": "57962716",
   "metadata": {},
   "outputs": [],
   "source": [
    "#fig = plt.figure()\n",
    "#ax = fig.add_subplot(111)\n",
    "\n",
    "#ax.plot(rho, ###"
   ]
  }
 ],
 "metadata": {
  "kernelspec": {
   "display_name": "Python 3 (ipykernel)",
   "language": "python",
   "name": "python3"
  },
  "language_info": {
   "codemirror_mode": {
    "name": "ipython",
    "version": 3
   },
   "file_extension": ".py",
   "mimetype": "text/x-python",
   "name": "python",
   "nbconvert_exporter": "python",
   "pygments_lexer": "ipython3",
   "version": "3.11.8"
  }
 },
 "nbformat": 4,
 "nbformat_minor": 5
}
