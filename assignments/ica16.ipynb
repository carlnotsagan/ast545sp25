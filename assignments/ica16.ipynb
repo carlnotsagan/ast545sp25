{
 "cells": [
  {
   "cell_type": "markdown",
   "metadata": {},
   "source": [
    "# In-Class Assignment 16\n",
    "\n",
    "**In-Class Only, Not Submitted for Credit**\n",
    "\n",
    "## Case A Binary Star System\n",
    "\n",
    "$M_{1}=10M_{\\odot}$\n",
    "\n",
    "$M_{2}=8.9M_{\\odot}$\n",
    "\n",
    "$P_{i}=2.2$ days\n",
    "\n",
    "_example based on the `$MESA_DIR/binary/test_suite/evolve_both_stars` example in MESA_\n",
    "\n",
    "### Learning Objectives\n",
    "\n",
    "- identify the various phases of mass transfer in a binary star system\n",
    "- gain a qualitative understanding of Case A evolution in the HR diagram\n",
    "- compare the analytical decay of the orbit to a MESA calculation"
   ]
  },
  {
   "cell_type": "markdown",
   "metadata": {},
   "source": [
    "Download the following model files locally. \n",
    "\n",
    "* $M_{1}=10M_{\\odot}$: [m1_history.data](data/week10/m1_history.data);\n",
    "\n",
    "* $M_{2}=8.9M_{\\odot}$: [m2_history.data](data/week10/m2_history.data);\n",
    "\n",
    "* Binary history data: [binary_history.data](data/week10/binary_history.data);"
   ]
  },
  {
   "cell_type": "markdown",
   "metadata": {},
   "source": [
    "## a. - Identifying Various Phases of Mass Transfer\n",
    "\n",
    "Using the history data for the primary and secondary, \n",
    "\n",
    "1. **Plot** a mass - radius diagram with both models on the same plot ($M/M_{\\rm{ZAMS}}$ vs log $(R/R_{\\odot})$)\n",
    "2. **Label** - the phase start of ZAMS (A) to the filling of the Roche lobe of the primary (B) using plt.annotate or similar. You can do this via inspection or looking at ` rl_relative_overflow_1` in the binary data. \n",
    "2. **Label** the beginning of the mass transfer phase with annotation (C) and the end of the phase, (D), using plt.annotate or similar. \n",
    "\n",
    "B/C will overlap. \n",
    "\n",
    "> What can we infer is the limiting timescale for the mass transfer phase from C to D?"
   ]
  },
  {
   "cell_type": "code",
   "execution_count": null,
   "metadata": {},
   "outputs": [],
   "source": [
    "## a results here"
   ]
  },
  {
   "cell_type": "markdown",
   "metadata": {},
   "source": [
    "`a` qualitative response here"
   ]
  },
  {
   "cell_type": "markdown",
   "metadata": {},
   "source": [
    "## b. -  Case A in the HR \n",
    "\n",
    "Using the same data, \n",
    "\n",
    "1. **Plot** an HR diagram for the primary and secondary and label them. \n",
    "2. **Label** the beginning and end of mass transfer phase via first RLOF as in the previous problem. \n",
    "\n",
    "> What is the luminosity response of the primary during the first RLOF? What about the secondary?"
   ]
  },
  {
   "cell_type": "code",
   "execution_count": null,
   "metadata": {},
   "outputs": [],
   "source": [
    "## b results here"
   ]
  },
  {
   "cell_type": "markdown",
   "metadata": {},
   "source": [
    "`b` qualitative response here"
   ]
  },
  {
   "cell_type": "markdown",
   "metadata": {},
   "source": [
    "## c. - Decay of the Period of the Binary\n",
    "\n",
    "Using the binary history data,\n",
    "\n",
    "1. **Plot** the period in days of the system (`period_days`) as a function of model number or log age. \n",
    "\n",
    "Using Kepler's Laws, we can make an estimate for the orbital decay (assuming a conservative system with $\\dot{J}$=0) - Eqn. 7.11 in Pols as\n",
    "\n",
    "$$\n",
    "\\frac{P}{P_{i}} = \\left ( \\frac{ M_{1,i} }{ M_{1} } \\frac{ M_{2,i} }{ M_{2} } \\right )^{3}.\n",
    "$$\n",
    "\n",
    "2. Using the above equation, plot the decay of the period on the same plot of 1. \n",
    "\n",
    "> Does the computed period decay match the estimate? If not, what does this suggest about $\\dot{J}$. Looking briefly at the history data can you identify a dominant source of angular momentum loss?"
   ]
  },
  {
   "cell_type": "code",
   "execution_count": null,
   "metadata": {},
   "outputs": [],
   "source": [
    "## c results here"
   ]
  },
  {
   "cell_type": "markdown",
   "metadata": {},
   "source": [
    "`c` qualitative response here"
   ]
  }
 ],
 "metadata": {
  "kernelspec": {
   "display_name": "Python 3 (ipykernel)",
   "language": "python",
   "name": "python3"
  },
  "language_info": {
   "codemirror_mode": {
    "name": "ipython",
    "version": 3
   },
   "file_extension": ".py",
   "mimetype": "text/x-python",
   "name": "python",
   "nbconvert_exporter": "python",
   "pygments_lexer": "ipython3",
   "version": "3.11.8"
  }
 },
 "nbformat": 4,
 "nbformat_minor": 4
}
