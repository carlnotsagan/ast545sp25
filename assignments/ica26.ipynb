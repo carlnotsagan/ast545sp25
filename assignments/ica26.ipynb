{
 "cells": [
  {
   "cell_type": "markdown",
   "metadata": {
    "user_expressions": []
   },
   "source": [
    "# In-Class Assignment 26\n",
    "\n",
    "**Note due for credit, in-class participation only**\n",
    "\n",
    "## Low-mass and Intermediate-mass star models in MESA\n",
    "\n",
    "### Learning Objectives\n",
    "\n",
    "- compare the Schonberg-Chandrasekhar limit to models of low mass and intermediate mass stars\n",
    "- compare luminsity relations for low and intermediate mass stars\n",
    "- explore the properties of the blue loops between models\n",
    "- explore the onset of the first dredge up across models\n",
    "- develop a qualitative understanding of a star post main-sequence"
   ]
  },
  {
   "cell_type": "code",
   "execution_count": null,
   "metadata": {
    "tags": []
   },
   "outputs": [],
   "source": [
    "import numpy as np\n",
    "import matplotlib.pyplot as plt\n",
    "import pandas as pd"
   ]
  },
  {
   "cell_type": "markdown",
   "metadata": {
    "user_expressions": []
   },
   "source": [
    "Download the following model files locally. These data were produced using the `7M_prems_to_AGB` test suite. \n",
    "\n",
    "* $1 M_{\\odot}$: [1m_history.data](data/week2/M1_default_trimmed_history.data);\n",
    "\n",
    "* $5 M_{\\odot}$: [5m_history.data](data/week13/5m_history.data);"
   ]
  },
  {
   "cell_type": "code",
   "execution_count": null,
   "metadata": {},
   "outputs": [],
   "source": [
    "# load data and see which variables are available\n",
    "#low_mass_history = pd.read_csv('1m_history.data',sep=r'\\s+',header=4)\n",
    "#low_mass_history.columns"
   ]
  },
  {
   "cell_type": "markdown",
   "metadata": {},
   "source": [
    "## a. - Schonberg-Chandrasekhar limit\n",
    "\n",
    "Using the $1M_{\\odot}$ MESA history dataset: \n",
    "\n",
    "1. Compute the core mass ratio to the total mass ($M_{core}/M_{total}$) for comparison to the Schonberg-Chandrasekhar limit as a function of model number:\n",
    "\n",
    "$$\n",
    "\\frac{M_{\\rm{core}}}{M} \\lt q_{\\rm{SC}} = 0.37 \\left ( \\frac{\\mu_{\\rm{env}}}{\\mu_{\\rm{core}}} \\right )^{2} \\approx 0.10~,\n",
    "$$\n",
    "\n",
    "2. On the same plot, plot the center he4 mass fraction as a function of model number. Label the lines separately with a legend. \n",
    "\n",
    "3. Plot a horizontal line for a value of 0.10, a typical value for a helium core with $\\mu_{\\rm{core}}=1.3$ and a H-rich envelope. \n",
    "\n",
    "4. Lastly, on the same plot, plot these quantities for the $5M_{\\odot}$ model.\n",
    "\n",
    "> If the two models have different ratios at the point of core He-ignition, explain this difference. Namely, why is one model able to reach a larger ratio?"
   ]
  },
  {
   "cell_type": "code",
   "execution_count": null,
   "metadata": {},
   "outputs": [],
   "source": [
    "## a results here"
   ]
  },
  {
   "cell_type": "markdown",
   "metadata": {},
   "source": [
    "## b - Core Mass Luminosity Relation in Low mass Red Giants\n",
    "\n",
    "1. Compute an HR diagram for the $1M_{\\odot}$ model.\n",
    "\n",
    "2. Creat a function to estimate the luminosity using the core-mass luminosity for low mass stars:\n",
    "\n",
    "$$\n",
    "L \\approx 2.3\\times 10^{5} L_{\\odot} \\left ( \\frac{M_{\\rm{core}}}{M_{\\odot}} \\right )^{6}\n",
    "$$\n",
    "\n",
    "3. Plot the estimated luminosity on the same HR diagram as a vertical line using the core mass at the start of He-ignition. \n",
    "\n",
    "Hint: You can estimate the helium core mass at He-ignition using the plot from `a` and the estimated model number. \n",
    "\n",
    ">Does the value match the luminosity in the HR diagram?"
   ]
  },
  {
   "cell_type": "code",
   "execution_count": null,
   "metadata": {},
   "outputs": [],
   "source": [
    "## b results here"
   ]
  },
  {
   "cell_type": "markdown",
   "metadata": {},
   "source": [
    "## c. - the blue loop\n",
    "\n",
    "1. Plot an HR diagram for the 5 $M_{\\odot}$ model. \n",
    "\n",
    "2. Label the approximate location of the [blue loop](https://en.wikipedia.org/wiki/Blue_loop).\n",
    "\n",
    "3. Compute the fraction of time a star spends in the blue loop region of the HRD relative to the main-sequence lifetime. That is, compute roughly $\\tau_{He}/\\tau{MS}$ and answer the following:\n",
    "\n",
    "> Given the value found for 3. above, are these stars likely to be observed in the blue loop?\n",
    "\n",
    "Compare with Figure 1.1 from Pols. "
   ]
  },
  {
   "cell_type": "code",
   "execution_count": null,
   "metadata": {},
   "outputs": [],
   "source": [
    "# c result here"
   ]
  },
  {
   "cell_type": "markdown",
   "metadata": {},
   "source": [
    "## d. - the first dredge up\n",
    "\n",
    "1. Plot the surface he4 mass fraction as a function of model number to locate the approximate model number ranges at which the surface is _first_ enriched via the first dredge up for both models.\n",
    "\n",
    "2. Use mesaPlot to plot Kippenhahn diagrams for both models. Then, using this information, answer the following:\n",
    "\n",
    "> Say in words where the first dredge up occurs in this models - at what evolutionary epochs?\n",
    "\n",
    "**Reminder:** mesaPlot looks into a folder called `LOGS` for a file named `history.data`. So, you will need to create this folder then rename the file names making the Kipps one at a time. "
   ]
  },
  {
   "cell_type": "code",
   "execution_count": null,
   "metadata": {},
   "outputs": [],
   "source": [
    "# d result here"
   ]
  },
  {
   "cell_type": "code",
   "execution_count": null,
   "metadata": {},
   "outputs": [],
   "source": [
    "## first kipp here\n",
    "#import mesaPlot as mp\n",
    "#m=mp.MESA()\n",
    "#p=mp.plot()\n",
    "#m.loadHistory('LOGS')\n",
    "#p.plotKip(m)"
   ]
  },
  {
   "cell_type": "code",
   "execution_count": null,
   "metadata": {},
   "outputs": [],
   "source": [
    "## second kipp here"
   ]
  },
  {
   "cell_type": "markdown",
   "metadata": {},
   "source": [
    "Response to `c` here. "
   ]
  }
 ],
 "metadata": {
  "kernelspec": {
   "display_name": "Python 3 (ipykernel)",
   "language": "python",
   "name": "python3"
  },
  "language_info": {
   "codemirror_mode": {
    "name": "ipython",
    "version": 3
   },
   "file_extension": ".py",
   "mimetype": "text/x-python",
   "name": "python",
   "nbconvert_exporter": "python",
   "pygments_lexer": "ipython3",
   "version": "3.11.8"
  }
 },
 "nbformat": 4,
 "nbformat_minor": 4
}
