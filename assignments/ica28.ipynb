{
 "cells": [
  {
   "cell_type": "markdown",
   "metadata": {
    "user_expressions": []
   },
   "source": [
    "# In-Class Assignment 28\n",
    "\n",
    "**Note due for credit, in-class participation only**\n",
    "\n",
    "## Wolf-Rayet Stars\n",
    "\n",
    "### Learning Objectives\n",
    "\n",
    "- compare the Schonberg-Chandrasekhar limit to models of low mass and intermediate mass stars\n",
    "- compare luminsity relations for low and intermediate mass stars"
   ]
  },
  {
   "cell_type": "code",
   "execution_count": null,
   "metadata": {
    "tags": []
   },
   "outputs": [],
   "source": [
    "import numpy as np\n",
    "import matplotlib.pyplot as plt\n",
    "import pandas as pd"
   ]
  },
  {
   "cell_type": "markdown",
   "metadata": {
    "user_expressions": []
   },
   "source": [
    "Download the following model files locally. These data were produced using the `80m_zams_to_cc` test suite. \n",
    "\n",
    "* $80 M_{\\odot}$: [80m_zams_to_cc_history.data](data/week14/80m_zams_to_cc_history.data);"
   ]
  },
  {
   "cell_type": "code",
   "execution_count": null,
   "metadata": {},
   "outputs": [],
   "source": [
    "# load data and see which variables are available\n",
    "#history = pd.read_csv('80m_zams_to_cc_history.data',sep=r'\\s+',header=4)\n",
    "#history.head(10)"
   ]
  },
  {
   "cell_type": "markdown",
   "metadata": {},
   "source": [
    "## a. - Mass loss evolution of WR stars\n",
    "\n",
    "Using the $80M_{\\odot}$ MESA history dataset: \n",
    "\n",
    "1. Plot an HR diagram of the model as a scatter plot, but color the data according to the `log_abs_mdot` value at a given HR data pair using the `colored_line` routine below.\n",
    "\n",
    "> At what point does the star lose the most mass?\n",
    "\n",
    "This model passes the HD limit at about $log(T_{\\rm{eff}})\\lt4.2$. Mask the data to only the data below those temperatures and with extreme mass loss $\\dot{M}\\gt-4 M_{\\odot}$/yr. \n",
    "\n",
    "2. Then, estimate the average amount of time for this LBV outburst and the amount of material expelled over the duration of the burst.\n",
    "\n",
    "> After this outburst, what type of star (observationally - RSG/BSG/WR) does the model fallback to as it traverses the HR to higher effective temperature. "
   ]
  },
  {
   "cell_type": "code",
   "execution_count": null,
   "metadata": {},
   "outputs": [],
   "source": [
    "import warnings\n",
    "\n",
    "import matplotlib.pyplot as plt\n",
    "import numpy as np\n",
    "\n",
    "from matplotlib.collections import LineCollection\n",
    "\n",
    "\n",
    "def colored_line(x, y, c, ax, **lc_kwargs):\n",
    "    \"\"\"\n",
    "    Plot a line with a color specified along the line by a third value.\n",
    "\n",
    "    It does this by creating a collection of line segments. Each line segment is\n",
    "    made up of two straight lines each connecting the current (x, y) point to the\n",
    "    midpoints of the lines connecting the current point with its two neighbors.\n",
    "    This creates a smooth line with no gaps between the line segments.\n",
    "\n",
    "    Parameters\n",
    "    ----------\n",
    "    x, y : array-like\n",
    "        The horizontal and vertical coordinates of the data points.\n",
    "    c : array-like\n",
    "        The color values, which should be the same size as x and y.\n",
    "    ax : Axes\n",
    "        Axis object on which to plot the colored line.\n",
    "    **lc_kwargs\n",
    "        Any additional arguments to pass to matplotlib.collections.LineCollection\n",
    "        constructor. This should not include the array keyword argument because\n",
    "        that is set to the color argument. If provided, it will be overridden.\n",
    "\n",
    "    Returns\n",
    "    -------\n",
    "    matplotlib.collections.LineCollection\n",
    "        The generated line collection representing the colored line.\n",
    "    \"\"\"\n",
    "    if \"array\" in lc_kwargs:\n",
    "        warnings.warn('The provided \"array\" keyword argument will be overridden')\n",
    "\n",
    "    # Default the capstyle to butt so that the line segments smoothly line up\n",
    "    default_kwargs = {\"capstyle\": \"butt\"}\n",
    "    default_kwargs.update(lc_kwargs)\n",
    "\n",
    "    # Compute the midpoints of the line segments. Include the first and last points\n",
    "    # twice so we don't need any special syntax later to handle them.\n",
    "    x = np.asarray(x)\n",
    "    y = np.asarray(y)\n",
    "    x_midpts = np.hstack((x[0], 0.5 * (x[1:] + x[:-1]), x[-1]))\n",
    "    y_midpts = np.hstack((y[0], 0.5 * (y[1:] + y[:-1]), y[-1]))\n",
    "\n",
    "    # Determine the start, middle, and end coordinate pair of each line segment.\n",
    "    # Use the reshape to add an extra dimension so each pair of points is in its\n",
    "    # own list. Then concatenate them to create:\n",
    "    # [\n",
    "    #   [(x1_start, y1_start), (x1_mid, y1_mid), (x1_end, y1_end)],\n",
    "    #   [(x2_start, y2_start), (x2_mid, y2_mid), (x2_end, y2_end)],\n",
    "    #   ...\n",
    "    # ]\n",
    "    coord_start = np.column_stack((x_midpts[:-1], y_midpts[:-1]))[:, np.newaxis, :]\n",
    "    coord_mid = np.column_stack((x, y))[:, np.newaxis, :]\n",
    "    coord_end = np.column_stack((x_midpts[1:], y_midpts[1:]))[:, np.newaxis, :]\n",
    "    segments = np.concatenate((coord_start, coord_mid, coord_end), axis=1)\n",
    "\n",
    "    lc = LineCollection(segments, **default_kwargs)\n",
    "    lc.set_array(c)  # set the colors of each segment\n",
    "\n",
    "    return ax.add_collection(lc)\n"
   ]
  },
  {
   "cell_type": "code",
   "execution_count": null,
   "metadata": {},
   "outputs": [],
   "source": [
    "## a results here\n",
    "#cmap = 'magma'\n",
    "#fig, ax = plt.subplots()\n",
    "#ax.scatter(x, y, c=c, cmap=cmap)\n",
    "#ax.invert_xaxis()\n",
    "#lines = colored_line(x, y, c, ax, linewidth=1, cmap=\"plasma\")\n",
    "#fig.colorbar(lines)  # add a color legend\n",
    "#plt.show()"
   ]
  },
  {
   "cell_type": "markdown",
   "metadata": {},
   "source": [
    "## b. - WR subclasses\n",
    "\n",
    "1. Using a combination of the surface abundances of he4, c12, o16, n14 and hydrogen envelope mass fraction left (`envelope_fraction_left`- $X_{H}$) as a function of model number. \n",
    "\n",
    "2. Then, label the approximate model ranges over which the star pass through the various WR subtypes as described in page 178 of Pols. \n",
    "\n",
    "3. Repeat this step as a function of age if there is time available. \n",
    "\n",
    "> Of the available data given, in which subclass does this model appear to spend the majority of its lifetime?"
   ]
  },
  {
   "cell_type": "code",
   "execution_count": null,
   "metadata": {},
   "outputs": [],
   "source": [
    "# b result here"
   ]
  },
  {
   "cell_type": "markdown",
   "metadata": {},
   "source": [
    "## c. - Internal structure of WR stars\n",
    "\n",
    "1. Plot a Kipp of the model as a function of age and identify and again work to identify the subclasses the model evolves through over time. \n",
    "\n",
    ">Hint: compare with Pols Figure 12.4"
   ]
  },
  {
   "cell_type": "code",
   "execution_count": null,
   "metadata": {},
   "outputs": [],
   "source": [
    "# c result here"
   ]
  },
  {
   "cell_type": "code",
   "execution_count": null,
   "metadata": {},
   "outputs": [],
   "source": [
    "## first kipp here\n",
    "#import mesaPlot as mp\n",
    "#m=mp.MESA()\n",
    "#p=mp.plot()\n",
    "#m.loadHistory('LOGS')\n",
    "#p.plotKip3(m,xaxis='star_age',age_lookback=True,age_log=True)"
   ]
  }
 ],
 "metadata": {
  "kernelspec": {
   "display_name": "Python 3 (ipykernel)",
   "language": "python",
   "name": "python3"
  },
  "language_info": {
   "codemirror_mode": {
    "name": "ipython",
    "version": 3
   },
   "file_extension": ".py",
   "mimetype": "text/x-python",
   "name": "python",
   "nbconvert_exporter": "python",
   "pygments_lexer": "ipython3",
   "version": "3.11.8"
  }
 },
 "nbformat": 4,
 "nbformat_minor": 4
}
