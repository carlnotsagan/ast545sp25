{
 "cells": [
  {
   "cell_type": "markdown",
   "metadata": {
    "user_expressions": []
   },
   "source": [
    "# In-Class Assignment 7 \n",
    "\n",
    "## Exploring Conditions at the Photosphere"
   ]
  },
  {
   "cell_type": "code",
   "execution_count": 2,
   "metadata": {
    "tags": []
   },
   "outputs": [],
   "source": [
    "import numpy as np\n",
    "import matplotlib.pyplot as plt\n",
    "import pandas as pd"
   ]
  },
  {
   "cell_type": "markdown",
   "metadata": {},
   "source": [
    "We saw in HKT 4.3 that we can use the equation of HSE to calculate photospheric pressure as a function of $g$ and $\\tau$. \n",
    "\n",
    "Eq. 4.48 \n",
    "\n",
    "$$\n",
    "P(\\tau_{\\rm{P}}) = \\frac{2}{3}\\frac{g_{\\rm{S}}}{\\kappa_{\\rm{P}}} \\left ( 1 + \\frac{\\kappa_{\\rm{P}}\\mathcal{L}}{4 \\pi c G \\mathcal{M}} \\right )\n",
    "$$\n",
    "\n",
    "where $g_{\\rm{s}}=G \\mathcal{M}/\\mathcal{R^2}$\n",
    "\n",
    "and Eq. 4.54\n",
    "\n",
    "$$\n",
    "P(\\tau_{\\rm{P}}) \\approx \\frac{2}{3}\\frac{g_{\\rm{S}}}{\\kappa_{\\rm{P}}} \n",
    "$$\n",
    "\n"
   ]
  },
  {
   "cell_type": "markdown",
   "metadata": {
    "user_expressions": []
   },
   "source": [
    "The model files are again:\n",
    "\n",
    "* $1 M_\\odot$: [M1_default_profile8.data](data/week2/M1_default_profile8.data); [M1_default_profile218.data](data/week2/M1_default_profile218.data)\n",
    "\n",
    "* $15 M_\\odot$: [M15_aprox21_profile8.data](data/week2/M15_aprox21_profile8.data); [M15_aprox21_profile19.data](data/week2/M15_aprox21_profile19.data);"
   ]
  },
  {
   "cell_type": "markdown",
   "metadata": {
    "user_expressions": []
   },
   "source": [
    "## a \n",
    "\n",
    "Using your 1$M_{\\odot}$ solar mass model, try to find an evolutionary phase where the radiation pressure term will be largest, though still small compared to the gas pressure. Justify why you’ve chosen the evolutionary phase that you did. \n",
    "\n",
    "\n",
    "Plot both the gas pressure and radiation pressure term profiles at this epoch. How good of an approximation is Eq. 4.54?"
   ]
  },
  {
   "cell_type": "code",
   "execution_count": null,
   "metadata": {},
   "outputs": [],
   "source": [
    "## a results here"
   ]
  },
  {
   "cell_type": "markdown",
   "metadata": {
    "tags": []
   },
   "source": [
    "## b \n",
    "\n",
    "Now return to the 15$M_{\\odot}$ models. Find a profile where the radiation pressure term is significant. Plot both the gas pressure and radiation pressure term profiles at this epoch. How good of an approximation is Eq. 4.54? What about 4.48? "
   ]
  },
  {
   "cell_type": "code",
   "execution_count": null,
   "metadata": {},
   "outputs": [],
   "source": [
    "## b results here"
   ]
  },
  {
   "cell_type": "markdown",
   "metadata": {
    "tags": []
   },
   "source": [
    "## c\n",
    "\n",
    "Comment qualitatively on the impact of metallicity on the relative importance of the gas pressure vs radiation pressure terms."
   ]
  },
  {
   "cell_type": "markdown",
   "metadata": {},
   "source": []
  }
 ],
 "metadata": {
  "kernelspec": {
   "display_name": "Python 3 (ipykernel)",
   "language": "python",
   "name": "python3"
  },
  "language_info": {
   "codemirror_mode": {
    "name": "ipython",
    "version": 3
   },
   "file_extension": ".py",
   "mimetype": "text/x-python",
   "name": "python",
   "nbconvert_exporter": "python",
   "pygments_lexer": "ipython3",
   "version": "3.11.8"
  }
 },
 "nbformat": 4,
 "nbformat_minor": 4
}
